{
 "metadata": {
  "name": "",
  "signature": "sha256:f32b702ad7bf2e27976fe629b41b24551be04725ac370c7c65500d3ecee3dc01"
 },
 "nbformat": 3,
 "nbformat_minor": 0,
 "worksheets": [
  {
   "cells": [
    {
     "cell_type": "heading",
     "level": 1,
     "metadata": {},
     "source": [
      "Building an MNIST ConvNet in Optimus"
     ]
    },
    {
     "cell_type": "markdown",
     "metadata": {},
     "source": [
      "In this notebook, we'll walk through the processes of building a convolutional neural network using optimus step by step. To make the demonstration more applicable to a real research problem, we'll use the MNIST dataset.\n",
      "\n",
      "Conventions:\n",
      "* Each block is structured locally in three parts: (1) context, (2) code, and (3) a brief explanation.\n",
      "* Necessary code blocks are shown with line numbers, demonstration code blocks are not."
     ]
    },
    {
     "cell_type": "code",
     "collapsed": false,
     "input": [
      "# Global imports\n",
      "import random\n",
      "import matplotlib.pyplot as plt\n",
      "%matplotlib inline\n",
      "import seaborn\n",
      "import mpld3\n",
      "import numpy as np\n",
      "\n",
      "seaborn.set()\n",
      "np.set_printoptions(precision=4, suppress=True)\n",
      "mpld3.enable_notebook()\n",
      "\n",
      "import optimus"
     ],
     "language": "python",
     "metadata": {},
     "outputs": [],
     "prompt_number": 20
    },
    {
     "cell_type": "heading",
     "level": 3,
     "metadata": {},
     "source": [
      "1. Get the MNIST data."
     ]
    },
    {
     "cell_type": "markdown",
     "metadata": {},
     "source": [
      "One of the first successful applications of neural networks to \"real world problems\" came from Yann LeCun et al's work on hand-written digit recognition in the 1990's. Buzz around this problem was further stoked by the curation and dissemination of the data used, referred to simply as \"MNIST\". Interested readers can refer to the following choice selections: \n",
      "\n",
      "* http://yann.lecun.com/exdb/mnist/\n",
      "* http://yann.lecun.com/exdb/publis/pdf/lecun-98.pdf\n",
      "\n",
      "\n",
      "For those who would like to follow along, go ahead and download the pickled dataset from our friends at UMontreal, who have conveniently converted the data to a python-friendly format:\n",
      "\n",
      "http://deeplearning.net/data/mnist/mnist.pkl.gz\n",
      "\n",
      "No need to unzip the dataset; we'll build a data parser to unpack it directly."
     ]
    },
    {
     "cell_type": "code",
     "collapsed": false,
     "input": [
      "import gzip\n",
      "import cPickle\n",
      "\n",
      "def load_mnist(mnist_file):\n",
      "    \"\"\"Load the MNIST dataset into memory.\n",
      "\n",
      "    Parameters\n",
      "    ----------\n",
      "    mnist_file : str\n",
      "        Path to gzipped MNIST file.\n",
      "\n",
      "    Returns\n",
      "    -------\n",
      "    train, valid, test: tuples of np.ndarrays\n",
      "        Each consists of (data, labels), where data.shape=(N, 1, 28, 28) and\n",
      "        labels.shape=(N,).\n",
      "    \"\"\"\n",
      "    dsets = []\n",
      "    with gzip.open(mnist_file, 'rb') as fp:\n",
      "        for split in cPickle.load(fp):\n",
      "            n_samples = len(split[1])\n",
      "            data = np.zeros([n_samples, 1, 28, 28])\n",
      "            labels = np.zeros([n_samples], dtype=int)\n",
      "            for n, (x, y) in enumerate(zip(*split)):\n",
      "                data[n, ...] = x.reshape(1, 28, 28)\n",
      "                labels[n] = y\n",
      "            dsets.append((data, labels))\n",
      "\n",
      "    return dsets"
     ],
     "language": "python",
     "metadata": {},
     "outputs": [],
     "prompt_number": 2
    },
    {
     "cell_type": "markdown",
     "metadata": {},
     "source": [
      "A few comments before moving on...\n",
      "\n",
      "1. Note that the data is stored as three pairs of tuples: `data = [(X_train, y_train), (X_valid, y_valid), (X_test, y_test)]`\n",
      "2. Data is provided as a flat vector of coefficients, so these are reshaped on-load, in line 25.\n",
      "3. An additional (singleton) dimension is included during this reshape operation for convenience later. Try not to worry about it just yet.\n",
      "   \n"
     ]
    },
    {
     "cell_type": "code",
     "collapsed": false,
     "input": [
      "# let's load the data and take a look at some digits.\n",
      "train, valid, test = load_mnist(\"/Users/ejhumphrey/mnist/mnist.pkl.gz\")\n",
      "num_imgs = 5\n",
      "fig = plt.figure(figsize=(num_imgs*2, 2))\n",
      "for n, idx in enumerate(np.random.permutation(len(train[1]))[:num_imgs]):\n",
      "    ax = fig.add_subplot(101 + 10*num_imgs + n)\n",
      "    ax.imshow(\n",
      "        train[0][idx, 0], interpolation='nearest', \n",
      "        aspect='equal', cmap=plt.cm.hot)\n",
      "    ax.set_xlabel(\"{0}\".format(train[1][idx]))\n",
      "    ax.set_xticks([])    \n",
      "    ax.set_yticks([]);\n",
      "plt.tight_layout()"
     ],
     "language": "python",
     "metadata": {},
     "outputs": [
      {
       "html": [
        "\n",
        "\n",
        "<style>\n",
        "\n",
        "</style>\n",
        "\n",
        "<div id=\"fig_el5267944970788002460237180\"></div>\n",
        "<script>\n",
        "function mpld3_load_lib(url, callback){\n",
        "  var s = document.createElement('script');\n",
        "  s.src = url;\n",
        "  s.async = true;\n",
        "  s.onreadystatechange = s.onload = callback;\n",
        "  s.onerror = function(){console.warn(\"failed to load library \" + url);};\n",
        "  document.getElementsByTagName(\"head\")[0].appendChild(s);\n",
        "}\n",
        "\n",
        "if(typeof(mpld3) !== \"undefined\" && mpld3._mpld3IsLoaded){\n",
        "   // already loaded: just create the figure\n",
        "   !function(mpld3){\n",
        "       \n",
        "       mpld3.draw_figure(\"fig_el5267944970788002460237180\", {\"axes\": [{\"xlim\": [-0.5, 27.5], \"yscale\": \"linear\", \"axesbg\": \"#EAEAF2\", \"texts\": [{\"v_baseline\": \"hanging\", \"h_anchor\": \"middle\", \"color\": \"#262626\", \"text\": \"6\", \"coordinates\": \"axes\", \"zorder\": 3, \"alpha\": 1, \"fontsize\": 11.0, \"position\": [0.49999999999999989, -0.044093051543256823], \"rotation\": -0.0, \"id\": \"el526794497082064\"}], \"zoomable\": true, \"images\": [{\"coordinates\": \"data\", \"zorder\": 0, \"extent\": [-0.5, 27.5, 27.5, -0.5], \"alpha\": null, \"data\": \"iVBORw0KGgoAAAANSUhEUgAAAH8AAAB/CAYAAADGvR0TAAAABHNCSVQICAgIfAhkiAAAAsZJREFUeJzt3b1O6zAAQGGHMtFnY0eij1ck9j5bRigrtS1wLf8kPefb6HDbqyPLluMky0sI1yCkp9k/QPMYH8z4YMYHMz6Y8cGMD2Z8MOODGR/M+GDGBzM+mPHBjA9mfDDjgz3P/gEkn9Hfr9eCQ1SnJfno+NHm9zjywYwPZnww44MtHt1uY32PPjjnxtVXk+86LukisIYjH8z4YMYHc5OnQLo5028+D+Fw89dl+W7076Yc+WDGBzM+mPHBXPBFks2aEEI4t9oH+38x99bom0o48sGMD2Z8sKFz/prbHDndznutTqnkjNysuWQuvoycz0s48sGMD2Z8MOODjd3kOaWbGpeOC7xYusCrXdwdkk+OHa++9eLIBzM+mPHBHub0btWtUKWiW6Z6bkSN5MgHMz6Y8cGMD7bLkzztTts8xmZNLUc+mPHBjA+2izk/vf25dgPndo4nze85jnww44MZH8z4YLu4qrdWXaEbu4FTtSjt+IDFEo58MOODGR/M+GCb2+HL3s9XpN/uXfqbGj18KbMoXMO4I2OOfDDjgxkfbPqcn57KKZlP22zgxMe9Q+j9gMVtceSDGR/M+GDGB5u+4Mu/keJvtU+inn0/X7fNokqOfDDjgxkfbP6cX7GpU/Iww/wGTpsj3yUPTM7eUhb/Xz3Jo1mMD2Z8MOODTT+6XXYs+/5TOnXHvdPvKv6+gqPb8ZO4Zz+F25EPZnww44NtYJMnnmNzmz63n609VymZh0PXXJDxTRvaNOODGR/M+GDTN3nGvpu+n2Nmgbd1jnww44MZH2z6nB8ru4Wq5xogvbAz8pWvIznywYwPZnww44NtbsFXov5NGz51+zdHPpjxwYwPtss5P6fktM3WTs/O5sgHMz6Y8cGMD/YwCz7dz5EPZnww44MZH8z4YMYHMz6Y8cGMD2Z8MOODGR/M+GDGBzM+mPHBjA/2A75ehe2JQzR9AAAAAElFTkSuQmCC\", \"id\": \"el526794497206736\"}], \"xdomain\": [-0.5, 27.5], \"ylim\": [27.5, -0.5], \"paths\": [], \"sharey\": [], \"sharex\": [], \"axesbgalpha\": null, \"axes\": [{\"scale\": \"linear\", \"tickformat\": \"\", \"grid\": {\"gridOn\": false}, \"fontsize\": null, \"position\": \"bottom\", \"nticks\": 0, \"tickvalues\": []}, {\"scale\": \"linear\", \"tickformat\": \"\", \"grid\": {\"gridOn\": false}, \"fontsize\": null, \"position\": \"left\", \"nticks\": 0, \"tickvalues\": []}], \"lines\": [], \"markers\": [], \"id\": \"el526794497079760\", \"ydomain\": [27.5, -0.5], \"collections\": [], \"xscale\": \"linear\", \"bbox\": [0.027252394636015326, 0.13752394636015342, 0.15749521072796935, 0.78747605363984663]}, {\"xlim\": [-0.5, 27.5], \"yscale\": \"linear\", \"axesbg\": \"#EAEAF2\", \"texts\": [{\"v_baseline\": \"hanging\", \"h_anchor\": \"middle\", \"color\": \"#262626\", \"text\": \"4\", \"coordinates\": \"axes\", \"zorder\": 3, \"alpha\": 1, \"fontsize\": 11.0, \"position\": [0.49999999999999972, -0.044093051543256823], \"rotation\": -0.0, \"id\": \"el526794508164432\"}], \"zoomable\": true, \"images\": [{\"coordinates\": \"data\", \"zorder\": 0, \"extent\": [-0.5, 27.5, 27.5, -0.5], \"alpha\": null, \"data\": \"iVBORw0KGgoAAAANSUhEUgAAAH8AAAB/CAYAAADGvR0TAAAABHNCSVQICAgIfAhkiAAAA1dJREFUeJzt3D1oFEEAQOE5sdAcogQLwcJKBS0MoljaCIKVFtoLqaKtCieiQbTTylIQKwu1sLIRxNImRFAUJIUpRFHBH2IsDGdhtbMDtzfZvb3kva/bYW9u4DHscj/bmQihH4S0oe0FqD3GBzM+mPHBjA9mfDDjgxkfzPhgxgczPpjxwYwPZnww44MZH8z4YMYHMz6Y8cGMD2Z8sI1tL2AtOpEY2xodf0mc86yBtayGOx/M+GDGB/OaX8Hl6LjXf54461B0vLd0Rrfzsa4l1cKdD2Z8MOODGR/MG74Keg/ikfjmbm1y54MZH8z4YK1f83dExwv9R4mzdhUPHx4undE9U896NqUGj9Uz97hx54MZH8z4YMYHa/2Gb2EyHjk++EWnr5SGpsP1wvHdzPWcSg1u/5U523hz54MZH8z4YK1f8/NcLI1MRtd8DebOBzM+mPHBjA/W/g3ftz21TPOilllqdHO8fqad4s4HMz6Y8cFGes0/nxy9nTHT/tLIh4xZUg7WNM/P+D9eY8idD2Z8MOODGR9spDd86V9AHx1+orOLpaFPw8+SNAP6ctCdD2Z8MOODGR+sMxFCv6nJ40cSzfVLv9MOOZ/N9TtbSmNPouOTB4ae9r/5Kg9bquJxYuxNdPy1fMrUvYEzT70qHr+vvKYidz6Y8cGMD9boNX/pRjTQW27qrWqU+of+n5GvYhjdzuas17nzwYwPZnww44M1+61e70I08LfRt6tH6uYuZ90vK5xzJGPeEEK4lfm6Inc+mPHBjA/W8C953tUzzXL0RU7pQcghhEvFw6uJ70xis+cSg3cyP4iaLa5x+trgl+zMe6cwl/m6mDsfzPhgxgczPlij3+pti44nMuf5ER0vZc4TW0r92mc+dcNX4UOeE8Ubvu7TrCWNlDsfzPhgxgdr9EOe7wOO15WxeyjQYO58MOODGR/M+GDtP4Rxndj9u+0VDM+dD2Z8MOODec3Psa/8F/HPLSxjtdz5YMYHMz6Y8cHYN3ypx+YkvS4czbwtn7Gy6sWMnjsfzPhgxgdjX/NTv75ZKT/fZjF6oOD9ZlYzcu58MOODGR/M+GCN/l1L482dD2Z8MOODGR/M+GDGBzM+mPHBjA9mfDDjgxkfzPhgxgczPpjxwYwP9g/GBFQFqJmExQAAAABJRU5ErkJggg==\", \"id\": \"el526794508297232\"}], \"xdomain\": [-0.5, 27.5], \"ylim\": [27.5, -0.5], \"paths\": [], \"sharey\": [], \"sharex\": [], \"axesbgalpha\": null, \"axes\": [{\"scale\": \"linear\", \"tickformat\": \"\", \"grid\": {\"gridOn\": false}, \"fontsize\": null, \"position\": \"bottom\", \"nticks\": 0, \"tickvalues\": []}, {\"scale\": \"linear\", \"tickformat\": \"\", \"grid\": {\"gridOn\": false}, \"fontsize\": null, \"position\": \"left\", \"nticks\": 0, \"tickvalues\": []}], \"lines\": [], \"markers\": [], \"id\": \"el526794497123408\", \"ydomain\": [27.5, -0.5], \"collections\": [], \"xscale\": \"linear\", \"bbox\": [0.22425239463601535, 0.13752394636015342, 0.15749521072796932, 0.78747605363984663]}, {\"xlim\": [-0.5, 27.5], \"yscale\": \"linear\", \"axesbg\": \"#EAEAF2\", \"texts\": [{\"v_baseline\": \"hanging\", \"h_anchor\": \"middle\", \"color\": \"#262626\", \"text\": \"6\", \"coordinates\": \"axes\", \"zorder\": 3, \"alpha\": 1, \"fontsize\": 11.0, \"position\": [0.4999999999999995, -0.044093051543256823], \"rotation\": -0.0, \"id\": \"el526794508318544\"}], \"zoomable\": true, \"images\": [{\"coordinates\": \"data\", \"zorder\": 0, \"extent\": [-0.5, 27.5, 27.5, -0.5], \"alpha\": null, \"data\": \"iVBORw0KGgoAAAANSUhEUgAAAH8AAAB/CAYAAADGvR0TAAAABHNCSVQICAgIfAhkiAAAA7lJREFUeJztnU+ITVEcx+9FYh4rG0ImMiwUG1mMMiJZUDaUnWQhNkrNlETKyuw0FrJBSTY2WFDyryllQY0iFmgsxMLf29iMZzGrc86POXN679173/fz2Z1f5537q8/7dU6/d+99eU+WNTOQZFbZCUB5IF8Y5AuDfGGQLwzyhUG+MMgXZk7ZCXQLxTIvMG70zhbmzrDxq335xEDlC4N8YZAvDPKFqdyB77IRO9DhHKZj0AqOf/UCv8M5N73xjtbkkwqVLwzyhUG+MJXb81eWnYBBscYLvB4zZs3zxk+DGZdK3uN9qHxhkC8M8oVBvjA5t267PDdifc29XuTq9As9nh+EGluSUmobVL4wyBcG+cJUrsnTSYp1RnDsnRFcPP1i3h6/qmL7uwWVLwzyhUG+MMgXRurAV6z3Ai/eGrMiDnfZwSCy1jvgfYpNqkSofGGQLwzyhenaPT/Y37PM2OP9Z6z+xX1nNJpfD2aMR65UJah8YZAvDPKFQb4wXXMnzz1v3N98ZczqTVt8tvuLXeNP2jJVg8oXBvnCIF+YWjZ5thux/mafF+mNWOluEPmc7wliO2OSqiFUvjDIFwb5wiBfmFo2eYrmXCP6fcbr/MjDR6qWJORTV6h8YZAvDPKFqUWTZ3MQOZ+20FJ3jx9IW6VroPKFQb4wyBcG+cLUoslT7PMCNyYiPvUoiAzl7u9z+41PbfgSndb/eRmGBra642ctulQqVL4wyBcG+cIgX5jKHfgeGrGNzZRn7K6EoTeH3XHfbeNz2yLWTmTCuwW8p32XioHKFwb5wiBfmMrt+cUKI/g+pqlTBy46o0Z+rKQ8pqDyhUG+MMgXBvnC1OI2rs5iNIeyD954kTHnaMTaC5zRamOG9VrIdkHlC4N8YZAvTPWaPNbXcdL/e3L/r0tTCV+gvNt4weI3b/zE2t5HEhpRy41/4Po482VSofKFQb4wyBcG+cJUrsljveCwyE55kXMtutqmIHLrQnjgy46c9QLHE6836oxOdvBwZ0HlC4N8YZAvTOWaPBZB42fypzGrcscXA/fs0siHS8pjCipfGOQLg3xhkC9MHU5JQeOnyE4Ys1rV+EnF++3vTvg6xzO7OpRKJFS+MMgXBvnC1KLJ4zNoxE4/8AID7XzE61oQGcoPOeORNl69VVD5wiBfGOQLg3xhanngg9ZA5QuDfGGQLwzyhUG+MMgXBvnCIF8Y5AuDfGGQLwzyhUG+MMgXBvnCIF8Y5AuDfGGQLwzyhUG+MMgXBvnCIF8Y5AuDfGH+AqrXcGAZ0sgRAAAAAElFTkSuQmCC\", \"id\": \"el526794508024400\"}], \"xdomain\": [-0.5, 27.5], \"ylim\": [27.5, -0.5], \"paths\": [], \"sharey\": [], \"sharex\": [], \"axesbgalpha\": null, \"axes\": [{\"scale\": \"linear\", \"tickformat\": \"\", \"grid\": {\"gridOn\": false}, \"fontsize\": null, \"position\": \"bottom\", \"nticks\": 0, \"tickvalues\": []}, {\"scale\": \"linear\", \"tickformat\": \"\", \"grid\": {\"gridOn\": false}, \"fontsize\": null, \"position\": \"left\", \"nticks\": 0, \"tickvalues\": []}], \"lines\": [], \"markers\": [], \"id\": \"el526794508198352\", \"ydomain\": [27.5, -0.5], \"collections\": [], \"xscale\": \"linear\", \"bbox\": [0.42125239463601538, 0.13752394636015342, 0.15749521072796935, 0.78747605363984663]}, {\"xlim\": [-0.5, 27.5], \"yscale\": \"linear\", \"axesbg\": \"#EAEAF2\", \"texts\": [{\"v_baseline\": \"hanging\", \"h_anchor\": \"middle\", \"color\": \"#262626\", \"text\": \"5\", \"coordinates\": \"axes\", \"zorder\": 3, \"alpha\": 1, \"fontsize\": 11.0, \"position\": [0.4999999999999995, -0.044093051543256823], \"rotation\": -0.0, \"id\": \"el526794507969168\"}], \"zoomable\": true, \"images\": [{\"coordinates\": \"data\", \"zorder\": 0, \"extent\": [-0.5, 27.5, 27.5, -0.5], \"alpha\": null, \"data\": \"iVBORw0KGgoAAAANSUhEUgAAAH8AAAB/CAYAAADGvR0TAAAABHNCSVQICAgIfAhkiAAAA/xJREFUeJztnU2ITWEYx5/D+MhNzfiIbEiKfJcwKRFj4WNDIrshQ01Td2E3UgyRlIWdiGYhEo2FJqKsLZBmIWkUIVEo3fKVY8Hmfd7HnON1Pu69//9v9zw9571v/e7TeTsf74kmiMRCIBlV9gRIeVA+MJQPDOUDQ/nAUD4wlA8M5QND+cBQPjCUDwzlA0P5wFA+MJQPDOUDQ/nAUD4wlA8M5QND+cBQPjCUDwzlA0P5wFA+MC1lTyArxqt4rlGzW8VdBwJ/7LmfWjWQfNjn5GEKhZ0PDOUDQ/nAUD4wUb29n7/dyPWfUYmJRtEiFS/7ns2EMqXPDecd9Sq6n7pxf46zYecDQ/nAUD4wpZ/zX6p4cvzEqJpTxFT+sN7I7VDx/iImIiIilWhMbmOz84GhfGAoHxjKB6bQBd8rI9cWP1KZhSlGWullBqOHIVPy6DJyG1W8LXDsTddUYk3yMZWpgT+WAnY+MJQPDOUDk9k5f7aRG7qvEiv0+V0k1Tl+qXuhY91jv0T/FEmGnQ8M5QND+cBQPjDBj27raw9D742iKQFP01z372K1qgVePT6j04iw84GhfGAoH5jgizy1n3qkrM7En4zc24Bx9CO/IrLzXOJR7Vf93DMVfwmYTT3CzgeG8oGhfGAoH5jwBZ9e37U086WXmW545I1XceuwG/d5FSLGzchSYecDQ/nAUD4wlA9M8ILvuIqr94yitbuSB1p92Y31c9IiIr0pxvGwtmQ6GDBOKP6b9XeivU7caRxlXd/MC3Y+MJQPDOUDU/r7+XmxxMjpe3oLrPXF4CQj2atia/fGH2mm5bLBf2qpcvffhwmFnQ8M5QND+cBQPjBNu+DLkq0qrho1y+OxKlNLMfIlL3M66nTiQylGCYWdDwzlA0P5wPCcnxH69bUrRk17fENlNhtVt52oEm35j1mNDDsfGMoHhvKBoXxguOArkFq8WGUeJB7DXbdJLlA+MJQPDOUDQ/nAUD4wlA8M5QMTvAkjGZl9ZlY/Al4u7HxgKB8YygemIW/s1Ky/7Ck37DHeqLqYy2x+oz/93m9tUZRm36Jh90ZOJccvybLzgaF8YCgfGMoHpiEXfHo/IBGRanxeZWb5RR87nPCd8Sq+9VHWVhW3fzCK2maoxAujSHPWyxyLepz4RIpRQmHnA0P5wFA+MA15zrdQ13ikO7b+11+LmMrf+eZewDk5zi+xNmzOC3Y+MJQPDOUDQ/nANM2CTzPdyA3r/Zs7jKI9+kNqIv4Fo2l+yQV15eemMcqAG1tfoC0Sdj4wlA8M5QPTtOf8UOYbudEqfm3UWPd66h12PjCUDwzlA0P5wHDBBww7HxjKB4bygaF8YCgfGMoHhvKBoXxgfgEBSnzlJtv8BQAAAABJRU5ErkJggg==\", \"id\": \"el526794500937104\"}], \"xdomain\": [-0.5, 27.5], \"ylim\": [27.5, -0.5], \"paths\": [], \"sharey\": [], \"sharex\": [], \"axesbgalpha\": null, \"axes\": [{\"scale\": \"linear\", \"tickformat\": \"\", \"grid\": {\"gridOn\": false}, \"fontsize\": null, \"position\": \"bottom\", \"nticks\": 0, \"tickvalues\": []}, {\"scale\": \"linear\", \"tickformat\": \"\", \"grid\": {\"gridOn\": false}, \"fontsize\": null, \"position\": \"left\", \"nticks\": 0, \"tickvalues\": []}], \"lines\": [], \"markers\": [], \"id\": \"el526794507983760\", \"ydomain\": [27.5, -0.5], \"collections\": [], \"xscale\": \"linear\", \"bbox\": [0.61825239463601545, 0.13752394636015342, 0.15749521072796935, 0.78747605363984663]}, {\"xlim\": [-0.5, 27.5], \"yscale\": \"linear\", \"axesbg\": \"#EAEAF2\", \"texts\": [{\"v_baseline\": \"hanging\", \"h_anchor\": \"middle\", \"color\": \"#262626\", \"text\": \"7\", \"coordinates\": \"axes\", \"zorder\": 3, \"alpha\": 1, \"fontsize\": 11.0, \"position\": [0.49999999999999994, -0.044093051543256823], \"rotation\": -0.0, \"id\": \"el526794500958416\"}], \"zoomable\": true, \"images\": [{\"coordinates\": \"data\", \"zorder\": 0, \"extent\": [-0.5, 27.5, 27.5, -0.5], \"alpha\": null, \"data\": \"iVBORw0KGgoAAAANSUhEUgAAAH8AAAB/CAYAAADGvR0TAAAABHNCSVQICAgIfAhkiAAAA3lJREFUeJztnU+ITVEcx+8zNoyFhT9TNkSj1FCmxEJR/mSnKDX5kwmLsZVSKGRFkqZZCCtR9pMmC2WlLCQ2JiQbKQvNH7OgnvU99/Cu8+6b9+Z9Pp/d+XbOnd+8T7/O6c59d2pLs6yeCZJF7S5A2ofywSgfjPLBKB+M8sEoH4zywSgfjPLBKB+M8sEoH4zywSgfjPLBKB+M8sEoH4zywSgfjPLBKB+M8sEoH4zywSgfjPLBKB+M8sEoH8zidhfQKrZGso2J17q3LghOJV7oSX7Y96Y4ZTrx0inY+WCUD0b5YGqp7+TZEoyvVFDM39h7Ngh+RCaFBay/EJl0uZqCqmJgSSHqfTd/P97OB6N8MMoHo3wwpQ58s/si4UR4oOqww1T0/tXvea/i30wUkt7awXn76XY+GOWDUT6Ycnv+/Ug4PNeCcpphPD98ebg45WralW8+zY/PLSvOGZrJjx/V0z6f3lrxxk+rsPPBKB+M8sEoH0y5A9+3SLjqeRCcqKai7Hshmar9bLhqRzD+XE0xpQl/+zEPfNLJKB+M8sGUenr36OpitibbnRuPVlLOwmWsfiBh1UjldfwPdj4Y5YNRPhjlg0l+dFvyzNYfBsmhhmvmIjd0VlRUTxnsfDDKB6N8MMoH07Xfz28lL6LpYImV+3OjbRXU0gx2Phjlg1E+GPf8EgwE48H66cistY0vNJk/LXxKLagi7HwwygejfDDKB+OBrwRnCsmdpOt8TH0LZIuw88EoH4zywbjnl2B4T5jEPrYgu1UrzNhcVUEVYeeDUT4Y5YNRPhgPfAHnY+Gz20EQe5ljkCW+/Gk+sfPBKB+M8sH4da2A2feRsL/M+3U+5Ebba+HzP1n2Nq2klmHng1E+GOWDUT4Y9E2eG7Gw/2vStSaDA16nHe5i2PlglA9G+WDQe/7I61i6vMTK8UJyvNli2oCdD0b5YJQPRvlgUH/VmwrGPfXYrZgNjS80FPm/94+TSmordj4Y5YNRPpiuvcmzKZL11I8FSYn9PcuyLMt/t7pvAe7vMex8MMoHo3wwygfTtQe+k9H0bomVM4XkVe1LbjydUlAHYueDUT4Y5YPp2j1/5Hriwp0rC9GupirpXOx8MMoHo3wwygfTtU/yHIlkD67lx6OXinMuRtb9qqKgDsTOB6N8MMoH07V7vjTGzgejfDDKB6N8MH8Ae+1e9zZdv4wAAAAASUVORK5CYII=\", \"id\": \"el526794501101136\"}], \"xdomain\": [-0.5, 27.5], \"ylim\": [27.5, -0.5], \"paths\": [], \"sharey\": [], \"sharex\": [], \"axesbgalpha\": null, \"axes\": [{\"scale\": \"linear\", \"tickformat\": \"\", \"grid\": {\"gridOn\": false}, \"fontsize\": null, \"position\": \"bottom\", \"nticks\": 0, \"tickvalues\": []}, {\"scale\": \"linear\", \"tickformat\": \"\", \"grid\": {\"gridOn\": false}, \"fontsize\": null, \"position\": \"left\", \"nticks\": 0, \"tickvalues\": []}], \"lines\": [], \"markers\": [], \"id\": \"el526794507869776\", \"ydomain\": [27.5, -0.5], \"collections\": [], \"xscale\": \"linear\", \"bbox\": [0.81525239463601551, 0.13752394636015342, 0.15749521072796935, 0.78747605363984663]}], \"height\": 160.0, \"width\": 800.0, \"plugins\": [{\"type\": \"reset\"}, {\"enabled\": false, \"button\": true, \"type\": \"zoom\"}, {\"enabled\": false, \"button\": true, \"type\": \"boxzoom\"}], \"data\": {}, \"id\": \"el526794497078800\"});\n",
        "   }(mpld3);\n",
        "}else if(typeof define === \"function\" && define.amd){\n",
        "   // require.js is available: use it to load d3/mpld3\n",
        "   require.config({paths: {d3: \"https://mpld3.github.io/js/d3.v3.min\"}});\n",
        "   require([\"d3\"], function(d3){\n",
        "      window.d3 = d3;\n",
        "      mpld3_load_lib(\"https://mpld3.github.io/js/mpld3.v0.2.js\", function(){\n",
        "         \n",
        "         mpld3.draw_figure(\"fig_el5267944970788002460237180\", {\"axes\": [{\"xlim\": [-0.5, 27.5], \"yscale\": \"linear\", \"axesbg\": \"#EAEAF2\", \"texts\": [{\"v_baseline\": \"hanging\", \"h_anchor\": \"middle\", \"color\": \"#262626\", \"text\": \"6\", \"coordinates\": \"axes\", \"zorder\": 3, \"alpha\": 1, \"fontsize\": 11.0, \"position\": [0.49999999999999989, -0.044093051543256823], \"rotation\": -0.0, \"id\": \"el526794497082064\"}], \"zoomable\": true, \"images\": [{\"coordinates\": \"data\", \"zorder\": 0, \"extent\": [-0.5, 27.5, 27.5, -0.5], \"alpha\": null, \"data\": \"iVBORw0KGgoAAAANSUhEUgAAAH8AAAB/CAYAAADGvR0TAAAABHNCSVQICAgIfAhkiAAAAsZJREFUeJzt3b1O6zAAQGGHMtFnY0eij1ck9j5bRigrtS1wLf8kPefb6HDbqyPLluMky0sI1yCkp9k/QPMYH8z4YMYHMz6Y8cGMD2Z8MOODGR/M+GDGBzM+mPHBjA9mfDDjgz3P/gEkn9Hfr9eCQ1SnJfno+NHm9zjywYwPZnww44MtHt1uY32PPjjnxtVXk+86LukisIYjH8z4YMYHc5OnQLo5028+D+Fw89dl+W7076Yc+WDGBzM+mPHBXPBFks2aEEI4t9oH+38x99bom0o48sGMD2Z8sKFz/prbHDndznutTqnkjNysuWQuvoycz0s48sGMD2Z8MOODjd3kOaWbGpeOC7xYusCrXdwdkk+OHa++9eLIBzM+mPHBHub0btWtUKWiW6Z6bkSN5MgHMz6Y8cGMD7bLkzztTts8xmZNLUc+mPHBjA+2izk/vf25dgPndo4nze85jnww44MZH8z4YLu4qrdWXaEbu4FTtSjt+IDFEo58MOODGR/M+GCb2+HL3s9XpN/uXfqbGj18KbMoXMO4I2OOfDDjgxkfbPqcn57KKZlP22zgxMe9Q+j9gMVtceSDGR/M+GDGB5u+4Mu/keJvtU+inn0/X7fNokqOfDDjgxkfbP6cX7GpU/Iww/wGTpsj3yUPTM7eUhb/Xz3Jo1mMD2Z8MOODTT+6XXYs+/5TOnXHvdPvKv6+gqPb8ZO4Zz+F25EPZnww44NtYJMnnmNzmz63n609VymZh0PXXJDxTRvaNOODGR/M+GDTN3nGvpu+n2Nmgbd1jnww44MZH2z6nB8ru4Wq5xogvbAz8pWvIznywYwPZnww44NtbsFXov5NGz51+zdHPpjxwYwPtss5P6fktM3WTs/O5sgHMz6Y8cGMD/YwCz7dz5EPZnww44MZH8z4YMYHMz6Y8cGMD2Z8MOODGR/M+GDGBzM+mPHBjA/2A75ehe2JQzR9AAAAAElFTkSuQmCC\", \"id\": \"el526794497206736\"}], \"xdomain\": [-0.5, 27.5], \"ylim\": [27.5, -0.5], \"paths\": [], \"sharey\": [], \"sharex\": [], \"axesbgalpha\": null, \"axes\": [{\"scale\": \"linear\", \"tickformat\": \"\", \"grid\": {\"gridOn\": false}, \"fontsize\": null, \"position\": \"bottom\", \"nticks\": 0, \"tickvalues\": []}, {\"scale\": \"linear\", \"tickformat\": \"\", \"grid\": {\"gridOn\": false}, \"fontsize\": null, \"position\": \"left\", \"nticks\": 0, \"tickvalues\": []}], \"lines\": [], \"markers\": [], \"id\": \"el526794497079760\", \"ydomain\": [27.5, -0.5], \"collections\": [], \"xscale\": \"linear\", \"bbox\": [0.027252394636015326, 0.13752394636015342, 0.15749521072796935, 0.78747605363984663]}, {\"xlim\": [-0.5, 27.5], \"yscale\": \"linear\", \"axesbg\": \"#EAEAF2\", \"texts\": [{\"v_baseline\": \"hanging\", \"h_anchor\": \"middle\", \"color\": \"#262626\", \"text\": \"4\", \"coordinates\": \"axes\", \"zorder\": 3, \"alpha\": 1, \"fontsize\": 11.0, \"position\": [0.49999999999999972, -0.044093051543256823], \"rotation\": -0.0, \"id\": \"el526794508164432\"}], \"zoomable\": true, \"images\": [{\"coordinates\": \"data\", \"zorder\": 0, \"extent\": [-0.5, 27.5, 27.5, -0.5], \"alpha\": null, \"data\": \"iVBORw0KGgoAAAANSUhEUgAAAH8AAAB/CAYAAADGvR0TAAAABHNCSVQICAgIfAhkiAAAA1dJREFUeJzt3D1oFEEAQOE5sdAcogQLwcJKBS0MoljaCIKVFtoLqaKtCieiQbTTylIQKwu1sLIRxNImRFAUJIUpRFHBH2IsDGdhtbMDtzfZvb3kva/bYW9u4DHscj/bmQihH4S0oe0FqD3GBzM+mPHBjA9mfDDjgxkfzPhgxgczPpjxwYwPZnww44MZH8z4YMYHMz6Y8cGMD2Z8sI1tL2AtOpEY2xodf0mc86yBtayGOx/M+GDGB/OaX8Hl6LjXf54461B0vLd0Rrfzsa4l1cKdD2Z8MOODGR/MG74Keg/ikfjmbm1y54MZH8z4YK1f83dExwv9R4mzdhUPHx4undE9U896NqUGj9Uz97hx54MZH8z4YMYHa/2Gb2EyHjk++EWnr5SGpsP1wvHdzPWcSg1u/5U523hz54MZH8z4YK1f8/NcLI1MRtd8DebOBzM+mPHBjA/W/g3ftz21TPOilllqdHO8fqad4s4HMz6Y8cFGes0/nxy9nTHT/tLIh4xZUg7WNM/P+D9eY8idD2Z8MOODGR9spDd86V9AHx1+orOLpaFPw8+SNAP6ctCdD2Z8MOODGR+sMxFCv6nJ40cSzfVLv9MOOZ/N9TtbSmNPouOTB4ae9r/5Kg9bquJxYuxNdPy1fMrUvYEzT70qHr+vvKYidz6Y8cGMD9boNX/pRjTQW27qrWqU+of+n5GvYhjdzuas17nzwYwPZnww44M1+61e70I08LfRt6tH6uYuZ90vK5xzJGPeEEK4lfm6Inc+mPHBjA/W8C953tUzzXL0RU7pQcghhEvFw6uJ70xis+cSg3cyP4iaLa5x+trgl+zMe6cwl/m6mDsfzPhgxgczPlij3+pti44nMuf5ER0vZc4TW0r92mc+dcNX4UOeE8Ubvu7TrCWNlDsfzPhgxgdr9EOe7wOO15WxeyjQYO58MOODGR/M+GDtP4Rxndj9u+0VDM+dD2Z8MOODec3Psa/8F/HPLSxjtdz5YMYHMz6Y8cHYN3ypx+YkvS4czbwtn7Gy6sWMnjsfzPhgxgdjX/NTv75ZKT/fZjF6oOD9ZlYzcu58MOODGR/M+GCN/l1L482dD2Z8MOODGR/M+GDGBzM+mPHBjA9mfDDjgxkfzPhgxgczPpjxwYwP9g/GBFQFqJmExQAAAABJRU5ErkJggg==\", \"id\": \"el526794508297232\"}], \"xdomain\": [-0.5, 27.5], \"ylim\": [27.5, -0.5], \"paths\": [], \"sharey\": [], \"sharex\": [], \"axesbgalpha\": null, \"axes\": [{\"scale\": \"linear\", \"tickformat\": \"\", \"grid\": {\"gridOn\": false}, \"fontsize\": null, \"position\": \"bottom\", \"nticks\": 0, \"tickvalues\": []}, {\"scale\": \"linear\", \"tickformat\": \"\", \"grid\": {\"gridOn\": false}, \"fontsize\": null, \"position\": \"left\", \"nticks\": 0, \"tickvalues\": []}], \"lines\": [], \"markers\": [], \"id\": \"el526794497123408\", \"ydomain\": [27.5, -0.5], \"collections\": [], \"xscale\": \"linear\", \"bbox\": [0.22425239463601535, 0.13752394636015342, 0.15749521072796932, 0.78747605363984663]}, {\"xlim\": [-0.5, 27.5], \"yscale\": \"linear\", \"axesbg\": \"#EAEAF2\", \"texts\": [{\"v_baseline\": \"hanging\", \"h_anchor\": \"middle\", \"color\": \"#262626\", \"text\": \"6\", \"coordinates\": \"axes\", \"zorder\": 3, \"alpha\": 1, \"fontsize\": 11.0, \"position\": [0.4999999999999995, -0.044093051543256823], \"rotation\": -0.0, \"id\": \"el526794508318544\"}], \"zoomable\": true, \"images\": [{\"coordinates\": \"data\", \"zorder\": 0, \"extent\": [-0.5, 27.5, 27.5, -0.5], \"alpha\": null, \"data\": \"iVBORw0KGgoAAAANSUhEUgAAAH8AAAB/CAYAAADGvR0TAAAABHNCSVQICAgIfAhkiAAAA7lJREFUeJztnU+ITVEcx+9FYh4rG0ImMiwUG1mMMiJZUDaUnWQhNkrNlETKyuw0FrJBSTY2WFDyryllQY0iFmgsxMLf29iMZzGrc86POXN679173/fz2Z1f5537q8/7dU6/d+99eU+WNTOQZFbZCUB5IF8Y5AuDfGGQLwzyhUG+MMgXZk7ZCXQLxTIvMG70zhbmzrDxq335xEDlC4N8YZAvDPKFqdyB77IRO9DhHKZj0AqOf/UCv8M5N73xjtbkkwqVLwzyhUG+MJXb81eWnYBBscYLvB4zZs3zxk+DGZdK3uN9qHxhkC8M8oVBvjA5t267PDdifc29XuTq9As9nh+EGluSUmobVL4wyBcG+cJUrsnTSYp1RnDsnRFcPP1i3h6/qmL7uwWVLwzyhUG+MMgXRurAV6z3Ai/eGrMiDnfZwSCy1jvgfYpNqkSofGGQLwzyhenaPT/Y37PM2OP9Z6z+xX1nNJpfD2aMR65UJah8YZAvDPKFQb4wXXMnzz1v3N98ZczqTVt8tvuLXeNP2jJVg8oXBvnCIF+YWjZ5thux/mafF+mNWOluEPmc7wliO2OSqiFUvjDIFwb5wiBfmFo2eYrmXCP6fcbr/MjDR6qWJORTV6h8YZAvDPKFqUWTZ3MQOZ+20FJ3jx9IW6VroPKFQb4wyBcG+cLUoslT7PMCNyYiPvUoiAzl7u9z+41PbfgSndb/eRmGBra642ctulQqVL4wyBcG+cIgX5jKHfgeGrGNzZRn7K6EoTeH3XHfbeNz2yLWTmTCuwW8p32XioHKFwb5wiBfmMrt+cUKI/g+pqlTBy46o0Z+rKQ8pqDyhUG+MMgXBvnC1OI2rs5iNIeyD954kTHnaMTaC5zRamOG9VrIdkHlC4N8YZAvTPWaPNbXcdL/e3L/r0tTCV+gvNt4weI3b/zE2t5HEhpRy41/4Po482VSofKFQb4wyBcG+cJUrsljveCwyE55kXMtutqmIHLrQnjgy46c9QLHE6836oxOdvBwZ0HlC4N8YZAvTOWaPBZB42fypzGrcscXA/fs0siHS8pjCipfGOQLg3xhkC9MHU5JQeOnyE4Ys1rV+EnF++3vTvg6xzO7OpRKJFS+MMgXBvnC1KLJ4zNoxE4/8AID7XzE61oQGcoPOeORNl69VVD5wiBfGOQLg3xhanngg9ZA5QuDfGGQLwzyhUG+MMgXBvnCIF8Y5AuDfGGQLwzyhUG+MMgXBvnCIF8Y5AuDfGGQLwzyhUG+MMgXBvnCIF8Y5AuDfGH+AqrXcGAZ0sgRAAAAAElFTkSuQmCC\", \"id\": \"el526794508024400\"}], \"xdomain\": [-0.5, 27.5], \"ylim\": [27.5, -0.5], \"paths\": [], \"sharey\": [], \"sharex\": [], \"axesbgalpha\": null, \"axes\": [{\"scale\": \"linear\", \"tickformat\": \"\", \"grid\": {\"gridOn\": false}, \"fontsize\": null, \"position\": \"bottom\", \"nticks\": 0, \"tickvalues\": []}, {\"scale\": \"linear\", \"tickformat\": \"\", \"grid\": {\"gridOn\": false}, \"fontsize\": null, \"position\": \"left\", \"nticks\": 0, \"tickvalues\": []}], \"lines\": [], \"markers\": [], \"id\": \"el526794508198352\", \"ydomain\": [27.5, -0.5], \"collections\": [], \"xscale\": \"linear\", \"bbox\": [0.42125239463601538, 0.13752394636015342, 0.15749521072796935, 0.78747605363984663]}, {\"xlim\": [-0.5, 27.5], \"yscale\": \"linear\", \"axesbg\": \"#EAEAF2\", \"texts\": [{\"v_baseline\": \"hanging\", \"h_anchor\": \"middle\", \"color\": \"#262626\", \"text\": \"5\", \"coordinates\": \"axes\", \"zorder\": 3, \"alpha\": 1, \"fontsize\": 11.0, \"position\": [0.4999999999999995, -0.044093051543256823], \"rotation\": -0.0, \"id\": \"el526794507969168\"}], \"zoomable\": true, \"images\": [{\"coordinates\": \"data\", \"zorder\": 0, \"extent\": [-0.5, 27.5, 27.5, -0.5], \"alpha\": null, \"data\": \"iVBORw0KGgoAAAANSUhEUgAAAH8AAAB/CAYAAADGvR0TAAAABHNCSVQICAgIfAhkiAAAA/xJREFUeJztnU2ITWEYx5/D+MhNzfiIbEiKfJcwKRFj4WNDIrshQ01Td2E3UgyRlIWdiGYhEo2FJqKsLZBmIWkUIVEo3fKVY8Hmfd7HnON1Pu69//9v9zw9571v/e7TeTsf74kmiMRCIBlV9gRIeVA+MJQPDOUDQ/nAUD4wlA8M5QND+cBQPjCUDwzlA0P5wFA+MJQPDOUDQ/nAUD4wlA8M5QND+cBQPjCUDwzlA0P5wFA+MC1lTyArxqt4rlGzW8VdBwJ/7LmfWjWQfNjn5GEKhZ0PDOUDQ/nAUD4wUb29n7/dyPWfUYmJRtEiFS/7ns2EMqXPDecd9Sq6n7pxf46zYecDQ/nAUD4wpZ/zX6p4cvzEqJpTxFT+sN7I7VDx/iImIiIilWhMbmOz84GhfGAoHxjKB6bQBd8rI9cWP1KZhSlGWullBqOHIVPy6DJyG1W8LXDsTddUYk3yMZWpgT+WAnY+MJQPDOUDk9k5f7aRG7qvEiv0+V0k1Tl+qXuhY91jv0T/FEmGnQ8M5QND+cBQPjDBj27raw9D742iKQFP01z372K1qgVePT6j04iw84GhfGAoH5jgizy1n3qkrM7En4zc24Bx9CO/IrLzXOJR7Vf93DMVfwmYTT3CzgeG8oGhfGAoH5jwBZ9e37U086WXmW545I1XceuwG/d5FSLGzchSYecDQ/nAUD4wlA9M8ILvuIqr94yitbuSB1p92Y31c9IiIr0pxvGwtmQ6GDBOKP6b9XeivU7caRxlXd/MC3Y+MJQPDOUDU/r7+XmxxMjpe3oLrPXF4CQj2atia/fGH2mm5bLBf2qpcvffhwmFnQ8M5QND+cBQPjBNu+DLkq0qrho1y+OxKlNLMfIlL3M66nTiQylGCYWdDwzlA0P5wPCcnxH69bUrRk17fENlNhtVt52oEm35j1mNDDsfGMoHhvKBoXxguOArkFq8WGUeJB7DXbdJLlA+MJQPDOUDQ/nAUD4wlA8M5QMTvAkjGZl9ZlY/Al4u7HxgKB8YygemIW/s1Ky/7Ck37DHeqLqYy2x+oz/93m9tUZRm36Jh90ZOJccvybLzgaF8YCgfGMoHpiEXfHo/IBGRanxeZWb5RR87nPCd8Sq+9VHWVhW3fzCK2maoxAujSHPWyxyLepz4RIpRQmHnA0P5wFA+MA15zrdQ13ikO7b+11+LmMrf+eZewDk5zi+xNmzOC3Y+MJQPDOUDQ/nANM2CTzPdyA3r/Zs7jKI9+kNqIv4Fo2l+yQV15eemMcqAG1tfoC0Sdj4wlA8M5QPTtOf8UOYbudEqfm3UWPd66h12PjCUDwzlA0P5wHDBBww7HxjKB4bygaF8YCgfGMoHhvKBoXxgfgEBSnzlJtv8BQAAAABJRU5ErkJggg==\", \"id\": \"el526794500937104\"}], \"xdomain\": [-0.5, 27.5], \"ylim\": [27.5, -0.5], \"paths\": [], \"sharey\": [], \"sharex\": [], \"axesbgalpha\": null, \"axes\": [{\"scale\": \"linear\", \"tickformat\": \"\", \"grid\": {\"gridOn\": false}, \"fontsize\": null, \"position\": \"bottom\", \"nticks\": 0, \"tickvalues\": []}, {\"scale\": \"linear\", \"tickformat\": \"\", \"grid\": {\"gridOn\": false}, \"fontsize\": null, \"position\": \"left\", \"nticks\": 0, \"tickvalues\": []}], \"lines\": [], \"markers\": [], \"id\": \"el526794507983760\", \"ydomain\": [27.5, -0.5], \"collections\": [], \"xscale\": \"linear\", \"bbox\": [0.61825239463601545, 0.13752394636015342, 0.15749521072796935, 0.78747605363984663]}, {\"xlim\": [-0.5, 27.5], \"yscale\": \"linear\", \"axesbg\": \"#EAEAF2\", \"texts\": [{\"v_baseline\": \"hanging\", \"h_anchor\": \"middle\", \"color\": \"#262626\", \"text\": \"7\", \"coordinates\": \"axes\", \"zorder\": 3, \"alpha\": 1, \"fontsize\": 11.0, \"position\": [0.49999999999999994, -0.044093051543256823], \"rotation\": -0.0, \"id\": \"el526794500958416\"}], \"zoomable\": true, \"images\": [{\"coordinates\": \"data\", \"zorder\": 0, \"extent\": [-0.5, 27.5, 27.5, -0.5], \"alpha\": null, \"data\": \"iVBORw0KGgoAAAANSUhEUgAAAH8AAAB/CAYAAADGvR0TAAAABHNCSVQICAgIfAhkiAAAA3lJREFUeJztnU+ITVEcx+8zNoyFhT9TNkSj1FCmxEJR/mSnKDX5kwmLsZVSKGRFkqZZCCtR9pMmC2WlLCQ2JiQbKQvNH7OgnvU99/Cu8+6b9+Z9Pp/d+XbOnd+8T7/O6c59d2pLs6yeCZJF7S5A2ofywSgfjPLBKB+M8sEoH4zywSgfjPLBKB+M8sEoH4zywSgfjPLBKB+M8sEoH4zywSgfjPLBKB+M8sEoH4zywSgfjPLBKB+M8sEoH8zidhfQKrZGso2J17q3LghOJV7oSX7Y96Y4ZTrx0inY+WCUD0b5YGqp7+TZEoyvVFDM39h7Ngh+RCaFBay/EJl0uZqCqmJgSSHqfTd/P97OB6N8MMoHo3wwpQ58s/si4UR4oOqww1T0/tXvea/i30wUkt7awXn76XY+GOWDUT6Ycnv+/Ug4PNeCcpphPD98ebg45WralW8+zY/PLSvOGZrJjx/V0z6f3lrxxk+rsPPBKB+M8sEoH0y5A9+3SLjqeRCcqKai7Hshmar9bLhqRzD+XE0xpQl/+zEPfNLJKB+M8sGUenr36OpitibbnRuPVlLOwmWsfiBh1UjldfwPdj4Y5YNRPhjlg0l+dFvyzNYfBsmhhmvmIjd0VlRUTxnsfDDKB6N8MMoH07Xfz28lL6LpYImV+3OjbRXU0gx2Phjlg1E+GPf8EgwE48H66cistY0vNJk/LXxKLagi7HwwygejfDDKB+OBrwRnCsmdpOt8TH0LZIuw88EoH4zywbjnl2B4T5jEPrYgu1UrzNhcVUEVYeeDUT4Y5YNRPhgPfAHnY+Gz20EQe5ljkCW+/Gk+sfPBKB+M8sH4da2A2feRsL/M+3U+5Ebba+HzP1n2Nq2klmHng1E+GOWDUT4Y9E2eG7Gw/2vStSaDA16nHe5i2PlglA9G+WDQe/7I61i6vMTK8UJyvNli2oCdD0b5YJQPRvlgUH/VmwrGPfXYrZgNjS80FPm/94+TSmordj4Y5YNRPpiuvcmzKZL11I8FSYn9PcuyLMt/t7pvAe7vMex8MMoHo3wwygfTtQe+k9H0bomVM4XkVe1LbjydUlAHYueDUT4Y5YPp2j1/5Hriwp0rC9GupirpXOx8MMoHo3wwygfTtU/yHIlkD67lx6OXinMuRtb9qqKgDsTOB6N8MMoH07V7vjTGzgejfDDKB6N8MH8Ae+1e9zZdv4wAAAAASUVORK5CYII=\", \"id\": \"el526794501101136\"}], \"xdomain\": [-0.5, 27.5], \"ylim\": [27.5, -0.5], \"paths\": [], \"sharey\": [], \"sharex\": [], \"axesbgalpha\": null, \"axes\": [{\"scale\": \"linear\", \"tickformat\": \"\", \"grid\": {\"gridOn\": false}, \"fontsize\": null, \"position\": \"bottom\", \"nticks\": 0, \"tickvalues\": []}, {\"scale\": \"linear\", \"tickformat\": \"\", \"grid\": {\"gridOn\": false}, \"fontsize\": null, \"position\": \"left\", \"nticks\": 0, \"tickvalues\": []}], \"lines\": [], \"markers\": [], \"id\": \"el526794507869776\", \"ydomain\": [27.5, -0.5], \"collections\": [], \"xscale\": \"linear\", \"bbox\": [0.81525239463601551, 0.13752394636015342, 0.15749521072796935, 0.78747605363984663]}], \"height\": 160.0, \"width\": 800.0, \"plugins\": [{\"type\": \"reset\"}, {\"enabled\": false, \"button\": true, \"type\": \"zoom\"}, {\"enabled\": false, \"button\": true, \"type\": \"boxzoom\"}], \"data\": {}, \"id\": \"el526794497078800\"});\n",
        "      });\n",
        "    });\n",
        "}else{\n",
        "    // require.js not available: dynamically load d3 & mpld3\n",
        "    mpld3_load_lib(\"https://mpld3.github.io/js/d3.v3.min.js\", function(){\n",
        "         mpld3_load_lib(\"https://mpld3.github.io/js/mpld3.v0.2.js\", function(){\n",
        "                 \n",
        "                 mpld3.draw_figure(\"fig_el5267944970788002460237180\", {\"axes\": [{\"xlim\": [-0.5, 27.5], \"yscale\": \"linear\", \"axesbg\": \"#EAEAF2\", \"texts\": [{\"v_baseline\": \"hanging\", \"h_anchor\": \"middle\", \"color\": \"#262626\", \"text\": \"6\", \"coordinates\": \"axes\", \"zorder\": 3, \"alpha\": 1, \"fontsize\": 11.0, \"position\": [0.49999999999999989, -0.044093051543256823], \"rotation\": -0.0, \"id\": \"el526794497082064\"}], \"zoomable\": true, \"images\": [{\"coordinates\": \"data\", \"zorder\": 0, \"extent\": [-0.5, 27.5, 27.5, -0.5], \"alpha\": null, \"data\": \"iVBORw0KGgoAAAANSUhEUgAAAH8AAAB/CAYAAADGvR0TAAAABHNCSVQICAgIfAhkiAAAAsZJREFUeJzt3b1O6zAAQGGHMtFnY0eij1ck9j5bRigrtS1wLf8kPefb6HDbqyPLluMky0sI1yCkp9k/QPMYH8z4YMYHMz6Y8cGMD2Z8MOODGR/M+GDGBzM+mPHBjA9mfDDjgz3P/gEkn9Hfr9eCQ1SnJfno+NHm9zjywYwPZnww44MtHt1uY32PPjjnxtVXk+86LukisIYjH8z4YMYHc5OnQLo5028+D+Fw89dl+W7076Yc+WDGBzM+mPHBXPBFks2aEEI4t9oH+38x99bom0o48sGMD2Z8sKFz/prbHDndznutTqnkjNysuWQuvoycz0s48sGMD2Z8MOODjd3kOaWbGpeOC7xYusCrXdwdkk+OHa++9eLIBzM+mPHBHub0btWtUKWiW6Z6bkSN5MgHMz6Y8cGMD7bLkzztTts8xmZNLUc+mPHBjA+2izk/vf25dgPndo4nze85jnww44MZH8z4YLu4qrdWXaEbu4FTtSjt+IDFEo58MOODGR/M+GCb2+HL3s9XpN/uXfqbGj18KbMoXMO4I2OOfDDjgxkfbPqcn57KKZlP22zgxMe9Q+j9gMVtceSDGR/M+GDGB5u+4Mu/keJvtU+inn0/X7fNokqOfDDjgxkfbP6cX7GpU/Iww/wGTpsj3yUPTM7eUhb/Xz3Jo1mMD2Z8MOODTT+6XXYs+/5TOnXHvdPvKv6+gqPb8ZO4Zz+F25EPZnww44NtYJMnnmNzmz63n609VymZh0PXXJDxTRvaNOODGR/M+GDTN3nGvpu+n2Nmgbd1jnww44MZH2z6nB8ru4Wq5xogvbAz8pWvIznywYwPZnww44NtbsFXov5NGz51+zdHPpjxwYwPtss5P6fktM3WTs/O5sgHMz6Y8cGMD/YwCz7dz5EPZnww44MZH8z4YMYHMz6Y8cGMD2Z8MOODGR/M+GDGBzM+mPHBjA/2A75ehe2JQzR9AAAAAElFTkSuQmCC\", \"id\": \"el526794497206736\"}], \"xdomain\": [-0.5, 27.5], \"ylim\": [27.5, -0.5], \"paths\": [], \"sharey\": [], \"sharex\": [], \"axesbgalpha\": null, \"axes\": [{\"scale\": \"linear\", \"tickformat\": \"\", \"grid\": {\"gridOn\": false}, \"fontsize\": null, \"position\": \"bottom\", \"nticks\": 0, \"tickvalues\": []}, {\"scale\": \"linear\", \"tickformat\": \"\", \"grid\": {\"gridOn\": false}, \"fontsize\": null, \"position\": \"left\", \"nticks\": 0, \"tickvalues\": []}], \"lines\": [], \"markers\": [], \"id\": \"el526794497079760\", \"ydomain\": [27.5, -0.5], \"collections\": [], \"xscale\": \"linear\", \"bbox\": [0.027252394636015326, 0.13752394636015342, 0.15749521072796935, 0.78747605363984663]}, {\"xlim\": [-0.5, 27.5], \"yscale\": \"linear\", \"axesbg\": \"#EAEAF2\", \"texts\": [{\"v_baseline\": \"hanging\", \"h_anchor\": \"middle\", \"color\": \"#262626\", \"text\": \"4\", \"coordinates\": \"axes\", \"zorder\": 3, \"alpha\": 1, \"fontsize\": 11.0, \"position\": [0.49999999999999972, -0.044093051543256823], \"rotation\": -0.0, \"id\": \"el526794508164432\"}], \"zoomable\": true, \"images\": [{\"coordinates\": \"data\", \"zorder\": 0, \"extent\": [-0.5, 27.5, 27.5, -0.5], \"alpha\": null, \"data\": \"iVBORw0KGgoAAAANSUhEUgAAAH8AAAB/CAYAAADGvR0TAAAABHNCSVQICAgIfAhkiAAAA1dJREFUeJzt3D1oFEEAQOE5sdAcogQLwcJKBS0MoljaCIKVFtoLqaKtCieiQbTTylIQKwu1sLIRxNImRFAUJIUpRFHBH2IsDGdhtbMDtzfZvb3kva/bYW9u4DHscj/bmQihH4S0oe0FqD3GBzM+mPHBjA9mfDDjgxkfzPhgxgczPpjxwYwPZnww44MZH8z4YMYHMz6Y8cGMD2Z8sI1tL2AtOpEY2xodf0mc86yBtayGOx/M+GDGB/OaX8Hl6LjXf54461B0vLd0Rrfzsa4l1cKdD2Z8MOODGR/MG74Keg/ikfjmbm1y54MZH8z4YK1f83dExwv9R4mzdhUPHx4undE9U896NqUGj9Uz97hx54MZH8z4YMYHa/2Gb2EyHjk++EWnr5SGpsP1wvHdzPWcSg1u/5U523hz54MZH8z4YK1f8/NcLI1MRtd8DebOBzM+mPHBjA/W/g3ftz21TPOilllqdHO8fqad4s4HMz6Y8cFGes0/nxy9nTHT/tLIh4xZUg7WNM/P+D9eY8idD2Z8MOODGR9spDd86V9AHx1+orOLpaFPw8+SNAP6ctCdD2Z8MOODGR+sMxFCv6nJ40cSzfVLv9MOOZ/N9TtbSmNPouOTB4ae9r/5Kg9bquJxYuxNdPy1fMrUvYEzT70qHr+vvKYidz6Y8cGMD9boNX/pRjTQW27qrWqU+of+n5GvYhjdzuas17nzwYwPZnww44M1+61e70I08LfRt6tH6uYuZ90vK5xzJGPeEEK4lfm6Inc+mPHBjA/W8C953tUzzXL0RU7pQcghhEvFw6uJ70xis+cSg3cyP4iaLa5x+trgl+zMe6cwl/m6mDsfzPhgxgczPlij3+pti44nMuf5ER0vZc4TW0r92mc+dcNX4UOeE8Ubvu7TrCWNlDsfzPhgxgdr9EOe7wOO15WxeyjQYO58MOODGR/M+GDtP4Rxndj9u+0VDM+dD2Z8MOODec3Psa/8F/HPLSxjtdz5YMYHMz6Y8cHYN3ypx+YkvS4czbwtn7Gy6sWMnjsfzPhgxgdjX/NTv75ZKT/fZjF6oOD9ZlYzcu58MOODGR/M+GCN/l1L482dD2Z8MOODGR/M+GDGBzM+mPHBjA9mfDDjgxkfzPhgxgczPpjxwYwP9g/GBFQFqJmExQAAAABJRU5ErkJggg==\", \"id\": \"el526794508297232\"}], \"xdomain\": [-0.5, 27.5], \"ylim\": [27.5, -0.5], \"paths\": [], \"sharey\": [], \"sharex\": [], \"axesbgalpha\": null, \"axes\": [{\"scale\": \"linear\", \"tickformat\": \"\", \"grid\": {\"gridOn\": false}, \"fontsize\": null, \"position\": \"bottom\", \"nticks\": 0, \"tickvalues\": []}, {\"scale\": \"linear\", \"tickformat\": \"\", \"grid\": {\"gridOn\": false}, \"fontsize\": null, \"position\": \"left\", \"nticks\": 0, \"tickvalues\": []}], \"lines\": [], \"markers\": [], \"id\": \"el526794497123408\", \"ydomain\": [27.5, -0.5], \"collections\": [], \"xscale\": \"linear\", \"bbox\": [0.22425239463601535, 0.13752394636015342, 0.15749521072796932, 0.78747605363984663]}, {\"xlim\": [-0.5, 27.5], \"yscale\": \"linear\", \"axesbg\": \"#EAEAF2\", \"texts\": [{\"v_baseline\": \"hanging\", \"h_anchor\": \"middle\", \"color\": \"#262626\", \"text\": \"6\", \"coordinates\": \"axes\", \"zorder\": 3, \"alpha\": 1, \"fontsize\": 11.0, \"position\": [0.4999999999999995, -0.044093051543256823], \"rotation\": -0.0, \"id\": \"el526794508318544\"}], \"zoomable\": true, \"images\": [{\"coordinates\": \"data\", \"zorder\": 0, \"extent\": [-0.5, 27.5, 27.5, -0.5], \"alpha\": null, \"data\": \"iVBORw0KGgoAAAANSUhEUgAAAH8AAAB/CAYAAADGvR0TAAAABHNCSVQICAgIfAhkiAAAA7lJREFUeJztnU+ITVEcx+9FYh4rG0ImMiwUG1mMMiJZUDaUnWQhNkrNlETKyuw0FrJBSTY2WFDyryllQY0iFmgsxMLf29iMZzGrc86POXN679173/fz2Z1f5537q8/7dU6/d+99eU+WNTOQZFbZCUB5IF8Y5AuDfGGQLwzyhUG+MMgXZk7ZCXQLxTIvMG70zhbmzrDxq335xEDlC4N8YZAvDPKFqdyB77IRO9DhHKZj0AqOf/UCv8M5N73xjtbkkwqVLwzyhUG+MJXb81eWnYBBscYLvB4zZs3zxk+DGZdK3uN9qHxhkC8M8oVBvjA5t267PDdifc29XuTq9As9nh+EGluSUmobVL4wyBcG+cJUrsnTSYp1RnDsnRFcPP1i3h6/qmL7uwWVLwzyhUG+MMgXRurAV6z3Ai/eGrMiDnfZwSCy1jvgfYpNqkSofGGQLwzyhenaPT/Y37PM2OP9Z6z+xX1nNJpfD2aMR65UJah8YZAvDPKFQb4wXXMnzz1v3N98ZczqTVt8tvuLXeNP2jJVg8oXBvnCIF+YWjZ5thux/mafF+mNWOluEPmc7wliO2OSqiFUvjDIFwb5wiBfmFo2eYrmXCP6fcbr/MjDR6qWJORTV6h8YZAvDPKFqUWTZ3MQOZ+20FJ3jx9IW6VroPKFQb4wyBcG+cLUoslT7PMCNyYiPvUoiAzl7u9z+41PbfgSndb/eRmGBra642ctulQqVL4wyBcG+cIgX5jKHfgeGrGNzZRn7K6EoTeH3XHfbeNz2yLWTmTCuwW8p32XioHKFwb5wiBfmMrt+cUKI/g+pqlTBy46o0Z+rKQ8pqDyhUG+MMgXBvnC1OI2rs5iNIeyD954kTHnaMTaC5zRamOG9VrIdkHlC4N8YZAvTPWaPNbXcdL/e3L/r0tTCV+gvNt4weI3b/zE2t5HEhpRy41/4Po482VSofKFQb4wyBcG+cJUrsljveCwyE55kXMtutqmIHLrQnjgy46c9QLHE6836oxOdvBwZ0HlC4N8YZAvTOWaPBZB42fypzGrcscXA/fs0siHS8pjCipfGOQLg3xhkC9MHU5JQeOnyE4Ys1rV+EnF++3vTvg6xzO7OpRKJFS+MMgXBvnC1KLJ4zNoxE4/8AID7XzE61oQGcoPOeORNl69VVD5wiBfGOQLg3xhanngg9ZA5QuDfGGQLwzyhUG+MMgXBvnCIF8Y5AuDfGGQLwzyhUG+MMgXBvnCIF8Y5AuDfGGQLwzyhUG+MMgXBvnCIF8Y5AuDfGH+AqrXcGAZ0sgRAAAAAElFTkSuQmCC\", \"id\": \"el526794508024400\"}], \"xdomain\": [-0.5, 27.5], \"ylim\": [27.5, -0.5], \"paths\": [], \"sharey\": [], \"sharex\": [], \"axesbgalpha\": null, \"axes\": [{\"scale\": \"linear\", \"tickformat\": \"\", \"grid\": {\"gridOn\": false}, \"fontsize\": null, \"position\": \"bottom\", \"nticks\": 0, \"tickvalues\": []}, {\"scale\": \"linear\", \"tickformat\": \"\", \"grid\": {\"gridOn\": false}, \"fontsize\": null, \"position\": \"left\", \"nticks\": 0, \"tickvalues\": []}], \"lines\": [], \"markers\": [], \"id\": \"el526794508198352\", \"ydomain\": [27.5, -0.5], \"collections\": [], \"xscale\": \"linear\", \"bbox\": [0.42125239463601538, 0.13752394636015342, 0.15749521072796935, 0.78747605363984663]}, {\"xlim\": [-0.5, 27.5], \"yscale\": \"linear\", \"axesbg\": \"#EAEAF2\", \"texts\": [{\"v_baseline\": \"hanging\", \"h_anchor\": \"middle\", \"color\": \"#262626\", \"text\": \"5\", \"coordinates\": \"axes\", \"zorder\": 3, \"alpha\": 1, \"fontsize\": 11.0, \"position\": [0.4999999999999995, -0.044093051543256823], \"rotation\": -0.0, \"id\": \"el526794507969168\"}], \"zoomable\": true, \"images\": [{\"coordinates\": \"data\", \"zorder\": 0, \"extent\": [-0.5, 27.5, 27.5, -0.5], \"alpha\": null, \"data\": \"iVBORw0KGgoAAAANSUhEUgAAAH8AAAB/CAYAAADGvR0TAAAABHNCSVQICAgIfAhkiAAAA/xJREFUeJztnU2ITWEYx5/D+MhNzfiIbEiKfJcwKRFj4WNDIrshQ01Td2E3UgyRlIWdiGYhEo2FJqKsLZBmIWkUIVEo3fKVY8Hmfd7HnON1Pu69//9v9zw9571v/e7TeTsf74kmiMRCIBlV9gRIeVA+MJQPDOUDQ/nAUD4wlA8M5QND+cBQPjCUDwzlA0P5wFA+MJQPDOUDQ/nAUD4wlA8M5QND+cBQPjCUDwzlA0P5wFA+MC1lTyArxqt4rlGzW8VdBwJ/7LmfWjWQfNjn5GEKhZ0PDOUDQ/nAUD4wUb29n7/dyPWfUYmJRtEiFS/7ns2EMqXPDecd9Sq6n7pxf46zYecDQ/nAUD4wpZ/zX6p4cvzEqJpTxFT+sN7I7VDx/iImIiIilWhMbmOz84GhfGAoHxjKB6bQBd8rI9cWP1KZhSlGWullBqOHIVPy6DJyG1W8LXDsTddUYk3yMZWpgT+WAnY+MJQPDOUDk9k5f7aRG7qvEiv0+V0k1Tl+qXuhY91jv0T/FEmGnQ8M5QND+cBQPjDBj27raw9D742iKQFP01z372K1qgVePT6j04iw84GhfGAoH5jgizy1n3qkrM7En4zc24Bx9CO/IrLzXOJR7Vf93DMVfwmYTT3CzgeG8oGhfGAoH5jwBZ9e37U086WXmW545I1XceuwG/d5FSLGzchSYecDQ/nAUD4wlA9M8ILvuIqr94yitbuSB1p92Y31c9IiIr0pxvGwtmQ6GDBOKP6b9XeivU7caRxlXd/MC3Y+MJQPDOUDU/r7+XmxxMjpe3oLrPXF4CQj2atia/fGH2mm5bLBf2qpcvffhwmFnQ8M5QND+cBQPjBNu+DLkq0qrho1y+OxKlNLMfIlL3M66nTiQylGCYWdDwzlA0P5wPCcnxH69bUrRk17fENlNhtVt52oEm35j1mNDDsfGMoHhvKBoXxguOArkFq8WGUeJB7DXbdJLlA+MJQPDOUDQ/nAUD4wlA8M5QMTvAkjGZl9ZlY/Al4u7HxgKB8YygemIW/s1Ky/7Ck37DHeqLqYy2x+oz/93m9tUZRm36Jh90ZOJccvybLzgaF8YCgfGMoHpiEXfHo/IBGRanxeZWb5RR87nPCd8Sq+9VHWVhW3fzCK2maoxAujSHPWyxyLepz4RIpRQmHnA0P5wFA+MA15zrdQ13ikO7b+11+LmMrf+eZewDk5zi+xNmzOC3Y+MJQPDOUDQ/nANM2CTzPdyA3r/Zs7jKI9+kNqIv4Fo2l+yQV15eemMcqAG1tfoC0Sdj4wlA8M5QPTtOf8UOYbudEqfm3UWPd66h12PjCUDwzlA0P5wHDBBww7HxjKB4bygaF8YCgfGMoHhvKBoXxgfgEBSnzlJtv8BQAAAABJRU5ErkJggg==\", \"id\": \"el526794500937104\"}], \"xdomain\": [-0.5, 27.5], \"ylim\": [27.5, -0.5], \"paths\": [], \"sharey\": [], \"sharex\": [], \"axesbgalpha\": null, \"axes\": [{\"scale\": \"linear\", \"tickformat\": \"\", \"grid\": {\"gridOn\": false}, \"fontsize\": null, \"position\": \"bottom\", \"nticks\": 0, \"tickvalues\": []}, {\"scale\": \"linear\", \"tickformat\": \"\", \"grid\": {\"gridOn\": false}, \"fontsize\": null, \"position\": \"left\", \"nticks\": 0, \"tickvalues\": []}], \"lines\": [], \"markers\": [], \"id\": \"el526794507983760\", \"ydomain\": [27.5, -0.5], \"collections\": [], \"xscale\": \"linear\", \"bbox\": [0.61825239463601545, 0.13752394636015342, 0.15749521072796935, 0.78747605363984663]}, {\"xlim\": [-0.5, 27.5], \"yscale\": \"linear\", \"axesbg\": \"#EAEAF2\", \"texts\": [{\"v_baseline\": \"hanging\", \"h_anchor\": \"middle\", \"color\": \"#262626\", \"text\": \"7\", \"coordinates\": \"axes\", \"zorder\": 3, \"alpha\": 1, \"fontsize\": 11.0, \"position\": [0.49999999999999994, -0.044093051543256823], \"rotation\": -0.0, \"id\": \"el526794500958416\"}], \"zoomable\": true, \"images\": [{\"coordinates\": \"data\", \"zorder\": 0, \"extent\": [-0.5, 27.5, 27.5, -0.5], \"alpha\": null, \"data\": \"iVBORw0KGgoAAAANSUhEUgAAAH8AAAB/CAYAAADGvR0TAAAABHNCSVQICAgIfAhkiAAAA3lJREFUeJztnU+ITVEcx+8zNoyFhT9TNkSj1FCmxEJR/mSnKDX5kwmLsZVSKGRFkqZZCCtR9pMmC2WlLCQ2JiQbKQvNH7OgnvU99/Cu8+6b9+Z9Pp/d+XbOnd+8T7/O6c59d2pLs6yeCZJF7S5A2ofywSgfjPLBKB+M8sEoH4zywSgfjPLBKB+M8sEoH4zywSgfjPLBKB+M8sEoH4zywSgfjPLBKB+M8sEoH4zywSgfjPLBKB+M8sEoH8zidhfQKrZGso2J17q3LghOJV7oSX7Y96Y4ZTrx0inY+WCUD0b5YGqp7+TZEoyvVFDM39h7Ngh+RCaFBay/EJl0uZqCqmJgSSHqfTd/P97OB6N8MMoHo3wwpQ58s/si4UR4oOqww1T0/tXvea/i30wUkt7awXn76XY+GOWDUT6Ycnv+/Ug4PNeCcpphPD98ebg45WralW8+zY/PLSvOGZrJjx/V0z6f3lrxxk+rsPPBKB+M8sEoH0y5A9+3SLjqeRCcqKai7Hshmar9bLhqRzD+XE0xpQl/+zEPfNLJKB+M8sGUenr36OpitibbnRuPVlLOwmWsfiBh1UjldfwPdj4Y5YNRPhjlg0l+dFvyzNYfBsmhhmvmIjd0VlRUTxnsfDDKB6N8MMoH07Xfz28lL6LpYImV+3OjbRXU0gx2Phjlg1E+GPf8EgwE48H66cistY0vNJk/LXxKLagi7HwwygejfDDKB+OBrwRnCsmdpOt8TH0LZIuw88EoH4zywbjnl2B4T5jEPrYgu1UrzNhcVUEVYeeDUT4Y5YNRPhgPfAHnY+Gz20EQe5ljkCW+/Gk+sfPBKB+M8sH4da2A2feRsL/M+3U+5Ebba+HzP1n2Nq2klmHng1E+GOWDUT4Y9E2eG7Gw/2vStSaDA16nHe5i2PlglA9G+WDQe/7I61i6vMTK8UJyvNli2oCdD0b5YJQPRvlgUH/VmwrGPfXYrZgNjS80FPm/94+TSmordj4Y5YNRPpiuvcmzKZL11I8FSYn9PcuyLMt/t7pvAe7vMex8MMoHo3wwygfTtQe+k9H0bomVM4XkVe1LbjydUlAHYueDUT4Y5YPp2j1/5Hriwp0rC9GupirpXOx8MMoHo3wwygfTtU/yHIlkD67lx6OXinMuRtb9qqKgDsTOB6N8MMoH07V7vjTGzgejfDDKB6N8MH8Ae+1e9zZdv4wAAAAASUVORK5CYII=\", \"id\": \"el526794501101136\"}], \"xdomain\": [-0.5, 27.5], \"ylim\": [27.5, -0.5], \"paths\": [], \"sharey\": [], \"sharex\": [], \"axesbgalpha\": null, \"axes\": [{\"scale\": \"linear\", \"tickformat\": \"\", \"grid\": {\"gridOn\": false}, \"fontsize\": null, \"position\": \"bottom\", \"nticks\": 0, \"tickvalues\": []}, {\"scale\": \"linear\", \"tickformat\": \"\", \"grid\": {\"gridOn\": false}, \"fontsize\": null, \"position\": \"left\", \"nticks\": 0, \"tickvalues\": []}], \"lines\": [], \"markers\": [], \"id\": \"el526794507869776\", \"ydomain\": [27.5, -0.5], \"collections\": [], \"xscale\": \"linear\", \"bbox\": [0.81525239463601551, 0.13752394636015342, 0.15749521072796935, 0.78747605363984663]}], \"height\": 160.0, \"width\": 800.0, \"plugins\": [{\"type\": \"reset\"}, {\"enabled\": false, \"button\": true, \"type\": \"zoom\"}, {\"enabled\": false, \"button\": true, \"type\": \"boxzoom\"}], \"data\": {}, \"id\": \"el526794497078800\"});\n",
        "            })\n",
        "         });\n",
        "}\n",
        "</script>"
       ],
       "metadata": {},
       "output_type": "display_data",
       "png": "[encoded data removed]",
       "text": [
        "<matplotlib.figure.Figure at 0x10c0bfa10>"
       ]
      }
     ],
     "prompt_number": 3
    },
    {
     "cell_type": "heading",
     "level": 3,
     "metadata": {},
     "source": [
      "2. Building a ConvNet"
     ]
    },
    {
     "cell_type": "markdown",
     "metadata": {},
     "source": [
      "Now that everything looks right, we're ready to move on to creating a network for training. We'll do this in several consectutive steps.\n",
      "\n",
      "1. Define inputs\n",
      "2. Define processing nodes\n",
      "3. Define a scalar loss\n",
      "4. Define outputs\n",
      "5. Specify connections between nodes, i.e. edges\n",
      "6. Create the network, i.e. graph"
     ]
    },
    {
     "cell_type": "heading",
     "level": 4,
     "metadata": {},
     "source": [
      "2.1 Defining Inputs"
     ]
    },
    {
     "cell_type": "markdown",
     "metadata": {},
     "source": [
      "For our digit classifier, we'll need three inputs: \n",
      "\n",
      "* input image `data`, as a 4D Tensor of floats (default)\n",
      "* ground truth class `labels`, as a vector of int32's\n",
      "* a scalar `learning_rate` to control the magnitude of each update"
     ]
    },
    {
     "cell_type": "code",
     "collapsed": false,
     "input": [
      "# shape = (num_samples, 1, x_dim, y_dim)\n",
      "data = optimus.Input(\n",
      "    name='data',\n",
      "    shape=(None, 1, 28, 28))\n",
      "\n",
      "# shape = (num_samples, )\n",
      "class_labels = optimus.Input(\n",
      "    name='labels',\n",
      "    shape=(None,),\n",
      "    dtype='int32')\n",
      "\n",
      "# scalar -> None\n",
      "learning_rate = optimus.Input(\n",
      "    name='learning_rate',\n",
      "    shape=None)"
     ],
     "language": "python",
     "metadata": {},
     "outputs": [],
     "prompt_number": 4
    },
    {
     "cell_type": "markdown",
     "metadata": {},
     "source": [
      "Some important aspects to note:\n",
      "\n",
      "* As a convention, the first dimension corresponds to unique samples or datapoints. \n",
      "* `None` can be passed as the first dimension of an `Input` to indicate that it is variable. Only the first dimension may ever be `None`. Doing so allows for the graph to accept different number of inputs at a time, but will be slightly less efficient. Keep this trade-off in mind.\n",
      "* Passing `None` as the entire shape specifies the `Input` is a scalar. \n",
      "* All inputs must be **uniquely** named; these are the keyword argument names under which a network will accept. It is good practice to keep the instance names consistent with `Input` names, as is done with `data`, although it is not strictly necessary, as with `labels`. For clarity, the graph will expect an input under `labels`, **not** `class_labels`."
     ]
    },
    {
     "cell_type": "heading",
     "level": 4,
     "metadata": {},
     "source": [
      "2.2 Defining Nodes"
     ]
    },
    {
     "cell_type": "markdown",
     "metadata": {},
     "source": [
      "Most convoltional neural networks are comprised of one or more convolutional layers, with or without pooling, followed by one or more affine, or fully-connected, layers. For classifiers, a softmax operation is often applied to the output of the final layer so that it behaves like a probability mass function over the known classes, i.e. bounded on [0, 1] and sums to 1.\n",
      "\n",
      "Here, we'll create one convolutional node, two affine nodes, and a softmax operator, which will do the main work of our graph."
     ]
    },
    {
     "cell_type": "code",
     "collapsed": false,
     "input": [
      "conv = optimus.Conv3D(\n",
      "    name='conv',\n",
      "    input_shape=data.shape,\n",
      "    weight_shape=(15, 1, 9, 9),  # (num_kernels, num_input_maps, x_dim, y_dim)\n",
      "    pool_shape=(2, 2),\n",
      "    act_type='relu')\n",
      "\n",
      "affine = optimus.Affine(\n",
      "    name='affine',\n",
      "    input_shape=conv.output.shape,\n",
      "    output_shape=(None, 512,),  # (num_samples, num_outputs)\n",
      "    act_type='relu')\n",
      "\n",
      "classifier = optimus.Affine(\n",
      "    name='classifier',\n",
      "    input_shape=affine.output.shape,\n",
      "    output_shape=(None, 10),  # (num_samples, num_outputs)\n",
      "    act_type='linear')\n",
      "\n",
      "softmax = optimus.Softmax(name='softmax')"
     ],
     "language": "python",
     "metadata": {},
     "outputs": [],
     "prompt_number": 5
    },
    {
     "cell_type": "markdown",
     "metadata": {},
     "source": [
      "Observations:\n",
      "   * Like `Inputs`, nodes must also be uniquely named. \n",
      "   * When creating nodes, the `shape` attributes of `Inputs` or node `Outputs` can be used to easily specify the dimensions a node might expect, as in line 3 or 10 respectively. Check the class definitions of a given node to determine the named outputs (see below).\n",
      "   * Here, we'll use 3D convolutions since they're --generally-- faster than other convolution operations. The Conv3D operation will expect a 4D input, which is the motivation of the singleton dimension previously. As given by the comment in line 14, this Conv3D node will have 15 kernels, shaped (1, 9, 9).\n",
      "   * The first two nodes use `relu`, or Rectified Linear Unit, activation functions; other common activation functions include `sigmoid`, `tanh`, or `linear`, as in line 18.\n",
      "   * Similar to the shape arguments of `Inputs`, both `Affine` nodes have output shapes that start with `None`; this indicates that the first dimension, `num_samples`, is variable. \n",
      "   * Note that `Affine` nodes are defined by input and output shapes, whereas `Conv3D` nodes are defined by input and weight shapes, sparing you the need to determine, in advance, what the output shape will be."
     ]
    },
    {
     "cell_type": "heading",
     "level": 4,
     "metadata": {},
     "source": [
      "2.3 Defining Losses"
     ]
    },
    {
     "cell_type": "markdown",
     "metadata": {},
     "source": [
      "In order to train a network via backpropagation, it is necessary to compute some scalar `loss` such that all parameters in the network can be differentiated with respect to it. The choice or design of a loss function is crucial and hardly trivial, and an ongoing research topic; for those interested, the following is suggested: \n",
      "\n",
      "http://yann.lecun.com/exdb/publis/pdf/lecun-06.pdf\n",
      "\n",
      "Using optimus, a great many custom loss functions can be stitched together by some combination of nodes. However, more often than not, it's more than sufficient to use one of the provided losses, which are use-case specific nodes. Here, we'll use a negative log-likelihood loss, which typically works well for 1-of-K classifier problems."
     ]
    },
    {
     "cell_type": "code",
     "collapsed": false,
     "input": [
      "nll = optimus.NegativeLogLikelihoodLoss(name='nll')"
     ],
     "language": "python",
     "metadata": {},
     "outputs": [],
     "prompt_number": 6
    },
    {
     "cell_type": "markdown",
     "metadata": {},
     "source": [
      "As we will see shortly, the `NegativeLogLikelihoodLoss` node has two inputs, `likelihoods` and `index`, and outputs a scalar `output`, which is the mean negative log-likehood of the \"correct\" answers."
     ]
    },
    {
     "cell_type": "heading",
     "level": 4,
     "metadata": {},
     "source": [
      "2.4 Define Outputs"
     ]
    },
    {
     "cell_type": "markdown",
     "metadata": {},
     "source": [
      "Finally, to get information out of our network, it is necessary to create `Outputs`, which act as signal taps on the graph. Any node that computes some result can be tapped as an output. To demonstrate, we'll specify outputs for `likelihoods`, from the `softmax` node, and the overall `loss`, from the `nll` loss node."
     ]
    },
    {
     "cell_type": "code",
     "collapsed": false,
     "input": [
      "likelihoods = optimus.Output(name='likelihoods')\n",
      "loss = optimus.Output(name='loss')"
     ],
     "language": "python",
     "metadata": {},
     "outputs": [],
     "prompt_number": 7
    },
    {
     "cell_type": "markdown",
     "metadata": {},
     "source": [
      "Note that any one graph can produce a multitude of outputs, so long as they are named and specified as connections. This can be particularly useful when debugging a network, or to explore what the learned representations happen to look like."
     ]
    },
    {
     "cell_type": "heading",
     "level": 4,
     "metadata": {},
     "source": [
      "2.5 Specifying Connections"
     ]
    },
    {
     "cell_type": "markdown",
     "metadata": {},
     "source": [
      "While much neural network research makes use of a cascade of singular layers, it is possible to specify arbitrarily connected acyclic (no loops) graphs. This can be crucial when learning on multimodal data, i.e. synchronized audio and video, or combining multiple sources of ground truth data, i.e. joint speech and face recognition.\n",
      "\n",
      "For convenience, `ConnectionManager` are used to specify edges as a list of \"(from, to)\" tuples, like one were connecting objects with lines:"
     ]
    },
    {
     "cell_type": "code",
     "collapsed": false,
     "input": [
      "trainer_edges = optimus.ConnectionManager([\n",
      "    # Input\n",
      "    (data, conv.input),\n",
      "    # Nodes\n",
      "    (conv.output, affine.input),\n",
      "    (affine.output, classifier.input),\n",
      "    (classifier.output, softmax.input),\n",
      "    (softmax.output, nll.likelihoods),\n",
      "    (class_labels, nll.index),\n",
      "    # Outputs\n",
      "    (softmax.output, likelihoods),\n",
      "    (nll.output, loss)])\n",
      "\n",
      "update_edges = optimus.ConnectionManager([\n",
      "    (learning_rate, conv.weights),\n",
      "    (learning_rate, conv.bias),\n",
      "    (learning_rate, affine.weights),\n",
      "    (learning_rate, affine.bias),\n",
      "    (learning_rate, classifier.weights),\n",
      "    (learning_rate, classifier.bias)])"
     ],
     "language": "python",
     "metadata": {},
     "outputs": [],
     "prompt_number": 8
    },
    {
     "cell_type": "markdown",
     "metadata": {},
     "source": [
      "Note that two ConnectionManagers are used here: one connecting inputs to outputs, and a second connecting the `learning_rate` to the parameters of each node. Specifying the connectivity of learning rates makes it easy to use different values for different parameters, or simply not update certain parameters. One may come across these needs when attempting to train a network with coordinate block descent or supervised fine-tuning of pre-trained parameters.\n",
      "\n",
      "A word of caution: ports, e.g. inputs or outputs, are single-input, multi-output (SIMO). In other words, one output can be mapped to many inputs, but only one connection can be mapped to one input.\n",
      "\n",
      "Strictly speaking, ConnectionManagers are not a necessity, but the \"(from, to)\" connection paradigm is easier to rationalize than the form that is needed, being \"{from : [to, ...]}\":"
     ]
    },
    {
     "cell_type": "code",
     "collapsed": false,
     "input": [
      "# Show the dictionary of {from -> [to, ...]}\n",
      "trainer_edges.connections"
     ],
     "language": "python",
     "metadata": {},
     "outputs": [
      {
       "metadata": {},
       "output_type": "pyout",
       "prompt_number": 9,
       "text": [
        "{'affine.output': ['classifier.input'],\n",
        " 'classifier.output': ['softmax.input'],\n",
        " 'conv.output': ['affine.input'],\n",
        " 'data': ['conv.input'],\n",
        " 'labels': ['nll.index'],\n",
        " 'nll.output': ['loss'],\n",
        " 'softmax.output': ['nll.likelihoods', 'likelihoods']}"
       ]
      }
     ],
     "prompt_number": 9
    },
    {
     "cell_type": "heading",
     "level": 4,
     "metadata": {},
     "source": [
      "2.6 Create the Full Graph"
     ]
    },
    {
     "cell_type": "markdown",
     "metadata": {},
     "source": [
      "Having specified the various parts of our training graph, we can now assemble the full network and randomly intialize the parameters (which default to zero)."
     ]
    },
    {
     "cell_type": "code",
     "collapsed": false,
     "input": [
      "trainer = optimus.Graph(\n",
      "    name='mnist_trainer',\n",
      "    inputs=[data, class_labels, learning_rate],\n",
      "    nodes=[conv, affine, classifier, softmax, nll],\n",
      "    connections=trainer_edges.connections,\n",
      "    outputs=[loss, likelihoods],\n",
      "    loss=loss,\n",
      "    updates=update_edges.connections)\n",
      "\n",
      "for node in conv, affine, classifier:\n",
      "    optimus.random_init(node.weights, mean=0.0, std=0.1)"
     ],
     "language": "python",
     "metadata": {},
     "outputs": [],
     "prompt_number": 10
    },
    {
     "cell_type": "markdown",
     "metadata": {},
     "source": [
      "Now the training graph can be called directly with mnist data. Here, we'll take the push just the few datapoints through the graph."
     ]
    },
    {
     "cell_type": "code",
     "collapsed": false,
     "input": [
      "X, y = [_[:3] for _ in train]\n",
      "print trainer(data=X, labels=y, learning_rate=0.02)"
     ],
     "language": "python",
     "metadata": {},
     "outputs": [
      {
       "output_type": "stream",
       "stream": "stdout",
       "text": [
        "OrderedDict([('loss', array(2.378587438364377)), ('likelihoods', array([[ 0.3637,  0.    ,  0.0009,  0.0043,  0.0082,  0.0056,  0.6079,\n",
        "         0.0017,  0.0001,  0.0075],\n",
        "       [ 0.9842,  0.0002,  0.0007,  0.002 ,  0.0017,  0.0014,  0.0054,\n",
        "         0.0034,  0.0004,  0.0006],\n",
        "       [ 0.6026,  0.0315,  0.0006,  0.0521,  0.1438,  0.0242,  0.0364,\n",
        "         0.0494,  0.0324,  0.0269]]))])\n"
       ]
      }
     ],
     "prompt_number": 11
    },
    {
     "cell_type": "markdown",
     "metadata": {},
     "source": [
      "Here we see that, given the appropriate inputs, a graph returns a dictionary of values, keyed by the named outputs requested."
     ]
    },
    {
     "cell_type": "heading",
     "level": 3,
     "metadata": {},
     "source": [
      "3. Training the Network"
     ]
    },
    {
     "cell_type": "markdown",
     "metadata": {},
     "source": [
      "Once the `trainer` network is built, pushing data through the graph with a positive scalar for `learning_rate` will cause the parameters to move in the direction of a smaller loss value. If the learning rate is too small this may take a considerable amount of time; conversely, too large a learning rate will cause the network to diverge, often quickly, and die a glorious death. \n",
      "\n",
      "This iterative training process can be simplied through two pieces of code: a minibatch data generator and a training driver."
     ]
    },
    {
     "cell_type": "heading",
     "level": 4,
     "metadata": {},
     "source": [
      "3.1 Minibatch generator"
     ]
    },
    {
     "cell_type": "markdown",
     "metadata": {},
     "source": [
      "While research of stochastic learning methods, and in particular *curriculum* learning, is ongoing, here we'll define a generator that returns batches of randomly sampled datapoints.\n",
      "\n",
      "**Note:** If generators make you weak in the knees, the following post is a highly recommended introduction (or refresher):\n",
      "\n",
      "http://www.jeffknupp.com/blog/2013/04/07/improve-your-python-yield-and-generators-explained/"
     ]
    },
    {
     "cell_type": "code",
     "collapsed": false,
     "input": [
      "def minibatch(data, labels, batch_size, max_iter=np.inf):\n",
      "    \"\"\"Random mini-batch generator.\n",
      "\n",
      "    Parameters\n",
      "    ----------\n",
      "    data : array_like, len=N\n",
      "        Observation data.\n",
      "    labels : array_like, len=N\n",
      "        Labels corresponding the the given data.\n",
      "    batch_size : int\n",
      "        Number of datapoints to return at each iteration.\n",
      "    max_iter : int, default=inf\n",
      "        Number of iterations before raising a StopIteration.\n",
      "\n",
      "    Yields\n",
      "    ------\n",
      "    batch : dict\n",
      "        Random batch of datapoints, under the keys `data` and `labels`.\n",
      "    \"\"\"\n",
      "    num_points = len(labels)\n",
      "    order = np.random.permutation(num_points)\n",
      "    idx, count = 0, 0\n",
      "    while count < max_iter:\n",
      "        x, y = [], []\n",
      "        while len(y) < batch_size:\n",
      "            x.append(data[order[idx]])\n",
      "            y.append(labels[order[idx]])\n",
      "            idx += 1\n",
      "            if idx >= num_points:\n",
      "                idx = 0\n",
      "                np.random.shuffle(order)\n",
      "        # Look here! I'm important!\n",
      "        yield dict(data=np.asarray(x), labels=np.asarray(y))\n",
      "        count += 1"
     ],
     "language": "python",
     "metadata": {},
     "outputs": [],
     "prompt_number": 12
    },
    {
     "cell_type": "markdown",
     "metadata": {},
     "source": [
      "Generator or logic nuances are left as an exercise, but there is one crucial component of this generator that allows it to work seamlessly with an optimus Driver. In line 33, the generator yields a dictionary with keys corresponding to the names of the graph's inputs (defined above in [2.1](#2.1-Defining-Inputs)). \n",
      "\n",
      "Note, however, that we don't trouble ourselves with constants for the time being. These will be provided as a separate dictionary of static values."
     ]
    },
    {
     "cell_type": "heading",
     "level": 4,
     "metadata": {},
     "source": [
      "3.2 Create a Driver"
     ]
    },
    {
     "cell_type": "markdown",
     "metadata": {},
     "source": [
      "When training neural networks, there is much repeated infrastructure common to all graphs, such as parameter checkpointing, loss statistics, and progress reporting. The Driver class serves to condense this functionality and more into a single object thus simplifying the process of learning parameters.\n",
      "\n",
      "The following passes the training graph to a driver, and calling the `fit` method begins the training process. The right-most value reports the loss as a function of iteration."
     ]
    },
    {
     "cell_type": "code",
     "collapsed": false,
     "input": [
      "driver = optimus.Driver(graph=trainer)\n",
      "driver.fit(\n",
      "    source=minibatch(train[0], train[1], batch_size=25), \n",
      "    hyperparams={'learning_rate': 0.02}, \n",
      "    max_iter=500, print_freq=25)"
     ],
     "language": "python",
     "metadata": {},
     "outputs": [
      {
       "output_type": "stream",
       "stream": "stdout",
       "text": [
        "[Sun Jan  4 22:13:16 2015] 0 / 500: 5.6353\n",
        "[Sun Jan  4 22:13:17 2015] 25 / 500: 1.6048"
       ]
      },
      {
       "output_type": "stream",
       "stream": "stdout",
       "text": [
        "\n",
        "[Sun Jan  4 22:13:19 2015] 50 / 500: 0.5624"
       ]
      },
      {
       "output_type": "stream",
       "stream": "stdout",
       "text": [
        "\n",
        "[Sun Jan  4 22:13:20 2015] 75 / 500: 0.6243"
       ]
      },
      {
       "output_type": "stream",
       "stream": "stdout",
       "text": [
        "\n",
        "[Sun Jan  4 22:13:21 2015] 100 / 500: 0.5457"
       ]
      },
      {
       "output_type": "stream",
       "stream": "stdout",
       "text": [
        "\n",
        "[Sun Jan  4 22:13:22 2015] 125 / 500: 0.7153"
       ]
      },
      {
       "output_type": "stream",
       "stream": "stdout",
       "text": [
        "\n",
        "[Sun Jan  4 22:13:24 2015] 150 / 500: 0.3057"
       ]
      },
      {
       "output_type": "stream",
       "stream": "stdout",
       "text": [
        "\n",
        "[Sun Jan  4 22:13:25 2015] 175 / 500: 0.1457"
       ]
      },
      {
       "output_type": "stream",
       "stream": "stdout",
       "text": [
        "\n",
        "[Sun Jan  4 22:13:26 2015] 200 / 500: 0.1947"
       ]
      },
      {
       "output_type": "stream",
       "stream": "stdout",
       "text": [
        "\n",
        "[Sun Jan  4 22:13:27 2015] 225 / 500: 0.2481"
       ]
      },
      {
       "output_type": "stream",
       "stream": "stdout",
       "text": [
        "\n",
        "[Sun Jan  4 22:13:29 2015] 250 / 500: 0.2332"
       ]
      },
      {
       "output_type": "stream",
       "stream": "stdout",
       "text": [
        "\n",
        "[Sun Jan  4 22:13:30 2015] 275 / 500: 0.2170"
       ]
      },
      {
       "output_type": "stream",
       "stream": "stdout",
       "text": [
        "\n",
        "[Sun Jan  4 22:13:31 2015] 300 / 500: 0.2805"
       ]
      },
      {
       "output_type": "stream",
       "stream": "stdout",
       "text": [
        "\n",
        "[Sun Jan  4 22:13:32 2015] 325 / 500: 0.2990"
       ]
      },
      {
       "output_type": "stream",
       "stream": "stdout",
       "text": [
        "\n",
        "[Sun Jan  4 22:13:34 2015] 350 / 500: 0.4211"
       ]
      },
      {
       "output_type": "stream",
       "stream": "stdout",
       "text": [
        "\n",
        "[Sun Jan  4 22:13:35 2015] 375 / 500: 0.1738"
       ]
      },
      {
       "output_type": "stream",
       "stream": "stdout",
       "text": [
        "\n",
        "[Sun Jan  4 22:13:36 2015] 400 / 500: 0.3504"
       ]
      },
      {
       "output_type": "stream",
       "stream": "stdout",
       "text": [
        "\n",
        "[Sun Jan  4 22:13:37 2015] 425 / 500: 0.2855"
       ]
      },
      {
       "output_type": "stream",
       "stream": "stdout",
       "text": [
        "\n",
        "[Sun Jan  4 22:13:39 2015] 450 / 500: 0.2888"
       ]
      },
      {
       "output_type": "stream",
       "stream": "stdout",
       "text": [
        "\n",
        "[Sun Jan  4 22:13:40 2015] 475 / 500: 0.1993"
       ]
      },
      {
       "output_type": "stream",
       "stream": "stdout",
       "text": [
        "\n",
        "[Sun Jan  4 22:13:41 2015] 500 / 500: 0.2995"
       ]
      },
      {
       "output_type": "stream",
       "stream": "stdout",
       "text": [
        "\n"
       ]
      }
     ],
     "prompt_number": 13
    },
    {
     "cell_type": "markdown",
     "metadata": {},
     "source": [
      "Now that we've trained the ConvNet for several hundred iterations, we can transform the validation data and see how we're doing. Note that an image's class can be estimated by finding the argmax over each datapoint."
     ]
    },
    {
     "cell_type": "code",
     "collapsed": false,
     "input": [
      "outputs = trainer(data=valid[0], labels=valid[1], learning_rate=0.0)\n",
      "labels_pred = outputs['likelihoods'].argmax(axis=1)\n",
      "print \"Classification Error: {0:0.4}\".format(1.0 - np.equal(valid[1], labels_pred).mean())\n",
      "print \"                Loss: {0:0.4}\".format(float(outputs['loss']))"
     ],
     "language": "python",
     "metadata": {},
     "outputs": [
      {
       "output_type": "stream",
       "stream": "stdout",
       "text": [
        "Classification Error: 0.0585\n",
        "                Loss: 0.2003\n"
       ]
      }
     ],
     "prompt_number": 14
    },
    {
     "cell_type": "markdown",
     "metadata": {},
     "source": [
      "Certainly this network isn't done learning, and would proceed until some stopping criterion is reached. However, for the purposes of demonstration, we're almost done here. There's only one big topic left to address."
     ]
    },
    {
     "cell_type": "heading",
     "level": 3,
     "metadata": {},
     "source": [
      "4. Serialization"
     ]
    },
    {
     "cell_type": "markdown",
     "metadata": {},
     "source": [
      "One of main goals of optimus is to provide safe and seamless serialization between the learning and application stages in a development pipeline. This is achieved by tearing down a graph into two distinct parts: a JSON definition, and a numpy archive of parameters.\n",
      "\n",
      "What does this look like? Let's save the trainer to disk."
     ]
    },
    {
     "cell_type": "code",
     "collapsed": false,
     "input": [
      "optimus.save(trainer, \"mnist_trainer.json\", \"mnist_params.npz\")"
     ],
     "language": "python",
     "metadata": {},
     "outputs": [],
     "prompt_number": 15
    },
    {
     "cell_type": "code",
     "collapsed": false,
     "input": [
      "# Print the JSON\n",
      "for line in open(\"mnist_trainer.json\"):\n",
      "    print line.strip('\\n')"
     ],
     "language": "python",
     "metadata": {},
     "outputs": [
      {
       "output_type": "stream",
       "stream": "stdout",
       "text": [
        "{\n",
        "  \"loss\": {\n",
        "    \"type\": \"Output\", \n",
        "    \"name\": \"loss\"\n",
        "  }, \n",
        "  \"name\": \"mnist_trainer\", \n",
        "  \"inputs\": [\n",
        "    {\n",
        "      \"dtype\": \"float64\", \n",
        "      \"shape\": [\n",
        "        null, \n",
        "        1, \n",
        "        28, \n",
        "        28\n",
        "      ], \n",
        "      \"type\": \"Input\", \n",
        "      \"name\": \"data\"\n",
        "    }, \n",
        "    {\n",
        "      \"dtype\": \"int32\", \n",
        "      \"shape\": [\n",
        "        null\n",
        "      ], \n",
        "      \"type\": \"Input\", \n",
        "      \"name\": \"labels\"\n",
        "    }, \n",
        "    {\n",
        "      \"dtype\": \"float64\", \n",
        "      \"shape\": null, \n",
        "      \"type\": \"Input\", \n",
        "      \"name\": \"learning_rate\"\n",
        "    }\n",
        "  ], \n",
        "  \"outputs\": [\n",
        "    {\n",
        "      \"type\": \"Output\", \n",
        "      \"name\": \"loss\"\n",
        "    }, \n",
        "    {\n",
        "      \"type\": \"Output\", \n",
        "      \"name\": \"likelihoods\"\n",
        "    }\n",
        "  ], \n",
        "  \"connections\": {\n",
        "    \"nll.output\": [\n",
        "      \"loss\"\n",
        "    ], \n",
        "    \"conv.output\": [\n",
        "      \"affine.input\"\n",
        "    ], \n",
        "    \"classifier.output\": [\n",
        "      \"softmax.input\"\n",
        "    ], \n",
        "    \"softmax.output\": [\n",
        "      \"nll.likelihoods\", \n",
        "      \"likelihoods\"\n",
        "    ], \n",
        "    \"labels\": [\n",
        "      \"nll.index\"\n",
        "    ], \n",
        "    \"data\": [\n",
        "      \"conv.input\"\n",
        "    ], \n",
        "    \"affine.output\": [\n",
        "      \"classifier.input\"\n",
        "    ]\n",
        "  }, \n",
        "  \"updates\": {\n",
        "    \"learning_rate\": [\n",
        "      \"conv.weights\", \n",
        "      \"conv.bias\", \n",
        "      \"affine.weights\", \n",
        "      \"affine.bias\", \n",
        "      \"classifier.weights\", \n",
        "      \"classifier.bias\"\n",
        "    ]\n",
        "  }, \n",
        "  \"nodes\": [\n",
        "    {\n",
        "      \"act_type\": \"relu\", \n",
        "      \"name\": \"conv\", \n",
        "      \"weight_shape\": [\n",
        "        15, \n",
        "        1, \n",
        "        9, \n",
        "        9\n",
        "      ], \n",
        "      \"type\": \"Conv3D\", \n",
        "      \"downsample_shape\": [\n",
        "        1, \n",
        "        1\n",
        "      ], \n",
        "      \"input_shape\": [\n",
        "        null, \n",
        "        1, \n",
        "        28, \n",
        "        28\n",
        "      ], \n",
        "      \"pool_shape\": [\n",
        "        2, \n",
        "        2\n",
        "      ], \n",
        "      \"border_mode\": \"valid\"\n",
        "    }, \n",
        "    {\n",
        "      \"act_type\": \"relu\", \n",
        "      \"type\": \"Affine\", \n",
        "      \"output_shape\": [\n",
        "        null, \n",
        "        512\n",
        "      ], \n",
        "      \"name\": \"affine\", \n",
        "      \"input_shape\": [\n",
        "        null, \n",
        "        15, \n",
        "        10, \n",
        "        10\n",
        "      ]\n",
        "    }, \n",
        "    {\n",
        "      \"act_type\": \"linear\", \n",
        "      \"type\": \"Affine\", \n",
        "      \"output_shape\": [\n",
        "        null, \n",
        "        10\n",
        "      ], \n",
        "      \"name\": \"classifier\", \n",
        "      \"input_shape\": [\n",
        "        null, \n",
        "        512\n",
        "      ]\n",
        "    }, \n",
        "    {\n",
        "      \"type\": \"Softmax\", \n",
        "      \"name\": \"softmax\"\n",
        "    }, \n",
        "    {\n",
        "      \"type\": \"NegativeLogLikelihoodLoss\", \n",
        "      \"name\": \"nll\"\n",
        "    }\n",
        "  ], \n",
        "  \"type\": \"Graph\"\n",
        "}\n"
       ]
      }
     ],
     "prompt_number": 16
    },
    {
     "cell_type": "code",
     "collapsed": false,
     "input": [
      "param_values = np.load(\"mnist_params.npz\")\n",
      "for k in param_values.keys():\n",
      "    print k, param_values[k].shape"
     ],
     "language": "python",
     "metadata": {},
     "outputs": [
      {
       "output_type": "stream",
       "stream": "stdout",
       "text": [
        "conv.bias (15,)\n",
        "conv.weights (15, 1, 9, 9)\n",
        "affine.weights (1500, 512)\n",
        "affine.bias (512,)\n",
        "classifier.weights (512, 10)\n",
        "classifier.bias (10,)\n"
       ]
      }
     ],
     "prompt_number": 17
    },
    {
     "cell_type": "markdown",
     "metadata": {},
     "source": [
      "This graph can be recreated by calling `optimus.load(def_file, param_file)`, but for the sake of demonstration, let's load *only* the defintion and predict the validation dataset."
     ]
    },
    {
     "cell_type": "code",
     "collapsed": false,
     "input": [
      "# Load the definition, without parameters\n",
      "new_trainer = optimus.load(\"mnist_trainer.json\")\n",
      "\n",
      "outputs = new_trainer(data=valid[0], labels=valid[1], learning_rate=0.0)\n",
      "labels_pred = outputs['likelihoods'].argmax(axis=1)\n",
      "print \"Classification Error: {0:0.4}\".format(1.0 - np.equal(valid[1], labels_pred).mean())\n",
      "print \"                Loss: {0:0.4}\".format(float(outputs['loss']))"
     ],
     "language": "python",
     "metadata": {},
     "outputs": [
      {
       "output_type": "stream",
       "stream": "stdout",
       "text": [
        "Classification Error: 0.9009\n",
        "                Loss: 2.303\n"
       ]
      }
     ],
     "prompt_number": 18
    },
    {
     "cell_type": "markdown",
     "metadata": {},
     "source": [
      "As to be expected, the network is effectively blank, and predicts a constant class index (each of which will occur roughly 10% of the time).\n",
      "\n",
      "Let's manually set the parameters by passing the loaded numpy archive to the graph's `param_values` property. All keys in the archive that match parameter names known to the graph will be set, and the rest discarded noisily."
     ]
    },
    {
     "cell_type": "code",
     "collapsed": false,
     "input": [
      "# Set the parameters with those previously loaded.\n",
      "new_trainer.param_values = param_values\n",
      "new_trainer.param_values = {'conv.another_param': np.ones([3, 4])}\n",
      "\n",
      "outputs = new_trainer(data=valid[0], labels=valid[1], learning_rate=0.0)\n",
      "labels_pred = outputs['likelihoods'].argmax(axis=1)\n",
      "print \"Classification Error: {0:0.4}\".format(1.0 - np.equal(valid[1], labels_pred).mean())\n",
      "print \"                Loss: {0:0.4}\".format(float(outputs['loss']))"
     ],
     "language": "python",
     "metadata": {},
     "outputs": [
      {
       "output_type": "stream",
       "stream": "stdout",
       "text": [
        "Received erroneous parameter: conv.another_param\n",
        "Classification Error: 0.0585"
       ]
      },
      {
       "output_type": "stream",
       "stream": "stdout",
       "text": [
        "\n",
        "                Loss: 0.2003\n"
       ]
      }
     ],
     "prompt_number": 19
    },
    {
     "cell_type": "markdown",
     "metadata": {},
     "source": [
      "This way, the parameters of any node can be set directly by providing a dictionary of params, keyed by \"`{node_name}.{parameter_name}`\". This makes it easy to load parameters into a graph that came from a previous training session, some new unsupervised learning approach, or hand-crafted features for fine-tuning."
     ]
    }
   ],
   "metadata": {}
  }
 ]
}