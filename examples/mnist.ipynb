{
 "metadata": {
  "name": "",
  "signature": "sha256:fcbe03d39147538cfcef4f019e1f04dbccb3235eb513bde19fbab5dc29c774a9"
 },
 "nbformat": 3,
 "nbformat_minor": 0,
 "worksheets": [
  {
   "cells": [
    {
     "cell_type": "heading",
     "level": 1,
     "metadata": {},
     "source": [
      "Building an MNIST ConvNet in Optimus"
     ]
    },
    {
     "cell_type": "markdown",
     "metadata": {},
     "source": [
      "In this notebook, we'll walk through the processes of building a convolutional neural network using optimus step by step. To make the demonstration more applicable to a real research problem, we'll use the MNIST dataset.\n",
      "\n",
      "Conventions:\n",
      "* Each block is structured locally in three parts: (1) context, (2) code, and (3) a brief explanation.\n",
      "* Necessary code blocks are shown with line numbers, demonstration code blocks are not."
     ]
    },
    {
     "cell_type": "code",
     "collapsed": false,
     "input": [
      "# Global imports\n",
      "import random\n",
      "import matplotlib.pyplot as plt\n",
      "%matplotlib inline\n",
      "import seaborn\n",
      "import mpld3\n",
      "import numpy as np\n",
      "\n",
      "seaborn.set()\n",
      "np.set_printoptions(precision=4, suppress=True)\n",
      "mpld3.enable_notebook()\n",
      "\n",
      "import optimus"
     ],
     "language": "python",
     "metadata": {},
     "outputs": [],
     "prompt_number": 15
    },
    {
     "cell_type": "heading",
     "level": 3,
     "metadata": {},
     "source": [
      "1. Get the MNIST data."
     ]
    },
    {
     "cell_type": "markdown",
     "metadata": {},
     "source": [
      "One of the first successful applications of neural networks to \"real world problems\" came from Yann LeCun et al's work on hand-written digit recognition in the 1990's. Buzz around this problem was further stoked by the curation and dissemination of the data used, referred to simply as \"MNIST\". Interested readers can refer to the following choice selections: \n",
      "\n",
      "* http://yann.lecun.com/exdb/mnist/\n",
      "* http://yann.lecun.com/exdb/publis/pdf/lecun-98.pdf\n",
      "\n",
      "\n",
      "For those who would like to follow along, go ahead and download the pickled dataset from our friends at UMontreal, who have conveniently converted the data to a python-friendly format:\n",
      "\n",
      "http://deeplearning.net/data/mnist/mnist.pkl.gz\n",
      "\n",
      "No need to unzip the dataset; we'll build a data parser to unpack it directly."
     ]
    },
    {
     "cell_type": "code",
     "collapsed": false,
     "input": [
      "import gzip\n",
      "import cPickle\n",
      "\n",
      "def load_mnist(mnist_file):\n",
      "    \"\"\"Load the MNIST dataset into memory.\n",
      "\n",
      "    Parameters\n",
      "    ----------\n",
      "    mnist_file : str\n",
      "        Path to gzipped MNIST file.\n",
      "\n",
      "    Returns\n",
      "    -------\n",
      "    train, valid, test: tuples of np.ndarrays\n",
      "        Each consists of (data, labels), where data.shape=(N, 1, 28, 28) and\n",
      "        labels.shape=(N,).\n",
      "    \"\"\"\n",
      "    dsets = []\n",
      "    with gzip.open(mnist_file, 'rb') as fp:\n",
      "        for split in cPickle.load(fp):\n",
      "            n_samples = len(split[1])\n",
      "            data = np.zeros([n_samples, 1, 28, 28])\n",
      "            labels = np.zeros([n_samples], dtype=int)\n",
      "            for n, (x, y) in enumerate(zip(*split)):\n",
      "                data[n, ...] = x.reshape(1, 28, 28)\n",
      "                labels[n] = y\n",
      "            dsets.append((data, labels))\n",
      "\n",
      "    return dsets"
     ],
     "language": "python",
     "metadata": {},
     "outputs": [],
     "prompt_number": 2
    },
    {
     "cell_type": "markdown",
     "metadata": {},
     "source": [
      "A few comments before moving on...\n",
      "\n",
      "1. Note that the data is stored as three pairs of tuples: `data = [(X_train, y_train), (X_valid, y_valid), (X_test, y_test)]`\n",
      "2. Data is provided as a flat vector of coefficients, so these are reshaped on-load, in line 25.\n",
      "3. An additional (singleton) dimension is included during this reshape operation for convenience later. Try not to worry about it just yet.\n",
      "   \n"
     ]
    },
    {
     "cell_type": "code",
     "collapsed": false,
     "input": [
      "# let's load the data and take a look at some digits.\n",
      "train, valid, test = load_mnist(\"/Users/ejhumphrey/mnist/mnist.pkl.gz\")\n",
      "num_imgs = 5\n",
      "fig = plt.figure(figsize=(num_imgs*2, 2))\n",
      "for n, idx in enumerate(np.random.permutation(len(train[1]))[:num_imgs]):\n",
      "    ax = fig.add_subplot(101 + 10*num_imgs + n)\n",
      "    ax.imshow(\n",
      "        train[0][idx, 0], interpolation='nearest', \n",
      "        aspect='equal', cmap=plt.cm.hot)\n",
      "    ax.set_xlabel(\"{0}\".format(train[1][idx]))\n",
      "    ax.set_xticks([])    \n",
      "    ax.set_yticks([]);\n",
      "plt.tight_layout()"
     ],
     "language": "python",
     "metadata": {},
     "outputs": [
      {
       "html": [
        "\n",
        "\n",
        "<style>\n",
        "\n",
        "</style>\n",
        "\n",
        "<div id=\"fig_el5163444230160801487645388\"></div>\n",
        "<script>\n",
        "function mpld3_load_lib(url, callback){\n",
        "  var s = document.createElement('script');\n",
        "  s.src = url;\n",
        "  s.async = true;\n",
        "  s.onreadystatechange = s.onload = callback;\n",
        "  s.onerror = function(){console.warn(\"failed to load library \" + url);};\n",
        "  document.getElementsByTagName(\"head\")[0].appendChild(s);\n",
        "}\n",
        "\n",
        "if(typeof(mpld3) !== \"undefined\" && mpld3._mpld3IsLoaded){\n",
        "   // already loaded: just create the figure\n",
        "   !function(mpld3){\n",
        "       \n",
        "       mpld3.draw_figure(\"fig_el5163444230160801487645388\", {\"axes\": [{\"xlim\": [-0.5, 27.5], \"yscale\": \"linear\", \"axesbg\": \"#EAEAF2\", \"texts\": [{\"v_baseline\": \"hanging\", \"h_anchor\": \"middle\", \"color\": \"#262626\", \"text\": \"6\", \"coordinates\": \"axes\", \"zorder\": 3, \"alpha\": 1, \"fontsize\": 11.0, \"position\": [0.49999999999999989, -0.044093051543256823], \"rotation\": -0.0, \"id\": \"el516344423083728\"}], \"zoomable\": true, \"images\": [{\"coordinates\": \"data\", \"zorder\": 0, \"extent\": [-0.5, 27.5, 27.5, -0.5], \"alpha\": null, \"data\": \"iVBORw0KGgoAAAANSUhEUgAAAH8AAAB/CAYAAADGvR0TAAAABHNCSVQICAgIfAhkiAAABA5JREFUeJztnT9oFUEQh/dEBH1ooWBhColPUohphPiHFBaKWChGJCBYBUQIKOksFINEDLaxkBSKFqKFgrEJBEUIgoWKiM9CC00hSoiNIIci4lnvzJjsW9bc3fv9vm6GfZsNX4Yd9u1dsjXOFY5AsqLsBZDyoHxgKB8YygeG8oGhfGAoHxjKB4bygaF8YCgfGMoHhvKBWVn2AlKRHxCJmR/GqH4vamWv1Ijd6ZZUeVj5wFA+MJQPTC33/LNWcuaKSPw2Bs16UW9xSo3I++6qXONl8NJqBSsfGMoHhvKBoXxgsjpe3c4/Gsnu7+1P1LdWpQ4bzd2T9meuBax8YCgfGMoHphaHPOMy0W19aWMd6izOFND+bsHKB4bygaF8YCgfmFoc8uTvRaLHWvLPgJlee1Ej2xO7pI6AlQ8M5QND+cDU4pDH9chbOtb+vvQhzzT4Hi9h5QND+cBQPjCUD0zlGr5DZnZrkrlvJpmlc2DlA0P5wFA+MJX7YmfOyG0s5M1cq1URhzwf9M3cDaJ1CPkqqJNh5QND+cBQPjCUD0zlDnls5DIDlm38We8X8R3jY48CVnPwgpEcW+XHo7/UkGuX/PiiMU0e8PNTwcoHhvKBoXxgKnfIkz8wkgMRhzxBpJrHmitgnjl9EHVkix8/jlxNCKx8YCgfGMoHhvKBqV7DV2wysvJ5rQ5p+Cym/CZw8KgeMh03s4KVDwzlA0P5wFA+MNgNX6FP2Nw5Y9xJETetFz4mavjkPMOr1YjGZOTUAlY+MJQPDOUDU/qev17En4qdxqhZEcfu+Te8aCI7rUZYW75EvRTSOTcil/3HGHRexAPWyyTl77ZZjWhkX/65tnZg5QND+cBQPjCUD0zpDd8OET8thoxRV0Uc0vA11YhmtuDF80usLTX5dpH4agyal02g1fAtqFwMrHxgKB8Yygem9Me11D8x7zXenNOSe34cy/mXLnsZ55xzLdHPdAW8Jehemv3dgpUPDOUDQ/nAUD4wpR/ySJK9kMlgMPNv7qS6Au2cc+IRO9cq1hmjPgfM9NaLxo03hV8OXtXisPKBoXxgKB+Yyu358qKsc85NFPIp9b3GqIjbsqP6Zmw0Y/Iqj7x9FMguf02N53HThMDKB4bygaF8YCgfmMo1fBb5MZG4b115ruPz+f0qM5K98eLrkasJgZUPDOUDQ/nA1GLPl+TWmwn3WY9NL8X/3PMf6iFDx72w65Ye8i3yp8fAygeG8oGhfGAoH5haNnzbjNyLEyJxO6QBjGz4JvW7fN4N+/EZ42PPAla0nLDygaF8YCgfmFru+SQNrHxgKB8YygeG8oGhfGAoHxjKB4bygaF8YCgfGMoHhvKBoXxgKB8YygeG8oGhfGAoHxjKB4bygaF8YCgfmL/Qd5pgXV8ZnwAAAABJRU5ErkJggg==\", \"id\": \"el516344423208400\"}], \"xdomain\": [-0.5, 27.5], \"ylim\": [27.5, -0.5], \"paths\": [], \"sharey\": [], \"sharex\": [], \"axesbgalpha\": null, \"axes\": [{\"scale\": \"linear\", \"tickformat\": \"\", \"grid\": {\"gridOn\": false}, \"fontsize\": null, \"position\": \"bottom\", \"nticks\": 0, \"tickvalues\": []}, {\"scale\": \"linear\", \"tickformat\": \"\", \"grid\": {\"gridOn\": false}, \"fontsize\": null, \"position\": \"left\", \"nticks\": 0, \"tickvalues\": []}], \"lines\": [], \"markers\": [], \"id\": \"el516344423081424\", \"ydomain\": [27.5, -0.5], \"collections\": [], \"xscale\": \"linear\", \"bbox\": [0.027252394636015326, 0.13752394636015342, 0.15749521072796935, 0.78747605363984663]}, {\"xlim\": [-0.5, 27.5], \"yscale\": \"linear\", \"axesbg\": \"#EAEAF2\", \"texts\": [{\"v_baseline\": \"hanging\", \"h_anchor\": \"middle\", \"color\": \"#262626\", \"text\": \"2\", \"coordinates\": \"axes\", \"zorder\": 3, \"alpha\": 1, \"fontsize\": 11.0, \"position\": [0.49999999999999972, -0.044093051543256823], \"rotation\": -0.0, \"id\": \"el516344434166096\"}], \"zoomable\": true, \"images\": [{\"coordinates\": \"data\", \"zorder\": 0, \"extent\": [-0.5, 27.5, 27.5, -0.5], \"alpha\": null, \"data\": \"iVBORw0KGgoAAAANSUhEUgAAAH8AAAB/CAYAAADGvR0TAAAABHNCSVQICAgIfAhkiAAAA+hJREFUeJztnT1oFEEUx2eNKHogQSUGRbhCUWJhJdqlMY2NhYgQA4qFWAQJkkY4MGKhAYMoRBEFBT8KPwq11CIIWlgIfkAsIkTiV2GhJ4cBwbXUefPQu2FnZpf//9e9x7vdgR+PGeZ2Z7OlxuSGQLIg9QBIOigfGMoHhvKBoXxgKB8YygeG8oGhfGAoHxjKB4bygaF8YBamHoAPXUquX8QP8t1K1S0Rn3UqRrMRJ3dZxD//MbYqwc4HhvKBoXxgsio8ybNFxFMXlKJDP8INYGiJFdZuhLtVTNj5wFA+MJQPDOUDU7oFn1zcGWPMVD4gMvdjDOUvxu1w/ZhT0TNjx61wgykMdj4wlA8M5QNTujm/dUJJNgJu4BTE6czeCDqWaBydwM4HhvKBoXxgKB+Y0i34biu5HfkpkdmnVL0Q8RPPEQwqufr/fzZsL/jWTLolX73GEw52PjCUDwzlA1O6OV9jtYgfKjXXRXzS816tDUryTeebTA2x6WOMMWc8xhMSdj4wlA8M5QND+cBUYsEXk7dKrjf3+Fdxrbvgq73v/DIhYecDQ/nAUD4wlXxFOyS934u5TqNk87sGOx8YygeG8oGhfGAoHxjKB4bygaF8YCq5yXNQyclz+JSHZ83TAGP5wz0rmgt6r2Jg5wND+cBQPjCUD0zyJ3lqIn6s1GzMF4nMeaVqr4gPKDV32xiRdt6PXE5qrLKiTVnTqZht4yoxYecDQ/nAUD4wlA9M8gWfPH/piM9j0qXA3nccyK45FWF3GDuHnQ8M5QND+cBEnfO7ldyH/KrI7Ikwkgg8c1/Xmt1qx/I4aWOM+RhmNCrsfGAoHxjKB4bygYm64Fuu5OaCbeoohzB+2W7HK1NvKB12U92XrLD5zS1ZJ2Lfr3qw84GhfGAoH5ioc/64khv2mvNfu6nj9ne5BsfckpuLRWI+9ZzvybS9gbSizy2Zb+My7HxgKB8YygeG8oGJuuBr7VeSVzwWXS+VAw432/En5WfL8lciI7dL2mXCTTUb4mbhFpM7xYnejzyvw84HhvKBoXxgKvl+vva4S2uXSNyZVn5Y97yh/VLZtuyXU/FZxH3GXZcURVFPAbPzgaF8YCgfGMoHJuomj/bVsuelez3LPcqpkY1acdk+keYLOx8YygeG8oGJOud3KbkZEfdEXQNcdDJHsxEndy7GUBLAzgeG8oGhfGAoH5jkZ/LIRaBcABrjuwhUDlysD9nXfeeW+L76VEXY+cBQPjCUD0zyOZ+kg50PDOUDQ/nAUD4wlA8M5QND+cBQPjCUDwzlA0P5wFA+MJQPDOUDQ/nAUD4wlA8M5QND+cBQPjCUDwzlA/MbgcaFglci2kAAAAAASUVORK5CYII=\", \"id\": \"el516344434298896\"}], \"xdomain\": [-0.5, 27.5], \"ylim\": [27.5, -0.5], \"paths\": [], \"sharey\": [], \"sharex\": [], \"axesbgalpha\": null, \"axes\": [{\"scale\": \"linear\", \"tickformat\": \"\", \"grid\": {\"gridOn\": false}, \"fontsize\": null, \"position\": \"bottom\", \"nticks\": 0, \"tickvalues\": []}, {\"scale\": \"linear\", \"tickformat\": \"\", \"grid\": {\"gridOn\": false}, \"fontsize\": null, \"position\": \"left\", \"nticks\": 0, \"tickvalues\": []}], \"lines\": [], \"markers\": [], \"id\": \"el516344423125072\", \"ydomain\": [27.5, -0.5], \"collections\": [], \"xscale\": \"linear\", \"bbox\": [0.22425239463601535, 0.13752394636015342, 0.15749521072796932, 0.78747605363984663]}, {\"xlim\": [-0.5, 27.5], \"yscale\": \"linear\", \"axesbg\": \"#EAEAF2\", \"texts\": [{\"v_baseline\": \"hanging\", \"h_anchor\": \"middle\", \"color\": \"#262626\", \"text\": \"2\", \"coordinates\": \"axes\", \"zorder\": 3, \"alpha\": 1, \"fontsize\": 11.0, \"position\": [0.4999999999999995, -0.044093051543256823], \"rotation\": -0.0, \"id\": \"el516344434320208\"}], \"zoomable\": true, \"images\": [{\"coordinates\": \"data\", \"zorder\": 0, \"extent\": [-0.5, 27.5, 27.5, -0.5], \"alpha\": null, \"data\": \"iVBORw0KGgoAAAANSUhEUgAAAH8AAAB/CAYAAADGvR0TAAAABHNCSVQICAgIfAhkiAAABGVJREFUeJztnV9oT2EYx98jE/tljVJmF1ai4UJipbhYq7VCatNull9TRkoZd0qWJqNoU5g/i+RvoiGSzYXYlWal1JQo0lgrNfSzIo4Lbt7nfWwn+53z7rfv93P3PD2/c97t09N5e897zgnyjQkNgWSK7wEQf1A+MJQPDOUDQ/nAUD4wlA8M5QND+cBQPjCUDwzlA0P5wFA+MJQPDOUDQ/nATPU9gCTpE3Fpt1JU+UNJyn/TsFvSMMsK6865JXdGGZsP2PnAUD4wlA8M5QMT5OLW7dlKrlPEZVeUorqvEY5+0k117LHjrUeV3zWKuNmp2B0csOKzEUYTJ+x8YCgfGMoHJiev+ZmNSvKmtjgj6bKit8F6p2JphKNMV3KfZBv9fOkWdSy2wtS2CCeLEXY+MJQPDOUDQ/nA5MSEL7NMJJ5/VKparagnOOJUyHliZlyjGp3MLiXZVm2FqeBWjCMYG3Y+MJQPDOUD430nT6GIB9YoRT237fh8kVNSscWOn45rVFngg5a8akV9ZoZTsSKe0aiw84GhfGAoHxjKB8b7Is9pEadD5e5cYZ4Vpj7HN55sod2wa5N/W02eU5NKcN2HnQ8M5QND+cB4X+S5JuJ0iXsdrMuBa/x/cVHJzUzu9Ox8YCgfGMoHhvKB8T7heyzi1Dsvw/DDcr+nZ+cDQ/nAUD4w3q/5WNjv8ql97WkYf2HnA0P5wFA+MJQPjPedPJOVjNZWPy9YYSrYnMRQ/gk7HxjKB4bygaF8YDjhi4nMDiUp3jPAFzIRb1A+MJQPzKS5q3dDxPMj/Oabkisf/1D+cGKRm+t4la2jZwV2PjCUDwzlA0P5wEy4CZ/2qNrgSpHovaxUrRbxTqWmRMQtTkXGrHNyNcETK+5yKox542Tkh9yMMf0JPogXAXY+MJQPDOUD4/2af1fEFeE0pWrADkfmOBX38+24VjnKPBE3meNOTVrZTt0ZVlrxg+ChUzP3mcy4M4OGY8qgPMLOB4bygaF8YCgfmER38mjfxygI5SdOm5yawaDNihdkb0iRyMg3aBdF+IxblfKCxe7sjCdbsPOBoXxgKB+YWBd5qkRcEL5XqoqtqCb44lRoN1KS5JJYHUpHmCW1TLDruwY7HxjKB4bygaF8YGJd5JFfp7+ufEWjOLAXQ4adimRJKbmhMC0y7WMfqMrdtcNFHjJhoHxgKB8Y7zt5Bvba8cKDbo36ZdIssEnJnQkPK1n7bdC9gXs9L9svEl1uXy0Jfllx/+jDix12PjCUDwzlA0P5wMS6yCMXTIa2K0WnRkSi2a2pP2THytNarfZcypQqp1ort0433lOqNjiZcjFR61V+VS/i9rDaqWkN7G+l7lOOkyTsfGAoHxjKB8b7e/jkW2qKHylF5RF2y5oaO/wuHwQzxoinrF7IO0/GmFURzjRZYOcDQ/nAUD4wlA+M9wkf8Qc7HxjKB4bygaF8YCgfGMoHhvKBoXxgKB8YygeG8oGhfGAoHxjKB4bygaF8YCgfmN8Zzp09wMaH3AAAAABJRU5ErkJggg==\", \"id\": \"el516344434026064\"}], \"xdomain\": [-0.5, 27.5], \"ylim\": [27.5, -0.5], \"paths\": [], \"sharey\": [], \"sharex\": [], \"axesbgalpha\": null, \"axes\": [{\"scale\": \"linear\", \"tickformat\": \"\", \"grid\": {\"gridOn\": false}, \"fontsize\": null, \"position\": \"bottom\", \"nticks\": 0, \"tickvalues\": []}, {\"scale\": \"linear\", \"tickformat\": \"\", \"grid\": {\"gridOn\": false}, \"fontsize\": null, \"position\": \"left\", \"nticks\": 0, \"tickvalues\": []}], \"lines\": [], \"markers\": [], \"id\": \"el516344434200016\", \"ydomain\": [27.5, -0.5], \"collections\": [], \"xscale\": \"linear\", \"bbox\": [0.42125239463601538, 0.13752394636015342, 0.15749521072796935, 0.78747605363984663]}, {\"xlim\": [-0.5, 27.5], \"yscale\": \"linear\", \"axesbg\": \"#EAEAF2\", \"texts\": [{\"v_baseline\": \"hanging\", \"h_anchor\": \"middle\", \"color\": \"#262626\", \"text\": \"6\", \"coordinates\": \"axes\", \"zorder\": 3, \"alpha\": 1, \"fontsize\": 11.0, \"position\": [0.4999999999999995, -0.044093051543256823], \"rotation\": -0.0, \"id\": \"el516344433970832\"}], \"zoomable\": true, \"images\": [{\"coordinates\": \"data\", \"zorder\": 0, \"extent\": [-0.5, 27.5, 27.5, -0.5], \"alpha\": null, \"data\": \"iVBORw0KGgoAAAANSUhEUgAAAH8AAAB/CAYAAADGvR0TAAAABHNCSVQICAgIfAhkiAAABDBJREFUeJztnctrFEEQh3s0ghgFk0AOhgTjAyMY8aSighjNH6AYEPGgIka8SA4SQQ+iGCEHo+ADFTEeo3jSiyJ78wU+jkYhQUUlRDSiLhEftOeuKtlxMruzu7/fd6uidqbho+hmumc2muWcdwSSaVkPgGQH5QND+cBQPjCUDwzlA0P5wFA+MDVZD6ASeCriNn9U1bRHYW60aKNJD3Y+MJQPDOUDQ/nARNzVC5lh5L48FomVv1TN+Sj85cH0hlQ02PnAUD4wlA8MH/IIRqykMcdXA+x8YCgfGMoHhvKBgV7wNRu5hndxfrldZQ5NdTAZwM4HhvKBoXxgoOf84Z1Gssl6oBMuBN5GN1TFn1RGVFrY+cBQPjCUDwzlAwO14BuUias98X7Y1xqES9MYTBnAzgeG8oGhfGCq9vTuViN3Tb1mdVgXTejzuw31Yfwj6aDKDHY+MJQPDOUDQ/nAVM2Cb46Ix/wCo+qliIdVxVDUrnK7E4+qvGHnA0P5wFA+MFUz5+cviMS+wq9YjUT6gc7ylMZTCbDzgaF8YCgfGMoHpiIXfLeMXIefEJnZquaTWOC1qorKPIKdFHY+MJQPDOUDUxGndzeJuMM/NKrkHH9RVXSKuJjzu9xocs65eSK23gbPF2Es/4KdDwzlA0P5wFA+MBXxkCd/TiT2F96xO2Ls2A0kvP96EZ8yato2iESu0ah6H4aX9Rhr9/7HwKYIOx8YygeG8oGhfGDKbsFnLaa6/TeRmamLesLFU+NpXRLn6Zn8GzXnnGvzm0XmeowrJWM8xs5jWrDzgaF8YCgfmLKb8/PW31L1y4c631XJwqguiMdi3OuVkWvyL4zsIhH/Nmo2huGZB7rkgLy2vK5zP8WcX6cq0oOdDwzlA0P5wFA+MJkv+AZF3OUnjSpx2my+sRv2pvC95HKrxX80quYauZthuGabvr84WbbKuErO3xMZuV/IBR8pEZQPDOUDk/nR7S0qYw0pnHObY8zvFi2jMmPN70Mq0xftCOITxq/kAZwBNb87px4ETUSqopQfdWbnA0P5wFA+MJQPTOYLvniEu3ifE17lkfgu42pvvS2nz/LI9WVeHtN2zrncc5FYZhTdCaLuel0RZzcyLdj5wFA+MJQPTOYbO19FPN1br2K9DsM9i1VF7koYG9OpW3FXJDp3GVWXjFwS9OOrs1H4NaHelO6UFHY+MJQPDOUDQ/nAZL7gaxbxsLXeqyn8Pn56WMeyj4Xh/ZOqYnxdGK81rvIh8ZiKAzsfGMoHhvKByXzOlywxcs9k8rhR1FX4w8tuUpz6vW1cp1+nap8YdVUAOx8YygeG8oGhfGDKbsFHSgc7HxjKB4bygaF8YCgfGMoHhvKBoXxgKB8YygeG8oGhfGAoHxjKB4bygaF8YCgfGMoHhvKBoXxgKB8YygeG8oGhfGAoHxjKB+YvQ+CUqwoAkMsAAAAASUVORK5CYII=\", \"id\": \"el516344426938768\"}], \"xdomain\": [-0.5, 27.5], \"ylim\": [27.5, -0.5], \"paths\": [], \"sharey\": [], \"sharex\": [], \"axesbgalpha\": null, \"axes\": [{\"scale\": \"linear\", \"tickformat\": \"\", \"grid\": {\"gridOn\": false}, \"fontsize\": null, \"position\": \"bottom\", \"nticks\": 0, \"tickvalues\": []}, {\"scale\": \"linear\", \"tickformat\": \"\", \"grid\": {\"gridOn\": false}, \"fontsize\": null, \"position\": \"left\", \"nticks\": 0, \"tickvalues\": []}], \"lines\": [], \"markers\": [], \"id\": \"el516344433985424\", \"ydomain\": [27.5, -0.5], \"collections\": [], \"xscale\": \"linear\", \"bbox\": [0.61825239463601545, 0.13752394636015342, 0.15749521072796935, 0.78747605363984663]}, {\"xlim\": [-0.5, 27.5], \"yscale\": \"linear\", \"axesbg\": \"#EAEAF2\", \"texts\": [{\"v_baseline\": \"hanging\", \"h_anchor\": \"middle\", \"color\": \"#262626\", \"text\": \"5\", \"coordinates\": \"axes\", \"zorder\": 3, \"alpha\": 1, \"fontsize\": 11.0, \"position\": [0.49999999999999994, -0.044093051543256823], \"rotation\": -0.0, \"id\": \"el516344426960080\"}], \"zoomable\": true, \"images\": [{\"coordinates\": \"data\", \"zorder\": 0, \"extent\": [-0.5, 27.5, 27.5, -0.5], \"alpha\": null, \"data\": \"iVBORw0KGgoAAAANSUhEUgAAAH8AAAB/CAYAAADGvR0TAAAABHNCSVQICAgIfAhkiAAABA5JREFUeJztnTtoFUEUhmfFFOY2PtHGxqggCAY0CFFQYvBRBKMgCooi2qmIGHyARIJBMAgqBMFCEwSD+MDY2FwQQ0ghKcQLCaKCLwKiFhYuKRTHes4ccF137+y9//9153D27sDHYYaZu7tRozHWEEhmhB4ACQflA0P5wFA+MJQPDOUDQ/nAUD4wlA8M5QND+cBQPjCUDwzlA0P5wFA+MJQPDOUDQ/nAUD4wlA8M5QMzM/QAQnJCyfVeTXDhce3KPhGPeBVHo3YnHkhwqzxh5wND+cBQPjAR0uNaB0R83fYrVYeyudn0LC/V0ujGk9ncKTXsfGAoHxjKB4byganbBd9sJTfVLhLln0rVai+zO6o48dcE9/+g5D4nuK6asPOBoXxgKB+Yuj3YmTqiJPunReKaV9Im5ndjjHmezZAKBzsfGMoHhvKBoXxg6maT546IO+2oUrXGDXf6J2+lR5kNqfCw84GhfGAoH5i6mfNj+0BktvtFBxucsDSY23BqAnY+MJQPDOUDQ/nA1OSpXjxXy64V8QavonfQjT8qvzJvm5J8kqJHJn57qbaVbhz6tJCdDwzlA0P5wNTEJk+PiLvsJ6Vqvoi/KTXy/7PNSs17JSdn50VKzToRK8upYbHJtEP5mSrCzgeG8oGhfGAoH5jCbfJsUXJdVr4DRy7uNLSah25YafEqbq3yrzom4lbll8v2ssic9IteKhcGhJ0PDOUDQ/nAUD4whdvhi5cqyTfyOfpfSpG7UpuIXnsVZ0T89F8G9hdiu0tkhrya4cjd4dub4f3TwM4HhvKBoXxgCrfJ0/PWz51f5s6VY0rN5pzGo3FYzcqXN8oHyIy5ncNY/gd2PjCUDwzlA0P5wBRuk6cWiC8oyXPyZU/7vZJSdD+X8aSFnQ8M5QND+cBwzk9Ag4i/K5tMpknM+UuU9/28y2xImcDOB4bygaF8YCgfmMKd6hWRZzIhF3fGGPPFXeAVbXGnwc4HhvKBoXxgOOcL5CdXjTGm2Y6LzA2v5uzCXIaTK+x8YCgfGMoHhvKBCX6qt1jEr5TP17fedOOsHnN/oeSWW+0Tqz+caCya41VU86/jWcHOB4bygaF8YILP+XdF3GGVQ5NucWii/Xs2AfF6kRjV5nf/8e/xyL3/xnS3LxzsfGAoHxjKB4bygQm+4ItXiMSksuAzj91w3x6/ZIGIr8ilpDHGbBLxKa/iYjTg5fpErC0TaxF2PjCUDwzlAxN8zu8W8WmrHbeIz1Kp7+GTjPipS1udsCRfzAcGOx8YygeG8oGhfGCCL/gkFSXXZDtE5p5fNOSevJWVtxp3ph5VfcLOB4bygaF8YAo355Pqwc4HhvKBoXxgKB8YygeG8oGhfGAoHxjKB4bygaF8YCgfGMoH5g8gc4ypQNkuagAAAABJRU5ErkJggg==\", \"id\": \"el516344427102800\"}], \"xdomain\": [-0.5, 27.5], \"ylim\": [27.5, -0.5], \"paths\": [], \"sharey\": [], \"sharex\": [], \"axesbgalpha\": null, \"axes\": [{\"scale\": \"linear\", \"tickformat\": \"\", \"grid\": {\"gridOn\": false}, \"fontsize\": null, \"position\": \"bottom\", \"nticks\": 0, \"tickvalues\": []}, {\"scale\": \"linear\", \"tickformat\": \"\", \"grid\": {\"gridOn\": false}, \"fontsize\": null, \"position\": \"left\", \"nticks\": 0, \"tickvalues\": []}], \"lines\": [], \"markers\": [], \"id\": \"el516344433871440\", \"ydomain\": [27.5, -0.5], \"collections\": [], \"xscale\": \"linear\", \"bbox\": [0.81525239463601551, 0.13752394636015342, 0.15749521072796935, 0.78747605363984663]}], \"height\": 160.0, \"width\": 800.0, \"plugins\": [{\"type\": \"reset\"}, {\"enabled\": false, \"button\": true, \"type\": \"zoom\"}, {\"enabled\": false, \"button\": true, \"type\": \"boxzoom\"}], \"data\": {}, \"id\": \"el516344423016080\"});\n",
        "   }(mpld3);\n",
        "}else if(typeof define === \"function\" && define.amd){\n",
        "   // require.js is available: use it to load d3/mpld3\n",
        "   require.config({paths: {d3: \"https://mpld3.github.io/js/d3.v3.min\"}});\n",
        "   require([\"d3\"], function(d3){\n",
        "      window.d3 = d3;\n",
        "      mpld3_load_lib(\"https://mpld3.github.io/js/mpld3.v0.2.js\", function(){\n",
        "         \n",
        "         mpld3.draw_figure(\"fig_el5163444230160801487645388\", {\"axes\": [{\"xlim\": [-0.5, 27.5], \"yscale\": \"linear\", \"axesbg\": \"#EAEAF2\", \"texts\": [{\"v_baseline\": \"hanging\", \"h_anchor\": \"middle\", \"color\": \"#262626\", \"text\": \"6\", \"coordinates\": \"axes\", \"zorder\": 3, \"alpha\": 1, \"fontsize\": 11.0, \"position\": [0.49999999999999989, -0.044093051543256823], \"rotation\": -0.0, \"id\": \"el516344423083728\"}], \"zoomable\": true, \"images\": [{\"coordinates\": \"data\", \"zorder\": 0, \"extent\": [-0.5, 27.5, 27.5, -0.5], \"alpha\": null, \"data\": \"iVBORw0KGgoAAAANSUhEUgAAAH8AAAB/CAYAAADGvR0TAAAABHNCSVQICAgIfAhkiAAABA5JREFUeJztnT9oFUEQh/dEBH1ooWBhColPUohphPiHFBaKWChGJCBYBUQIKOksFINEDLaxkBSKFqKFgrEJBEUIgoWKiM9CC00hSoiNIIci4lnvzJjsW9bc3fv9vm6GfZsNX4Yd9u1dsjXOFY5AsqLsBZDyoHxgKB8YygeG8oGhfGAoHxjKB4bygaF8YCgfGMoHhvKBWVn2AlKRHxCJmR/GqH4vamWv1Ijd6ZZUeVj5wFA+MJQPTC33/LNWcuaKSPw2Bs16UW9xSo3I++6qXONl8NJqBSsfGMoHhvKBoXxgsjpe3c4/Gsnu7+1P1LdWpQ4bzd2T9meuBax8YCgfGMoHphaHPOMy0W19aWMd6izOFND+bsHKB4bygaF8YCgfmFoc8uTvRaLHWvLPgJlee1Ej2xO7pI6AlQ8M5QND+cDU4pDH9chbOtb+vvQhzzT4Hi9h5QND+cBQPjCUD0zlGr5DZnZrkrlvJpmlc2DlA0P5wFA+MJX7YmfOyG0s5M1cq1URhzwf9M3cDaJ1CPkqqJNh5QND+cBQPjCUD0zlDnls5DIDlm38We8X8R3jY48CVnPwgpEcW+XHo7/UkGuX/PiiMU0e8PNTwcoHhvKBoXxgKnfIkz8wkgMRhzxBpJrHmitgnjl9EHVkix8/jlxNCKx8YCgfGMoHhvKBqV7DV2wysvJ5rQ5p+Cym/CZw8KgeMh03s4KVDwzlA0P5wFA+MNgNX6FP2Nw5Y9xJETetFz4mavjkPMOr1YjGZOTUAlY+MJQPDOUDU/qev17En4qdxqhZEcfu+Te8aCI7rUZYW75EvRTSOTcil/3HGHRexAPWyyTl77ZZjWhkX/65tnZg5QND+cBQPjCUD0zpDd8OET8thoxRV0Uc0vA11YhmtuDF80usLTX5dpH4agyal02g1fAtqFwMrHxgKB8Yygem9Me11D8x7zXenNOSe34cy/mXLnsZ55xzLdHPdAW8Jehemv3dgpUPDOUDQ/nAUD4wpR/ySJK9kMlgMPNv7qS6Au2cc+IRO9cq1hmjPgfM9NaLxo03hV8OXtXisPKBoXxgKB+Yyu358qKsc85NFPIp9b3GqIjbsqP6Zmw0Y/Iqj7x9FMguf02N53HThMDKB4bygaF8YCgfmMo1fBb5MZG4b115ruPz+f0qM5K98eLrkasJgZUPDOUDQ/nA1GLPl+TWmwn3WY9NL8X/3PMf6iFDx72w65Ye8i3yp8fAygeG8oGhfGAoH5haNnzbjNyLEyJxO6QBjGz4JvW7fN4N+/EZ42PPAla0nLDygaF8YCgfmFru+SQNrHxgKB8YygeG8oGhfGAoHxjKB4bygaF8YCgfGMoHhvKBoXxgKB8YygeG8oGhfGAoHxjKB4bygaF8YCgfmL/Qd5pgXV8ZnwAAAABJRU5ErkJggg==\", \"id\": \"el516344423208400\"}], \"xdomain\": [-0.5, 27.5], \"ylim\": [27.5, -0.5], \"paths\": [], \"sharey\": [], \"sharex\": [], \"axesbgalpha\": null, \"axes\": [{\"scale\": \"linear\", \"tickformat\": \"\", \"grid\": {\"gridOn\": false}, \"fontsize\": null, \"position\": \"bottom\", \"nticks\": 0, \"tickvalues\": []}, {\"scale\": \"linear\", \"tickformat\": \"\", \"grid\": {\"gridOn\": false}, \"fontsize\": null, \"position\": \"left\", \"nticks\": 0, \"tickvalues\": []}], \"lines\": [], \"markers\": [], \"id\": \"el516344423081424\", \"ydomain\": [27.5, -0.5], \"collections\": [], \"xscale\": \"linear\", \"bbox\": [0.027252394636015326, 0.13752394636015342, 0.15749521072796935, 0.78747605363984663]}, {\"xlim\": [-0.5, 27.5], \"yscale\": \"linear\", \"axesbg\": \"#EAEAF2\", \"texts\": [{\"v_baseline\": \"hanging\", \"h_anchor\": \"middle\", \"color\": \"#262626\", \"text\": \"2\", \"coordinates\": \"axes\", \"zorder\": 3, \"alpha\": 1, \"fontsize\": 11.0, \"position\": [0.49999999999999972, -0.044093051543256823], \"rotation\": -0.0, \"id\": \"el516344434166096\"}], \"zoomable\": true, \"images\": [{\"coordinates\": \"data\", \"zorder\": 0, \"extent\": [-0.5, 27.5, 27.5, -0.5], \"alpha\": null, \"data\": \"iVBORw0KGgoAAAANSUhEUgAAAH8AAAB/CAYAAADGvR0TAAAABHNCSVQICAgIfAhkiAAAA+hJREFUeJztnT1oFEEUx2eNKHogQSUGRbhCUWJhJdqlMY2NhYgQA4qFWAQJkkY4MGKhAYMoRBEFBT8KPwq11CIIWlgIfkAsIkTiV2GhJ4cBwbXUefPQu2FnZpf//9e9x7vdgR+PGeZ2Z7OlxuSGQLIg9QBIOigfGMoHhvKBoXxgKB8YygeG8oGhfGAoHxjKB4bygaF8YBamHoAPXUquX8QP8t1K1S0Rn3UqRrMRJ3dZxD//MbYqwc4HhvKBoXxgsio8ybNFxFMXlKJDP8INYGiJFdZuhLtVTNj5wFA+MJQPDOUDU7oFn1zcGWPMVD4gMvdjDOUvxu1w/ZhT0TNjx61wgykMdj4wlA8M5QNTujm/dUJJNgJu4BTE6czeCDqWaBydwM4HhvKBoXxgKB+Y0i34biu5HfkpkdmnVL0Q8RPPEQwqufr/fzZsL/jWTLolX73GEw52PjCUDwzlA1O6OV9jtYgfKjXXRXzS816tDUryTeebTA2x6WOMMWc8xhMSdj4wlA8M5QND+cBUYsEXk7dKrjf3+Fdxrbvgq73v/DIhYecDQ/nAUD4wlXxFOyS934u5TqNk87sGOx8YygeG8oGhfGAoHxjKB4bygaF8YCq5yXNQyclz+JSHZ83TAGP5wz0rmgt6r2Jg5wND+cBQPjCUD0zyJ3lqIn6s1GzMF4nMeaVqr4gPKDV32xiRdt6PXE5qrLKiTVnTqZht4yoxYecDQ/nAUD4wlA9M8gWfPH/piM9j0qXA3nccyK45FWF3GDuHnQ8M5QND+cBEnfO7ldyH/KrI7Ikwkgg8c1/Xmt1qx/I4aWOM+RhmNCrsfGAoHxjKB4bygYm64Fuu5OaCbeoohzB+2W7HK1NvKB12U92XrLD5zS1ZJ2Lfr3qw84GhfGAoH5ioc/64khv2mvNfu6nj9ne5BsfckpuLRWI+9ZzvybS9gbSizy2Zb+My7HxgKB8YygeG8oGJuuBr7VeSVzwWXS+VAw432/En5WfL8lciI7dL2mXCTTUb4mbhFpM7xYnejzyvw84HhvKBoXxgKvl+vva4S2uXSNyZVn5Y97yh/VLZtuyXU/FZxH3GXZcURVFPAbPzgaF8YCgfGMoHJuomj/bVsuelez3LPcqpkY1acdk+keYLOx8YygeG8oGJOud3KbkZEfdEXQNcdDJHsxEndy7GUBLAzgeG8oGhfGAoH5jkZ/LIRaBcABrjuwhUDlysD9nXfeeW+L76VEXY+cBQPjCUD0zyOZ+kg50PDOUDQ/nAUD4wlA8M5QND+cBQPjCUDwzlA0P5wFA+MJQPDOUDQ/nAUD4wlA8M5QND+cBQPjCUDwzlA/MbgcaFglci2kAAAAAASUVORK5CYII=\", \"id\": \"el516344434298896\"}], \"xdomain\": [-0.5, 27.5], \"ylim\": [27.5, -0.5], \"paths\": [], \"sharey\": [], \"sharex\": [], \"axesbgalpha\": null, \"axes\": [{\"scale\": \"linear\", \"tickformat\": \"\", \"grid\": {\"gridOn\": false}, \"fontsize\": null, \"position\": \"bottom\", \"nticks\": 0, \"tickvalues\": []}, {\"scale\": \"linear\", \"tickformat\": \"\", \"grid\": {\"gridOn\": false}, \"fontsize\": null, \"position\": \"left\", \"nticks\": 0, \"tickvalues\": []}], \"lines\": [], \"markers\": [], \"id\": \"el516344423125072\", \"ydomain\": [27.5, -0.5], \"collections\": [], \"xscale\": \"linear\", \"bbox\": [0.22425239463601535, 0.13752394636015342, 0.15749521072796932, 0.78747605363984663]}, {\"xlim\": [-0.5, 27.5], \"yscale\": \"linear\", \"axesbg\": \"#EAEAF2\", \"texts\": [{\"v_baseline\": \"hanging\", \"h_anchor\": \"middle\", \"color\": \"#262626\", \"text\": \"2\", \"coordinates\": \"axes\", \"zorder\": 3, \"alpha\": 1, \"fontsize\": 11.0, \"position\": [0.4999999999999995, -0.044093051543256823], \"rotation\": -0.0, \"id\": \"el516344434320208\"}], \"zoomable\": true, \"images\": [{\"coordinates\": \"data\", \"zorder\": 0, \"extent\": [-0.5, 27.5, 27.5, -0.5], \"alpha\": null, \"data\": \"iVBORw0KGgoAAAANSUhEUgAAAH8AAAB/CAYAAADGvR0TAAAABHNCSVQICAgIfAhkiAAABGVJREFUeJztnV9oT2EYx98jE/tljVJmF1ai4UJipbhYq7VCatNull9TRkoZd0qWJqNoU5g/i+RvoiGSzYXYlWal1JQo0lgrNfSzIo4Lbt7nfWwn+53z7rfv93P3PD2/c97t09N5e897zgnyjQkNgWSK7wEQf1A+MJQPDOUDQ/nAUD4wlA8M5QND+cBQPjCUDwzlA0P5wFA+MJQPDOUDQ/nATPU9gCTpE3Fpt1JU+UNJyn/TsFvSMMsK6865JXdGGZsP2PnAUD4wlA8M5QMT5OLW7dlKrlPEZVeUorqvEY5+0k117LHjrUeV3zWKuNmp2B0csOKzEUYTJ+x8YCgfGMoHJiev+ZmNSvKmtjgj6bKit8F6p2JphKNMV3KfZBv9fOkWdSy2wtS2CCeLEXY+MJQPDOUDQ/nA5MSEL7NMJJ5/VKparagnOOJUyHliZlyjGp3MLiXZVm2FqeBWjCMYG3Y+MJQPDOUD430nT6GIB9YoRT237fh8kVNSscWOn45rVFngg5a8akV9ZoZTsSKe0aiw84GhfGAoHxjKB8b7Is9pEadD5e5cYZ4Vpj7HN55sod2wa5N/W02eU5NKcN2HnQ8M5QND+cB4X+S5JuJ0iXsdrMuBa/x/cVHJzUzu9Ox8YCgfGMoHhvKB8T7heyzi1Dsvw/DDcr+nZ+cDQ/nAUD4w3q/5WNjv8ql97WkYf2HnA0P5wFA+MJQPjPedPJOVjNZWPy9YYSrYnMRQ/gk7HxjKB4bygaF8YDjhi4nMDiUp3jPAFzIRb1A+MJQPzKS5q3dDxPMj/Oabkisf/1D+cGKRm+t4la2jZwV2PjCUDwzlA0P5wEy4CZ/2qNrgSpHovaxUrRbxTqWmRMQtTkXGrHNyNcETK+5yKox542Tkh9yMMf0JPogXAXY+MJQPDOUD4/2af1fEFeE0pWrADkfmOBX38+24VjnKPBE3meNOTVrZTt0ZVlrxg+ChUzP3mcy4M4OGY8qgPMLOB4bygaF8YCgfmER38mjfxygI5SdOm5yawaDNihdkb0iRyMg3aBdF+IxblfKCxe7sjCdbsPOBoXxgKB+YWBd5qkRcEL5XqoqtqCb44lRoN1KS5JJYHUpHmCW1TLDruwY7HxjKB4bygaF8YGJd5JFfp7+ufEWjOLAXQ4adimRJKbmhMC0y7WMfqMrdtcNFHjJhoHxgKB8Y7zt5Bvba8cKDbo36ZdIssEnJnQkPK1n7bdC9gXs9L9svEl1uXy0Jfllx/+jDix12PjCUDwzlA0P5wMS6yCMXTIa2K0WnRkSi2a2pP2THytNarfZcypQqp1ort0433lOqNjiZcjFR61V+VS/i9rDaqWkN7G+l7lOOkyTsfGAoHxjKB8b7e/jkW2qKHylF5RF2y5oaO/wuHwQzxoinrF7IO0/GmFURzjRZYOcDQ/nAUD4wlA+M9wkf8Qc7HxjKB4bygaF8YCgfGMoHhvKBoXxgKB8YygeG8oGhfGAoHxjKB4bygaF8YCgfmN8Zzp09wMaH3AAAAABJRU5ErkJggg==\", \"id\": \"el516344434026064\"}], \"xdomain\": [-0.5, 27.5], \"ylim\": [27.5, -0.5], \"paths\": [], \"sharey\": [], \"sharex\": [], \"axesbgalpha\": null, \"axes\": [{\"scale\": \"linear\", \"tickformat\": \"\", \"grid\": {\"gridOn\": false}, \"fontsize\": null, \"position\": \"bottom\", \"nticks\": 0, \"tickvalues\": []}, {\"scale\": \"linear\", \"tickformat\": \"\", \"grid\": {\"gridOn\": false}, \"fontsize\": null, \"position\": \"left\", \"nticks\": 0, \"tickvalues\": []}], \"lines\": [], \"markers\": [], \"id\": \"el516344434200016\", \"ydomain\": [27.5, -0.5], \"collections\": [], \"xscale\": \"linear\", \"bbox\": [0.42125239463601538, 0.13752394636015342, 0.15749521072796935, 0.78747605363984663]}, {\"xlim\": [-0.5, 27.5], \"yscale\": \"linear\", \"axesbg\": \"#EAEAF2\", \"texts\": [{\"v_baseline\": \"hanging\", \"h_anchor\": \"middle\", \"color\": \"#262626\", \"text\": \"6\", \"coordinates\": \"axes\", \"zorder\": 3, \"alpha\": 1, \"fontsize\": 11.0, \"position\": [0.4999999999999995, -0.044093051543256823], \"rotation\": -0.0, \"id\": \"el516344433970832\"}], \"zoomable\": true, \"images\": [{\"coordinates\": \"data\", \"zorder\": 0, \"extent\": [-0.5, 27.5, 27.5, -0.5], \"alpha\": null, \"data\": \"iVBORw0KGgoAAAANSUhEUgAAAH8AAAB/CAYAAADGvR0TAAAABHNCSVQICAgIfAhkiAAABDBJREFUeJztnctrFEEQh3s0ghgFk0AOhgTjAyMY8aSighjNH6AYEPGgIka8SA4SQQ+iGCEHo+ADFTEeo3jSiyJ78wU+jkYhQUUlRDSiLhEftOeuKtlxMruzu7/fd6uidqbho+hmumc2muWcdwSSaVkPgGQH5QND+cBQPjCUDwzlA0P5wFA+MDVZD6ASeCriNn9U1bRHYW60aKNJD3Y+MJQPDOUDQ/nARNzVC5lh5L48FomVv1TN+Sj85cH0hlQ02PnAUD4wlA8MH/IIRqykMcdXA+x8YCgfGMoHhvKBgV7wNRu5hndxfrldZQ5NdTAZwM4HhvKBoXxgoOf84Z1Gssl6oBMuBN5GN1TFn1RGVFrY+cBQPjCUDwzlAwO14BuUias98X7Y1xqES9MYTBnAzgeG8oGhfGCq9vTuViN3Tb1mdVgXTejzuw31Yfwj6aDKDHY+MJQPDOUDQ/nAVM2Cb46Ix/wCo+qliIdVxVDUrnK7E4+qvGHnA0P5wFA+MFUz5+cviMS+wq9YjUT6gc7ylMZTCbDzgaF8YCgfGMoHpiIXfLeMXIefEJnZquaTWOC1qorKPIKdFHY+MJQPDOUDUxGndzeJuMM/NKrkHH9RVXSKuJjzu9xocs65eSK23gbPF2Es/4KdDwzlA0P5wFA+MBXxkCd/TiT2F96xO2Ls2A0kvP96EZ8yato2iESu0ah6H4aX9Rhr9/7HwKYIOx8YygeG8oGhfGDKbsFnLaa6/TeRmamLesLFU+NpXRLn6Zn8GzXnnGvzm0XmeowrJWM8xs5jWrDzgaF8YCgfmLKb8/PW31L1y4c631XJwqguiMdi3OuVkWvyL4zsIhH/Nmo2huGZB7rkgLy2vK5zP8WcX6cq0oOdDwzlA0P5wFA+MJkv+AZF3OUnjSpx2my+sRv2pvC95HKrxX80quYauZthuGabvr84WbbKuErO3xMZuV/IBR8pEZQPDOUDk/nR7S0qYw0pnHObY8zvFi2jMmPN70Mq0xftCOITxq/kAZwBNb87px4ETUSqopQfdWbnA0P5wFA+MJQPTOYLvniEu3ifE17lkfgu42pvvS2nz/LI9WVeHtN2zrncc5FYZhTdCaLuel0RZzcyLdj5wFA+MJQPTOYbO19FPN1br2K9DsM9i1VF7koYG9OpW3FXJDp3GVWXjFwS9OOrs1H4NaHelO6UFHY+MJQPDOUDQ/nAZL7gaxbxsLXeqyn8Pn56WMeyj4Xh/ZOqYnxdGK81rvIh8ZiKAzsfGMoHhvKByXzOlywxcs9k8rhR1FX4w8tuUpz6vW1cp1+nap8YdVUAOx8YygeG8oGhfGDKbsFHSgc7HxjKB4bygaF8YCgfGMoHhvKBoXxgKB8YygeG8oGhfGAoHxjKB4bygaF8YCgfGMoHhvKBoXxgKB8YygeG8oGhfGAoHxjKB+YvQ+CUqwoAkMsAAAAASUVORK5CYII=\", \"id\": \"el516344426938768\"}], \"xdomain\": [-0.5, 27.5], \"ylim\": [27.5, -0.5], \"paths\": [], \"sharey\": [], \"sharex\": [], \"axesbgalpha\": null, \"axes\": [{\"scale\": \"linear\", \"tickformat\": \"\", \"grid\": {\"gridOn\": false}, \"fontsize\": null, \"position\": \"bottom\", \"nticks\": 0, \"tickvalues\": []}, {\"scale\": \"linear\", \"tickformat\": \"\", \"grid\": {\"gridOn\": false}, \"fontsize\": null, \"position\": \"left\", \"nticks\": 0, \"tickvalues\": []}], \"lines\": [], \"markers\": [], \"id\": \"el516344433985424\", \"ydomain\": [27.5, -0.5], \"collections\": [], \"xscale\": \"linear\", \"bbox\": [0.61825239463601545, 0.13752394636015342, 0.15749521072796935, 0.78747605363984663]}, {\"xlim\": [-0.5, 27.5], \"yscale\": \"linear\", \"axesbg\": \"#EAEAF2\", \"texts\": [{\"v_baseline\": \"hanging\", \"h_anchor\": \"middle\", \"color\": \"#262626\", \"text\": \"5\", \"coordinates\": \"axes\", \"zorder\": 3, \"alpha\": 1, \"fontsize\": 11.0, \"position\": [0.49999999999999994, -0.044093051543256823], \"rotation\": -0.0, \"id\": \"el516344426960080\"}], \"zoomable\": true, \"images\": [{\"coordinates\": \"data\", \"zorder\": 0, \"extent\": [-0.5, 27.5, 27.5, -0.5], \"alpha\": null, \"data\": \"iVBORw0KGgoAAAANSUhEUgAAAH8AAAB/CAYAAADGvR0TAAAABHNCSVQICAgIfAhkiAAABA5JREFUeJztnTtoFUEUhmfFFOY2PtHGxqggCAY0CFFQYvBRBKMgCooi2qmIGHyARIJBMAgqBMFCEwSD+MDY2FwQQ0ghKcQLCaKCLwKiFhYuKRTHes4ccF137+y9//9153D27sDHYYaZu7tRozHWEEhmhB4ACQflA0P5wFA+MJQPDOUDQ/nAUD4wlA8M5QND+cBQPjCUDwzlA0P5wFA+MJQPDOUDQ/nAUD4wlA8M5QMzM/QAQnJCyfVeTXDhce3KPhGPeBVHo3YnHkhwqzxh5wND+cBQPjAR0uNaB0R83fYrVYeyudn0LC/V0ujGk9ncKTXsfGAoHxjKB4byganbBd9sJTfVLhLln0rVai+zO6o48dcE9/+g5D4nuK6asPOBoXxgKB+Yuj3YmTqiJPunReKaV9Im5ndjjHmezZAKBzsfGMoHhvKBoXxg6maT546IO+2oUrXGDXf6J2+lR5kNqfCw84GhfGAoH5i6mfNj+0BktvtFBxucsDSY23BqAnY+MJQPDOUDQ/nA1OSpXjxXy64V8QavonfQjT8qvzJvm5J8kqJHJn57qbaVbhz6tJCdDwzlA0P5wNTEJk+PiLvsJ6Vqvoi/KTXy/7PNSs17JSdn50VKzToRK8upYbHJtEP5mSrCzgeG8oGhfGAoH5jCbfJsUXJdVr4DRy7uNLSah25YafEqbq3yrzom4lbll8v2ssic9IteKhcGhJ0PDOUDQ/nAUD4whdvhi5cqyTfyOfpfSpG7UpuIXnsVZ0T89F8G9hdiu0tkhrya4cjd4dub4f3TwM4HhvKBoXxgCrfJ0/PWz51f5s6VY0rN5pzGo3FYzcqXN8oHyIy5ncNY/gd2PjCUDwzlA0P5wBRuk6cWiC8oyXPyZU/7vZJSdD+X8aSFnQ8M5QND+cBwzk9Ag4i/K5tMpknM+UuU9/28y2xImcDOB4bygaF8YCgfmMKd6hWRZzIhF3fGGPPFXeAVbXGnwc4HhvKBoXxgOOcL5CdXjTGm2Y6LzA2v5uzCXIaTK+x8YCgfGMoHhvKBCX6qt1jEr5TP17fedOOsHnN/oeSWW+0Tqz+caCya41VU86/jWcHOB4bygaF8YILP+XdF3GGVQ5NucWii/Xs2AfF6kRjV5nf/8e/xyL3/xnS3LxzsfGAoHxjKB4bygQm+4ItXiMSksuAzj91w3x6/ZIGIr8ilpDHGbBLxKa/iYjTg5fpErC0TaxF2PjCUDwzlAxN8zu8W8WmrHbeIz1Kp7+GTjPipS1udsCRfzAcGOx8YygeG8oGhfGCCL/gkFSXXZDtE5p5fNOSevJWVtxp3ph5VfcLOB4bygaF8YAo355Pqwc4HhvKBoXxgKB8YygeG8oGhfGAoHxjKB4bygaF8YCgfGMoH5g8gc4ypQNkuagAAAABJRU5ErkJggg==\", \"id\": \"el516344427102800\"}], \"xdomain\": [-0.5, 27.5], \"ylim\": [27.5, -0.5], \"paths\": [], \"sharey\": [], \"sharex\": [], \"axesbgalpha\": null, \"axes\": [{\"scale\": \"linear\", \"tickformat\": \"\", \"grid\": {\"gridOn\": false}, \"fontsize\": null, \"position\": \"bottom\", \"nticks\": 0, \"tickvalues\": []}, {\"scale\": \"linear\", \"tickformat\": \"\", \"grid\": {\"gridOn\": false}, \"fontsize\": null, \"position\": \"left\", \"nticks\": 0, \"tickvalues\": []}], \"lines\": [], \"markers\": [], \"id\": \"el516344433871440\", \"ydomain\": [27.5, -0.5], \"collections\": [], \"xscale\": \"linear\", \"bbox\": [0.81525239463601551, 0.13752394636015342, 0.15749521072796935, 0.78747605363984663]}], \"height\": 160.0, \"width\": 800.0, \"plugins\": [{\"type\": \"reset\"}, {\"enabled\": false, \"button\": true, \"type\": \"zoom\"}, {\"enabled\": false, \"button\": true, \"type\": \"boxzoom\"}], \"data\": {}, \"id\": \"el516344423016080\"});\n",
        "      });\n",
        "    });\n",
        "}else{\n",
        "    // require.js not available: dynamically load d3 & mpld3\n",
        "    mpld3_load_lib(\"https://mpld3.github.io/js/d3.v3.min.js\", function(){\n",
        "         mpld3_load_lib(\"https://mpld3.github.io/js/mpld3.v0.2.js\", function(){\n",
        "                 \n",
        "                 mpld3.draw_figure(\"fig_el5163444230160801487645388\", {\"axes\": [{\"xlim\": [-0.5, 27.5], \"yscale\": \"linear\", \"axesbg\": \"#EAEAF2\", \"texts\": [{\"v_baseline\": \"hanging\", \"h_anchor\": \"middle\", \"color\": \"#262626\", \"text\": \"6\", \"coordinates\": \"axes\", \"zorder\": 3, \"alpha\": 1, \"fontsize\": 11.0, \"position\": [0.49999999999999989, -0.044093051543256823], \"rotation\": -0.0, \"id\": \"el516344423083728\"}], \"zoomable\": true, \"images\": [{\"coordinates\": \"data\", \"zorder\": 0, \"extent\": [-0.5, 27.5, 27.5, -0.5], \"alpha\": null, \"data\": \"iVBORw0KGgoAAAANSUhEUgAAAH8AAAB/CAYAAADGvR0TAAAABHNCSVQICAgIfAhkiAAABA5JREFUeJztnT9oFUEQh/dEBH1ooWBhColPUohphPiHFBaKWChGJCBYBUQIKOksFINEDLaxkBSKFqKFgrEJBEUIgoWKiM9CC00hSoiNIIci4lnvzJjsW9bc3fv9vm6GfZsNX4Yd9u1dsjXOFY5AsqLsBZDyoHxgKB8YygeG8oGhfGAoHxjKB4bygaF8YCgfGMoHhvKBWVn2AlKRHxCJmR/GqH4vamWv1Ijd6ZZUeVj5wFA+MJQPTC33/LNWcuaKSPw2Bs16UW9xSo3I++6qXONl8NJqBSsfGMoHhvKBoXxgsjpe3c4/Gsnu7+1P1LdWpQ4bzd2T9meuBax8YCgfGMoHphaHPOMy0W19aWMd6izOFND+bsHKB4bygaF8YCgfmFoc8uTvRaLHWvLPgJlee1Ej2xO7pI6AlQ8M5QND+cDU4pDH9chbOtb+vvQhzzT4Hi9h5QND+cBQPjCUD0zlGr5DZnZrkrlvJpmlc2DlA0P5wFA+MJX7YmfOyG0s5M1cq1URhzwf9M3cDaJ1CPkqqJNh5QND+cBQPjCUD0zlDnls5DIDlm38We8X8R3jY48CVnPwgpEcW+XHo7/UkGuX/PiiMU0e8PNTwcoHhvKBoXxgKnfIkz8wkgMRhzxBpJrHmitgnjl9EHVkix8/jlxNCKx8YCgfGMoHhvKBqV7DV2wysvJ5rQ5p+Cym/CZw8KgeMh03s4KVDwzlA0P5wFA+MNgNX6FP2Nw5Y9xJETetFz4mavjkPMOr1YjGZOTUAlY+MJQPDOUDU/qev17En4qdxqhZEcfu+Te8aCI7rUZYW75EvRTSOTcil/3HGHRexAPWyyTl77ZZjWhkX/65tnZg5QND+cBQPjCUD0zpDd8OET8thoxRV0Uc0vA11YhmtuDF80usLTX5dpH4agyal02g1fAtqFwMrHxgKB8Yygem9Me11D8x7zXenNOSe34cy/mXLnsZ55xzLdHPdAW8Jehemv3dgpUPDOUDQ/nAUD4wpR/ySJK9kMlgMPNv7qS6Au2cc+IRO9cq1hmjPgfM9NaLxo03hV8OXtXisPKBoXxgKB+Yyu358qKsc85NFPIp9b3GqIjbsqP6Zmw0Y/Iqj7x9FMguf02N53HThMDKB4bygaF8YCgfmMo1fBb5MZG4b115ruPz+f0qM5K98eLrkasJgZUPDOUDQ/nA1GLPl+TWmwn3WY9NL8X/3PMf6iFDx72w65Ye8i3yp8fAygeG8oGhfGAoH5haNnzbjNyLEyJxO6QBjGz4JvW7fN4N+/EZ42PPAla0nLDygaF8YCgfmFru+SQNrHxgKB8YygeG8oGhfGAoHxjKB4bygaF8YCgfGMoHhvKBoXxgKB8YygeG8oGhfGAoHxjKB4bygaF8YCgfmL/Qd5pgXV8ZnwAAAABJRU5ErkJggg==\", \"id\": \"el516344423208400\"}], \"xdomain\": [-0.5, 27.5], \"ylim\": [27.5, -0.5], \"paths\": [], \"sharey\": [], \"sharex\": [], \"axesbgalpha\": null, \"axes\": [{\"scale\": \"linear\", \"tickformat\": \"\", \"grid\": {\"gridOn\": false}, \"fontsize\": null, \"position\": \"bottom\", \"nticks\": 0, \"tickvalues\": []}, {\"scale\": \"linear\", \"tickformat\": \"\", \"grid\": {\"gridOn\": false}, \"fontsize\": null, \"position\": \"left\", \"nticks\": 0, \"tickvalues\": []}], \"lines\": [], \"markers\": [], \"id\": \"el516344423081424\", \"ydomain\": [27.5, -0.5], \"collections\": [], \"xscale\": \"linear\", \"bbox\": [0.027252394636015326, 0.13752394636015342, 0.15749521072796935, 0.78747605363984663]}, {\"xlim\": [-0.5, 27.5], \"yscale\": \"linear\", \"axesbg\": \"#EAEAF2\", \"texts\": [{\"v_baseline\": \"hanging\", \"h_anchor\": \"middle\", \"color\": \"#262626\", \"text\": \"2\", \"coordinates\": \"axes\", \"zorder\": 3, \"alpha\": 1, \"fontsize\": 11.0, \"position\": [0.49999999999999972, -0.044093051543256823], \"rotation\": -0.0, \"id\": \"el516344434166096\"}], \"zoomable\": true, \"images\": [{\"coordinates\": \"data\", \"zorder\": 0, \"extent\": [-0.5, 27.5, 27.5, -0.5], \"alpha\": null, \"data\": \"iVBORw0KGgoAAAANSUhEUgAAAH8AAAB/CAYAAADGvR0TAAAABHNCSVQICAgIfAhkiAAAA+hJREFUeJztnT1oFEEUx2eNKHogQSUGRbhCUWJhJdqlMY2NhYgQA4qFWAQJkkY4MGKhAYMoRBEFBT8KPwq11CIIWlgIfkAsIkTiV2GhJ4cBwbXUefPQu2FnZpf//9e9x7vdgR+PGeZ2Z7OlxuSGQLIg9QBIOigfGMoHhvKBoXxgKB8YygeG8oGhfGAoHxjKB4bygaF8YBamHoAPXUquX8QP8t1K1S0Rn3UqRrMRJ3dZxD//MbYqwc4HhvKBoXxgsio8ybNFxFMXlKJDP8INYGiJFdZuhLtVTNj5wFA+MJQPDOUDU7oFn1zcGWPMVD4gMvdjDOUvxu1w/ZhT0TNjx61wgykMdj4wlA8M5QNTujm/dUJJNgJu4BTE6czeCDqWaBydwM4HhvKBoXxgKB+Y0i34biu5HfkpkdmnVL0Q8RPPEQwqufr/fzZsL/jWTLolX73GEw52PjCUDwzlA1O6OV9jtYgfKjXXRXzS816tDUryTeebTA2x6WOMMWc8xhMSdj4wlA8M5QND+cBUYsEXk7dKrjf3+Fdxrbvgq73v/DIhYecDQ/nAUD4wlXxFOyS934u5TqNk87sGOx8YygeG8oGhfGAoHxjKB4bygaF8YCq5yXNQyclz+JSHZ83TAGP5wz0rmgt6r2Jg5wND+cBQPjCUD0zyJ3lqIn6s1GzMF4nMeaVqr4gPKDV32xiRdt6PXE5qrLKiTVnTqZht4yoxYecDQ/nAUD4wlA9M8gWfPH/piM9j0qXA3nccyK45FWF3GDuHnQ8M5QND+cBEnfO7ldyH/KrI7Ikwkgg8c1/Xmt1qx/I4aWOM+RhmNCrsfGAoHxjKB4bygYm64Fuu5OaCbeoohzB+2W7HK1NvKB12U92XrLD5zS1ZJ2Lfr3qw84GhfGAoH5ioc/64khv2mvNfu6nj9ne5BsfckpuLRWI+9ZzvybS9gbSizy2Zb+My7HxgKB8YygeG8oGJuuBr7VeSVzwWXS+VAw432/En5WfL8lciI7dL2mXCTTUb4mbhFpM7xYnejzyvw84HhvKBoXxgKvl+vva4S2uXSNyZVn5Y97yh/VLZtuyXU/FZxH3GXZcURVFPAbPzgaF8YCgfGMoHJuomj/bVsuelez3LPcqpkY1acdk+keYLOx8YygeG8oGJOud3KbkZEfdEXQNcdDJHsxEndy7GUBLAzgeG8oGhfGAoH5jkZ/LIRaBcABrjuwhUDlysD9nXfeeW+L76VEXY+cBQPjCUD0zyOZ+kg50PDOUDQ/nAUD4wlA8M5QND+cBQPjCUDwzlA0P5wFA+MJQPDOUDQ/nAUD4wlA8M5QND+cBQPjCUDwzlA/MbgcaFglci2kAAAAAASUVORK5CYII=\", \"id\": \"el516344434298896\"}], \"xdomain\": [-0.5, 27.5], \"ylim\": [27.5, -0.5], \"paths\": [], \"sharey\": [], \"sharex\": [], \"axesbgalpha\": null, \"axes\": [{\"scale\": \"linear\", \"tickformat\": \"\", \"grid\": {\"gridOn\": false}, \"fontsize\": null, \"position\": \"bottom\", \"nticks\": 0, \"tickvalues\": []}, {\"scale\": \"linear\", \"tickformat\": \"\", \"grid\": {\"gridOn\": false}, \"fontsize\": null, \"position\": \"left\", \"nticks\": 0, \"tickvalues\": []}], \"lines\": [], \"markers\": [], \"id\": \"el516344423125072\", \"ydomain\": [27.5, -0.5], \"collections\": [], \"xscale\": \"linear\", \"bbox\": [0.22425239463601535, 0.13752394636015342, 0.15749521072796932, 0.78747605363984663]}, {\"xlim\": [-0.5, 27.5], \"yscale\": \"linear\", \"axesbg\": \"#EAEAF2\", \"texts\": [{\"v_baseline\": \"hanging\", \"h_anchor\": \"middle\", \"color\": \"#262626\", \"text\": \"2\", \"coordinates\": \"axes\", \"zorder\": 3, \"alpha\": 1, \"fontsize\": 11.0, \"position\": [0.4999999999999995, -0.044093051543256823], \"rotation\": -0.0, \"id\": \"el516344434320208\"}], \"zoomable\": true, \"images\": [{\"coordinates\": \"data\", \"zorder\": 0, \"extent\": [-0.5, 27.5, 27.5, -0.5], \"alpha\": null, \"data\": \"iVBORw0KGgoAAAANSUhEUgAAAH8AAAB/CAYAAADGvR0TAAAABHNCSVQICAgIfAhkiAAABGVJREFUeJztnV9oT2EYx98jE/tljVJmF1ai4UJipbhYq7VCatNull9TRkoZd0qWJqNoU5g/i+RvoiGSzYXYlWal1JQo0lgrNfSzIo4Lbt7nfWwn+53z7rfv93P3PD2/c97t09N5e897zgnyjQkNgWSK7wEQf1A+MJQPDOUDQ/nAUD4wlA8M5QND+cBQPjCUDwzlA0P5wFA+MJQPDOUDQ/nATPU9gCTpE3Fpt1JU+UNJyn/TsFvSMMsK6865JXdGGZsP2PnAUD4wlA8M5QMT5OLW7dlKrlPEZVeUorqvEY5+0k117LHjrUeV3zWKuNmp2B0csOKzEUYTJ+x8YCgfGMoHJiev+ZmNSvKmtjgj6bKit8F6p2JphKNMV3KfZBv9fOkWdSy2wtS2CCeLEXY+MJQPDOUDQ/nA5MSEL7NMJJ5/VKparagnOOJUyHliZlyjGp3MLiXZVm2FqeBWjCMYG3Y+MJQPDOUD430nT6GIB9YoRT237fh8kVNSscWOn45rVFngg5a8akV9ZoZTsSKe0aiw84GhfGAoHxjKB8b7Is9pEadD5e5cYZ4Vpj7HN55sod2wa5N/W02eU5NKcN2HnQ8M5QND+cB4X+S5JuJ0iXsdrMuBa/x/cVHJzUzu9Ox8YCgfGMoHhvKB8T7heyzi1Dsvw/DDcr+nZ+cDQ/nAUD4w3q/5WNjv8ql97WkYf2HnA0P5wFA+MJQPjPedPJOVjNZWPy9YYSrYnMRQ/gk7HxjKB4bygaF8YDjhi4nMDiUp3jPAFzIRb1A+MJQPzKS5q3dDxPMj/Oabkisf/1D+cGKRm+t4la2jZwV2PjCUDwzlA0P5wEy4CZ/2qNrgSpHovaxUrRbxTqWmRMQtTkXGrHNyNcETK+5yKox542Tkh9yMMf0JPogXAXY+MJQPDOUD4/2af1fEFeE0pWrADkfmOBX38+24VjnKPBE3meNOTVrZTt0ZVlrxg+ChUzP3mcy4M4OGY8qgPMLOB4bygaF8YCgfmER38mjfxygI5SdOm5yawaDNihdkb0iRyMg3aBdF+IxblfKCxe7sjCdbsPOBoXxgKB+YWBd5qkRcEL5XqoqtqCb44lRoN1KS5JJYHUpHmCW1TLDruwY7HxjKB4bygaF8YGJd5JFfp7+ufEWjOLAXQ4adimRJKbmhMC0y7WMfqMrdtcNFHjJhoHxgKB8Y7zt5Bvba8cKDbo36ZdIssEnJnQkPK1n7bdC9gXs9L9svEl1uXy0Jfllx/+jDix12PjCUDwzlA0P5wMS6yCMXTIa2K0WnRkSi2a2pP2THytNarfZcypQqp1ort0433lOqNjiZcjFR61V+VS/i9rDaqWkN7G+l7lOOkyTsfGAoHxjKB8b7e/jkW2qKHylF5RF2y5oaO/wuHwQzxoinrF7IO0/GmFURzjRZYOcDQ/nAUD4wlA+M9wkf8Qc7HxjKB4bygaF8YCgfGMoHhvKBoXxgKB8YygeG8oGhfGAoHxjKB4bygaF8YCgfmN8Zzp09wMaH3AAAAABJRU5ErkJggg==\", \"id\": \"el516344434026064\"}], \"xdomain\": [-0.5, 27.5], \"ylim\": [27.5, -0.5], \"paths\": [], \"sharey\": [], \"sharex\": [], \"axesbgalpha\": null, \"axes\": [{\"scale\": \"linear\", \"tickformat\": \"\", \"grid\": {\"gridOn\": false}, \"fontsize\": null, \"position\": \"bottom\", \"nticks\": 0, \"tickvalues\": []}, {\"scale\": \"linear\", \"tickformat\": \"\", \"grid\": {\"gridOn\": false}, \"fontsize\": null, \"position\": \"left\", \"nticks\": 0, \"tickvalues\": []}], \"lines\": [], \"markers\": [], \"id\": \"el516344434200016\", \"ydomain\": [27.5, -0.5], \"collections\": [], \"xscale\": \"linear\", \"bbox\": [0.42125239463601538, 0.13752394636015342, 0.15749521072796935, 0.78747605363984663]}, {\"xlim\": [-0.5, 27.5], \"yscale\": \"linear\", \"axesbg\": \"#EAEAF2\", \"texts\": [{\"v_baseline\": \"hanging\", \"h_anchor\": \"middle\", \"color\": \"#262626\", \"text\": \"6\", \"coordinates\": \"axes\", \"zorder\": 3, \"alpha\": 1, \"fontsize\": 11.0, \"position\": [0.4999999999999995, -0.044093051543256823], \"rotation\": -0.0, \"id\": \"el516344433970832\"}], \"zoomable\": true, \"images\": [{\"coordinates\": \"data\", \"zorder\": 0, \"extent\": [-0.5, 27.5, 27.5, -0.5], \"alpha\": null, \"data\": \"iVBORw0KGgoAAAANSUhEUgAAAH8AAAB/CAYAAADGvR0TAAAABHNCSVQICAgIfAhkiAAABDBJREFUeJztnctrFEEQh3s0ghgFk0AOhgTjAyMY8aSighjNH6AYEPGgIka8SA4SQQ+iGCEHo+ADFTEeo3jSiyJ78wU+jkYhQUUlRDSiLhEftOeuKtlxMruzu7/fd6uidqbho+hmumc2muWcdwSSaVkPgGQH5QND+cBQPjCUDwzlA0P5wFA+MDVZD6ASeCriNn9U1bRHYW60aKNJD3Y+MJQPDOUDQ/nARNzVC5lh5L48FomVv1TN+Sj85cH0hlQ02PnAUD4wlA8MH/IIRqykMcdXA+x8YCgfGMoHhvKBgV7wNRu5hndxfrldZQ5NdTAZwM4HhvKBoXxgoOf84Z1Gssl6oBMuBN5GN1TFn1RGVFrY+cBQPjCUDwzlAwO14BuUias98X7Y1xqES9MYTBnAzgeG8oGhfGCq9vTuViN3Tb1mdVgXTejzuw31Yfwj6aDKDHY+MJQPDOUDQ/nAVM2Cb46Ix/wCo+qliIdVxVDUrnK7E4+qvGHnA0P5wFA+MFUz5+cviMS+wq9YjUT6gc7ylMZTCbDzgaF8YCgfGMoHpiIXfLeMXIefEJnZquaTWOC1qorKPIKdFHY+MJQPDOUDUxGndzeJuMM/NKrkHH9RVXSKuJjzu9xocs65eSK23gbPF2Es/4KdDwzlA0P5wFA+MBXxkCd/TiT2F96xO2Ls2A0kvP96EZ8yato2iESu0ah6H4aX9Rhr9/7HwKYIOx8YygeG8oGhfGDKbsFnLaa6/TeRmamLesLFU+NpXRLn6Zn8GzXnnGvzm0XmeowrJWM8xs5jWrDzgaF8YCgfmLKb8/PW31L1y4c631XJwqguiMdi3OuVkWvyL4zsIhH/Nmo2huGZB7rkgLy2vK5zP8WcX6cq0oOdDwzlA0P5wFA+MJkv+AZF3OUnjSpx2my+sRv2pvC95HKrxX80quYauZthuGabvr84WbbKuErO3xMZuV/IBR8pEZQPDOUDk/nR7S0qYw0pnHObY8zvFi2jMmPN70Mq0xftCOITxq/kAZwBNb87px4ETUSqopQfdWbnA0P5wFA+MJQPTOYLvniEu3ifE17lkfgu42pvvS2nz/LI9WVeHtN2zrncc5FYZhTdCaLuel0RZzcyLdj5wFA+MJQPTOYbO19FPN1br2K9DsM9i1VF7koYG9OpW3FXJDp3GVWXjFwS9OOrs1H4NaHelO6UFHY+MJQPDOUDQ/nAZL7gaxbxsLXeqyn8Pn56WMeyj4Xh/ZOqYnxdGK81rvIh8ZiKAzsfGMoHhvKByXzOlywxcs9k8rhR1FX4w8tuUpz6vW1cp1+nap8YdVUAOx8YygeG8oGhfGDKbsFHSgc7HxjKB4bygaF8YCgfGMoHhvKBoXxgKB8YygeG8oGhfGAoHxjKB4bygaF8YCgfGMoHhvKBoXxgKB8YygeG8oGhfGAoHxjKB+YvQ+CUqwoAkMsAAAAASUVORK5CYII=\", \"id\": \"el516344426938768\"}], \"xdomain\": [-0.5, 27.5], \"ylim\": [27.5, -0.5], \"paths\": [], \"sharey\": [], \"sharex\": [], \"axesbgalpha\": null, \"axes\": [{\"scale\": \"linear\", \"tickformat\": \"\", \"grid\": {\"gridOn\": false}, \"fontsize\": null, \"position\": \"bottom\", \"nticks\": 0, \"tickvalues\": []}, {\"scale\": \"linear\", \"tickformat\": \"\", \"grid\": {\"gridOn\": false}, \"fontsize\": null, \"position\": \"left\", \"nticks\": 0, \"tickvalues\": []}], \"lines\": [], \"markers\": [], \"id\": \"el516344433985424\", \"ydomain\": [27.5, -0.5], \"collections\": [], \"xscale\": \"linear\", \"bbox\": [0.61825239463601545, 0.13752394636015342, 0.15749521072796935, 0.78747605363984663]}, {\"xlim\": [-0.5, 27.5], \"yscale\": \"linear\", \"axesbg\": \"#EAEAF2\", \"texts\": [{\"v_baseline\": \"hanging\", \"h_anchor\": \"middle\", \"color\": \"#262626\", \"text\": \"5\", \"coordinates\": \"axes\", \"zorder\": 3, \"alpha\": 1, \"fontsize\": 11.0, \"position\": [0.49999999999999994, -0.044093051543256823], \"rotation\": -0.0, \"id\": \"el516344426960080\"}], \"zoomable\": true, \"images\": [{\"coordinates\": \"data\", \"zorder\": 0, \"extent\": [-0.5, 27.5, 27.5, -0.5], \"alpha\": null, \"data\": \"iVBORw0KGgoAAAANSUhEUgAAAH8AAAB/CAYAAADGvR0TAAAABHNCSVQICAgIfAhkiAAABA5JREFUeJztnTtoFUEUhmfFFOY2PtHGxqggCAY0CFFQYvBRBKMgCooi2qmIGHyARIJBMAgqBMFCEwSD+MDY2FwQQ0ghKcQLCaKCLwKiFhYuKRTHes4ccF137+y9//9153D27sDHYYaZu7tRozHWEEhmhB4ACQflA0P5wFA+MJQPDOUDQ/nAUD4wlA8M5QND+cBQPjCUDwzlA0P5wFA+MJQPDOUDQ/nAUD4wlA8M5QMzM/QAQnJCyfVeTXDhce3KPhGPeBVHo3YnHkhwqzxh5wND+cBQPjAR0uNaB0R83fYrVYeyudn0LC/V0ujGk9ncKTXsfGAoHxjKB4byganbBd9sJTfVLhLln0rVai+zO6o48dcE9/+g5D4nuK6asPOBoXxgKB+Yuj3YmTqiJPunReKaV9Im5ndjjHmezZAKBzsfGMoHhvKBoXxg6maT546IO+2oUrXGDXf6J2+lR5kNqfCw84GhfGAoH5i6mfNj+0BktvtFBxucsDSY23BqAnY+MJQPDOUDQ/nA1OSpXjxXy64V8QavonfQjT8qvzJvm5J8kqJHJn57qbaVbhz6tJCdDwzlA0P5wNTEJk+PiLvsJ6Vqvoi/KTXy/7PNSs17JSdn50VKzToRK8upYbHJtEP5mSrCzgeG8oGhfGAoH5jCbfJsUXJdVr4DRy7uNLSah25YafEqbq3yrzom4lbll8v2ssic9IteKhcGhJ0PDOUDQ/nAUD4whdvhi5cqyTfyOfpfSpG7UpuIXnsVZ0T89F8G9hdiu0tkhrya4cjd4dub4f3TwM4HhvKBoXxgCrfJ0/PWz51f5s6VY0rN5pzGo3FYzcqXN8oHyIy5ncNY/gd2PjCUDwzlA0P5wBRuk6cWiC8oyXPyZU/7vZJSdD+X8aSFnQ8M5QND+cBwzk9Ag4i/K5tMpknM+UuU9/28y2xImcDOB4bygaF8YCgfmMKd6hWRZzIhF3fGGPPFXeAVbXGnwc4HhvKBoXxgOOcL5CdXjTGm2Y6LzA2v5uzCXIaTK+x8YCgfGMoHhvKBCX6qt1jEr5TP17fedOOsHnN/oeSWW+0Tqz+caCya41VU86/jWcHOB4bygaF8YILP+XdF3GGVQ5NucWii/Xs2AfF6kRjV5nf/8e/xyL3/xnS3LxzsfGAoHxjKB4bygQm+4ItXiMSksuAzj91w3x6/ZIGIr8ilpDHGbBLxKa/iYjTg5fpErC0TaxF2PjCUDwzlAxN8zu8W8WmrHbeIz1Kp7+GTjPipS1udsCRfzAcGOx8YygeG8oGhfGCCL/gkFSXXZDtE5p5fNOSevJWVtxp3ph5VfcLOB4bygaF8YAo355Pqwc4HhvKBoXxgKB8YygeG8oGhfGAoHxjKB4bygaF8YCgfGMoH5g8gc4ypQNkuagAAAABJRU5ErkJggg==\", \"id\": \"el516344427102800\"}], \"xdomain\": [-0.5, 27.5], \"ylim\": [27.5, -0.5], \"paths\": [], \"sharey\": [], \"sharex\": [], \"axesbgalpha\": null, \"axes\": [{\"scale\": \"linear\", \"tickformat\": \"\", \"grid\": {\"gridOn\": false}, \"fontsize\": null, \"position\": \"bottom\", \"nticks\": 0, \"tickvalues\": []}, {\"scale\": \"linear\", \"tickformat\": \"\", \"grid\": {\"gridOn\": false}, \"fontsize\": null, \"position\": \"left\", \"nticks\": 0, \"tickvalues\": []}], \"lines\": [], \"markers\": [], \"id\": \"el516344433871440\", \"ydomain\": [27.5, -0.5], \"collections\": [], \"xscale\": \"linear\", \"bbox\": [0.81525239463601551, 0.13752394636015342, 0.15749521072796935, 0.78747605363984663]}], \"height\": 160.0, \"width\": 800.0, \"plugins\": [{\"type\": \"reset\"}, {\"enabled\": false, \"button\": true, \"type\": \"zoom\"}, {\"enabled\": false, \"button\": true, \"type\": \"boxzoom\"}], \"data\": {}, \"id\": \"el516344423016080\"});\n",
        "            })\n",
        "         });\n",
        "}\n",
        "</script>"
       ],
       "metadata": {},
       "output_type": "display_data",
       "png": "[encoded data removed]",
       "text": [
        "<matplotlib.figure.Figure at 0x107a1de90>"
       ]
      }
     ],
     "prompt_number": 3
    },
    {
     "cell_type": "heading",
     "level": 3,
     "metadata": {},
     "source": [
      "2. Building a ConvNet"
     ]
    },
    {
     "cell_type": "markdown",
     "metadata": {},
     "source": [
      "Now that everything looks right, we're ready to move on to creating a network for training. We'll do this in several consectutive steps.\n",
      "\n",
      "1. Define inputs\n",
      "2. Define processing nodes\n",
      "3. Define a scalar loss\n",
      "4. Define outputs\n",
      "5. Specify connections between nodes, i.e. edges\n",
      "6. Create the network, i.e. graph"
     ]
    },
    {
     "cell_type": "heading",
     "level": 4,
     "metadata": {},
     "source": [
      "2.1 Defining Inputs"
     ]
    },
    {
     "cell_type": "markdown",
     "metadata": {},
     "source": [
      "For our digit classifier, we'll need three inputs: \n",
      "\n",
      "* input image `data`, as a 4D Tensor of floats (default)\n",
      "* ground truth class `labels`, as a vector of int32's\n",
      "* a scalar `learning_rate` to control the magnitude of each update"
     ]
    },
    {
     "cell_type": "code",
     "collapsed": false,
     "input": [
      "# shape = (num_samples, 1, x_dim, y_dim)\n",
      "data = optimus.Input(\n",
      "    name='data',\n",
      "    shape=(None, 1, 28, 28))\n",
      "\n",
      "# shape = (num_samples, )\n",
      "class_labels = optimus.Input(\n",
      "    name='labels',\n",
      "    shape=(None,),\n",
      "    dtype='int32')\n",
      "\n",
      "# scalar -> None\n",
      "learning_rate = optimus.Input(\n",
      "    name='learning_rate',\n",
      "    shape=None)"
     ],
     "language": "python",
     "metadata": {},
     "outputs": [],
     "prompt_number": 4
    },
    {
     "cell_type": "markdown",
     "metadata": {},
     "source": [
      "Some important aspects to note:\n",
      "\n",
      "* As a convention, the first dimension corresponds to unique samples or datapoints. \n",
      "* `None` can be passed as the first dimension of an `Input` to indicate that it is variable. Only the first dimension may ever be `None`. Doing so allows for the graph to accept different number of inputs at a time, but will be slightly less efficient. Keep this trade-off in mind.\n",
      "* Passing `None` as the entire shape specifies the `Input` is a scalar. \n",
      "* All inputs must be **uniquely** named; these are the keyword argument names under which a network will accept. It is good practice to keep the instance names consistent with `Input` names, as is done with `data`, although it is not strictly necessary, as with `labels`. For clarity, the graph will expect an input under `labels`, **not** `class_labels`."
     ]
    },
    {
     "cell_type": "heading",
     "level": 4,
     "metadata": {},
     "source": [
      "2.2 Defining Nodes"
     ]
    },
    {
     "cell_type": "markdown",
     "metadata": {},
     "source": [
      "Most convoltional neural networks are comprised of one or more convolutional layers, with or without pooling, followed by one or more affine, or fully-connected, layers. For classifiers, a softmax operation is often applied to the output of the final layer so that it behaves like a probability mass function over the known classes, i.e. bounded on [0, 1] and sums to 1.\n",
      "\n",
      "Here, we'll create one convolutional node, two affine nodes, and a softmax operator, which will do the main work of our graph."
     ]
    },
    {
     "cell_type": "code",
     "collapsed": false,
     "input": [
      "conv = optimus.Conv3D(\n",
      "    name='conv',\n",
      "    input_shape=data.shape,\n",
      "    weight_shape=(15, 1, 9, 9),  # (num_kernels, num_input_maps, x_dim, y_dim)\n",
      "    pool_shape=(2, 2),\n",
      "    act_type='relu')\n",
      "\n",
      "affine = optimus.Affine(\n",
      "    name='affine',\n",
      "    input_shape=conv.output.shape,\n",
      "    output_shape=(None, 512,),  # (num_samples, num_outputs)\n",
      "    act_type='relu')\n",
      "\n",
      "classifier = optimus.Affine(\n",
      "    name='classifier',\n",
      "    input_shape=affine.output.shape,\n",
      "    output_shape=(None, 10),  # (num_samples, num_outputs)\n",
      "    act_type='linear')\n",
      "\n",
      "softmax = optimus.Softmax(name='softmax')"
     ],
     "language": "python",
     "metadata": {},
     "outputs": [],
     "prompt_number": 5
    },
    {
     "cell_type": "markdown",
     "metadata": {},
     "source": [
      "Observations:\n",
      "   * Like `Inputs`, nodes must also be uniquely named. \n",
      "   * When creating nodes, the `shape` attributes of `Inputs` or node `Outputs` can be used to easily specify the dimensions a node might expect, as in line 3 or 10 respectively. Check the class definitions of a given node to determine the named outputs (see below).\n",
      "   * Here, we'll use 3D convolutions since they're --generally-- faster than other convolution operations. The Conv3D operation will expect a 4D input, which is the motivation of the singleton dimension previously. As given by the comment in line 14, this Conv3D node will have 15 kernels, shaped (1, 9, 9).\n",
      "   * The first two nodes use `relu`, or Rectified Linear Unit, activation functions; other common activation functions include `sigmoid`, `tanh`, or `linear`, as in line 18.\n",
      "   * Similar to the shape arguments of `Inputs`, both `Affine` nodes have output shapes that start with `None`; this indicates that the first dimension, `num_samples`, is variable. \n",
      "   * Note that `Affine` nodes are defined by input and output shapes, whereas `Conv3D` nodes are defined by input and weight shapes, sparing you the need to determine, in advance, what the output shape will be."
     ]
    },
    {
     "cell_type": "heading",
     "level": 4,
     "metadata": {},
     "source": [
      "2.3 Defining Losses"
     ]
    },
    {
     "cell_type": "markdown",
     "metadata": {},
     "source": [
      "In order to train a network via backpropagation, it is necessary to compute some scalar `loss` such that all parameters in the network can be differentiated with respect to it. The choice or design of a loss function is crucial and hardly trivial, and an ongoing research topic; for those interested, the following is suggested: \n",
      "\n",
      "http://yann.lecun.com/exdb/publis/pdf/lecun-06.pdf\n",
      "\n",
      "Using optimus, a great many custom loss functions can be stitched together by some combination of nodes. However, more often than not, it's more than sufficient to use one of the provided losses, which are use-case specific nodes. Here, we'll use a negative log-likelihood loss, which typically works well for 1-of-K classifier problems."
     ]
    },
    {
     "cell_type": "code",
     "collapsed": false,
     "input": [
      "nll = optimus.NegativeLogLikelihoodLoss(name='nll')"
     ],
     "language": "python",
     "metadata": {},
     "outputs": [],
     "prompt_number": 6
    },
    {
     "cell_type": "markdown",
     "metadata": {},
     "source": [
      "As we will see shortly, the `NegativeLogLikelihoodLoss` node has two inputs, `likelihoods` and `index`, and outputs a scalar `output`, which is the mean negative log-likehood of the \"correct\" answers."
     ]
    },
    {
     "cell_type": "heading",
     "level": 4,
     "metadata": {},
     "source": [
      "2.4 Define Outputs"
     ]
    },
    {
     "cell_type": "markdown",
     "metadata": {},
     "source": [
      "Finally, to get information out of our network, it is necessary to create `Outputs`, which act as signal taps on the graph. Any node that computes some result can be tapped as an output. To demonstrate, we'll specify outputs for `likelihoods`, from the `softmax` node, and the overall `loss`, from the `nll` loss node."
     ]
    },
    {
     "cell_type": "code",
     "collapsed": false,
     "input": [
      "likelihoods = optimus.Output(name='likelihoods')\n",
      "loss = optimus.Output(name='loss')"
     ],
     "language": "python",
     "metadata": {},
     "outputs": [],
     "prompt_number": 7
    },
    {
     "cell_type": "markdown",
     "metadata": {},
     "source": [
      "Note that any one graph can produce a multitude of outputs, so long as they are named and specified as connections. This can be particularly useful when debugging a network, or to explore what the learned representations happen to look like."
     ]
    },
    {
     "cell_type": "heading",
     "level": 4,
     "metadata": {},
     "source": [
      "2.5 Specifying Connections"
     ]
    },
    {
     "cell_type": "markdown",
     "metadata": {},
     "source": [
      "While much neural network research makes use of a cascade of singular layers, it is possible to specify arbitrarily connected acyclic (no loops) graphs. This can be crucial when learning on multimodal data, i.e. synchronized audio and video, or combining multiple sources of ground truth data, i.e. joint speech and face recognition.\n",
      "\n",
      "For convenience, `ConnectionManager` are used to specify edges as a list of \"(from, to)\" tuples, like one were connecting objects with lines:"
     ]
    },
    {
     "cell_type": "code",
     "collapsed": false,
     "input": [
      "trainer_edges = optimus.ConnectionManager([\n",
      "    # Input\n",
      "    (data, conv.input),\n",
      "    # Nodes\n",
      "    (conv.output, affine.input),\n",
      "    (affine.output, classifier.input),\n",
      "    (classifier.output, softmax.input),\n",
      "    (softmax.output, nll.likelihoods),\n",
      "    (class_labels, nll.index),\n",
      "    # Outputs\n",
      "    (softmax.output, likelihoods),\n",
      "    (nll.output, loss)])\n",
      "\n",
      "update_edges = optimus.ConnectionManager([\n",
      "    (learning_rate, conv.weights),\n",
      "    (learning_rate, conv.bias),\n",
      "    (learning_rate, affine.weights),\n",
      "    (learning_rate, affine.bias),\n",
      "    (learning_rate, classifier.weights),\n",
      "    (learning_rate, classifier.bias)])"
     ],
     "language": "python",
     "metadata": {},
     "outputs": [],
     "prompt_number": 8
    },
    {
     "cell_type": "markdown",
     "metadata": {},
     "source": [
      "Note that two ConnectionManagers are used here: one connecting inputs to outputs, and a second connecting the `learning_rate` to the parameters of each node. Specifying the connectivity of learning rates makes it easy to use different values for different parameters, or simply not update certain parameters. One may come across these needs when attempting to train a network with coordinate block descent or supervised fine-tuning of pre-trained parameters.\n",
      "\n",
      "A word of caution: ports, e.g. inputs or outputs, are single-input, multi-output (SIMO). In other words, one output can be mapped to many inputs, but only one connection can be mapped to one input.\n",
      "\n",
      "Strictly speaking, ConnectionManagers are not a necessity, but the \"(from, to)\" connection paradigm is easier to rationalize than the form that is needed, being \"{from : [to, ...]}\":"
     ]
    },
    {
     "cell_type": "code",
     "collapsed": false,
     "input": [
      "# Show the dictionary of {from -> [to, ...]}\n",
      "trainer_edges.connections"
     ],
     "language": "python",
     "metadata": {},
     "outputs": [
      {
       "metadata": {},
       "output_type": "pyout",
       "prompt_number": 9,
       "text": [
        "{'affine.output': ['classifier.input'],\n",
        " 'classifier.output': ['softmax.input'],\n",
        " 'conv.output': ['affine.input'],\n",
        " 'data': ['conv.input'],\n",
        " 'labels': ['nll.index'],\n",
        " 'nll.output': ['loss'],\n",
        " 'softmax.output': ['nll.likelihoods', 'likelihoods']}"
       ]
      }
     ],
     "prompt_number": 9
    },
    {
     "cell_type": "heading",
     "level": 4,
     "metadata": {},
     "source": [
      "2.6 Create the Full Graph"
     ]
    },
    {
     "cell_type": "markdown",
     "metadata": {},
     "source": [
      "Having specified the various parts of our training graph, we can now assemble the full network and randomly intialize the parameters (which default to zero)."
     ]
    },
    {
     "cell_type": "code",
     "collapsed": false,
     "input": [
      "trainer = optimus.Graph(\n",
      "    name='mnist_trainer',\n",
      "    inputs=[data, class_labels, learning_rate],\n",
      "    nodes=[conv, affine, classifier, softmax, nll],\n",
      "    connections=trainer_edges.connections,\n",
      "    outputs=[loss, likelihoods],\n",
      "    loss=loss,\n",
      "    updates=update_edges.connections)\n",
      "\n",
      "for node in conv, affine, classifier:\n",
      "    optimus.random_init(node.weights, mean=0.0, std=0.1)"
     ],
     "language": "python",
     "metadata": {},
     "outputs": [],
     "prompt_number": 10
    },
    {
     "cell_type": "markdown",
     "metadata": {},
     "source": [
      "Now the training graph can be called directly with mnist data. Here, we'll take the push just the few datapoints through the graph."
     ]
    },
    {
     "cell_type": "code",
     "collapsed": false,
     "input": [
      "X, y = [_[:3] for _ in train]\n",
      "print trainer(data=X, labels=y, learning_rate=0.02)"
     ],
     "language": "python",
     "metadata": {},
     "outputs": [
      {
       "output_type": "stream",
       "stream": "stdout",
       "text": [
        "OrderedDict([('loss', array(4.029506946906932)), ('likelihoods', array([[ 0.0023,  0.0018,  0.0018,  0.0045,  0.6638,  0.0246,  0.0017,\n",
        "         0.2796,  0.0002,  0.0198],\n",
        "       [ 0.0008,  0.0019,  0.0051,  0.0044,  0.8305,  0.0104,  0.0006,\n",
        "         0.1399,  0.0001,  0.0064],\n",
        "       [ 0.0006,  0.027 ,  0.2056,  0.0705,  0.277 ,  0.0067,  0.0841,\n",
        "         0.3116,  0.0002,  0.0167]]))])\n"
       ]
      }
     ],
     "prompt_number": 11
    },
    {
     "cell_type": "markdown",
     "metadata": {},
     "source": [
      "Here we see that, given the appropriate inputs, a graph returns a dictionary of values, keyed by the named outputs requested."
     ]
    },
    {
     "cell_type": "heading",
     "level": 3,
     "metadata": {},
     "source": [
      "3. Training the Network"
     ]
    },
    {
     "cell_type": "markdown",
     "metadata": {},
     "source": [
      "Once the `trainer` network is built, pushing data through the graph with a positive scalar for `learning_rate` will cause the parameters to move in the direction of a smaller loss value. If the learning rate is too small this may take a considerable amount of time; conversely, too large a learning rate will cause the network to diverge, often quickly, and die a glorious death. \n",
      "\n",
      "This iterative training process can be simplied through two pieces of code: a minibatch data generator and a training driver."
     ]
    },
    {
     "cell_type": "heading",
     "level": 4,
     "metadata": {},
     "source": [
      "3.1 Minibatch generator"
     ]
    },
    {
     "cell_type": "markdown",
     "metadata": {},
     "source": [
      "While research of stochastic learning methods, and in particular *curriculum* learning, is ongoing, here we'll define a generator that returns batches of randomly sampled datapoints.\n",
      "\n",
      "**Note:** If generators make you weak in the knees, the following post is a highly recommended introduction (or refresher):\n",
      "\n",
      "http://www.jeffknupp.com/blog/2013/04/07/improve-your-python-yield-and-generators-explained/"
     ]
    },
    {
     "cell_type": "code",
     "collapsed": false,
     "input": [
      "def minibatch(data, labels, batch_size, max_iter=np.inf):\n",
      "    \"\"\"Random mini-batch generator.\n",
      "\n",
      "    Parameters\n",
      "    ----------\n",
      "    data : array_like, len=N\n",
      "        Observation data.\n",
      "    labels : array_like, len=N\n",
      "        Labels corresponding the the given data.\n",
      "    batch_size : int\n",
      "        Number of datapoints to return at each iteration.\n",
      "    max_iter : int, default=inf\n",
      "        Number of iterations before raising a StopIteration.\n",
      "\n",
      "    Yields\n",
      "    ------\n",
      "    batch : dict\n",
      "        Random batch of datapoints, under the keys `data` and `labels`.\n",
      "    \"\"\"\n",
      "    num_points = len(labels)\n",
      "    order = np.random.permutation(num_points)\n",
      "    idx, count = 0, 0\n",
      "    while count < max_iter:\n",
      "        x, y = [], []\n",
      "        while len(y) < batch_size:\n",
      "            x.append(data[order[idx]])\n",
      "            y.append(labels[order[idx]])\n",
      "            idx += 1\n",
      "            if idx >= num_points:\n",
      "                idx = 0\n",
      "                np.random.shuffle(order)\n",
      "        # Look here! I'm important!\n",
      "        yield dict(data=np.asarray(x), labels=np.asarray(y))\n",
      "        count += 1"
     ],
     "language": "python",
     "metadata": {},
     "outputs": [],
     "prompt_number": 12
    },
    {
     "cell_type": "markdown",
     "metadata": {},
     "source": [
      "Generator or logic nuances are left as an exercise, but there is one crucial component of this generator that allows it to work seamlessly with an optimus Driver. In line 33, the generator yields a dictionary with keys corresponding to the names of the graph's inputs (defined above in [2.1](#2.1-Defining-Inputs)). \n",
      "\n",
      "Note, however, that we don't trouble ourselves with constants for the time being. These will be provided as a separate dictionary of static values."
     ]
    },
    {
     "cell_type": "heading",
     "level": 4,
     "metadata": {},
     "source": [
      "3.2 Create a Driver"
     ]
    },
    {
     "cell_type": "markdown",
     "metadata": {},
     "source": [
      "When training neural networks, there is much repeated infrastructure common to all graphs, such as parameter checkpointing, loss statistics, and progress reporting. The Driver class serves to condense this functionality and more into a single object thus simplifying the process of learning parameters.\n",
      "\n",
      "The following passes the training graph to a driver, and calling the `fit` method begins the training process. The right-most value reports the loss as a function of iteration."
     ]
    },
    {
     "cell_type": "code",
     "collapsed": false,
     "input": [
      "driver = optimus.Driver(graph=trainer)\n",
      "driver.fit(\n",
      "    source=minibatch(train[0], train[1], batch_size=25), \n",
      "    hyperparams={'learning_rate': 0.02}, \n",
      "    max_iter=500, print_freq=25)"
     ],
     "language": "python",
     "metadata": {},
     "outputs": [
      {
       "output_type": "stream",
       "stream": "stdout",
       "text": [
        "[Sun Jan  4 16:26:46 2015] 0 / 500: 6.5427\n",
        "[Sun Jan  4 16:26:48 2015] 25 / 500: 1.3902"
       ]
      },
      {
       "output_type": "stream",
       "stream": "stdout",
       "text": [
        "\n",
        "[Sun Jan  4 16:26:49 2015] 50 / 500: 0.5861"
       ]
      },
      {
       "output_type": "stream",
       "stream": "stdout",
       "text": [
        "\n",
        "[Sun Jan  4 16:26:51 2015] 75 / 500: 0.9272"
       ]
      },
      {
       "output_type": "stream",
       "stream": "stdout",
       "text": [
        "\n",
        "[Sun Jan  4 16:26:52 2015] 100 / 500: 0.2396"
       ]
      },
      {
       "output_type": "stream",
       "stream": "stdout",
       "text": [
        "\n",
        "[Sun Jan  4 16:26:53 2015] 125 / 500: 0.5248"
       ]
      },
      {
       "output_type": "stream",
       "stream": "stdout",
       "text": [
        "\n",
        "[Sun Jan  4 16:26:55 2015] 150 / 500: 0.4974"
       ]
      },
      {
       "output_type": "stream",
       "stream": "stdout",
       "text": [
        "\n",
        "[Sun Jan  4 16:26:56 2015] 175 / 500: 0.2758"
       ]
      },
      {
       "output_type": "stream",
       "stream": "stdout",
       "text": [
        "\n",
        "[Sun Jan  4 16:26:58 2015] 200 / 500: 0.5690"
       ]
      },
      {
       "output_type": "stream",
       "stream": "stdout",
       "text": [
        "\n",
        "[Sun Jan  4 16:26:59 2015] 225 / 500: 0.5261"
       ]
      },
      {
       "output_type": "stream",
       "stream": "stdout",
       "text": [
        "\n",
        "[Sun Jan  4 16:27:00 2015] 250 / 500: 0.2655"
       ]
      },
      {
       "output_type": "stream",
       "stream": "stdout",
       "text": [
        "\n",
        "[Sun Jan  4 16:27:02 2015] 275 / 500: 0.3480"
       ]
      },
      {
       "output_type": "stream",
       "stream": "stdout",
       "text": [
        "\n",
        "[Sun Jan  4 16:27:03 2015] 300 / 500: 0.1473"
       ]
      },
      {
       "output_type": "stream",
       "stream": "stdout",
       "text": [
        "\n",
        "[Sun Jan  4 16:27:04 2015] 325 / 500: 0.1616"
       ]
      },
      {
       "output_type": "stream",
       "stream": "stdout",
       "text": [
        "\n",
        "[Sun Jan  4 16:27:06 2015] 350 / 500: 0.2204"
       ]
      },
      {
       "output_type": "stream",
       "stream": "stdout",
       "text": [
        "\n",
        "[Sun Jan  4 16:27:07 2015] 375 / 500: 0.1016"
       ]
      },
      {
       "output_type": "stream",
       "stream": "stdout",
       "text": [
        "\n",
        "[Sun Jan  4 16:27:08 2015] 400 / 500: 0.0663"
       ]
      },
      {
       "output_type": "stream",
       "stream": "stdout",
       "text": [
        "\n",
        "[Sun Jan  4 16:27:10 2015] 425 / 500: 0.1364"
       ]
      },
      {
       "output_type": "stream",
       "stream": "stdout",
       "text": [
        "\n",
        "[Sun Jan  4 16:27:11 2015] 450 / 500: 0.0649"
       ]
      },
      {
       "output_type": "stream",
       "stream": "stdout",
       "text": [
        "\n",
        "[Sun Jan  4 16:27:12 2015] 475 / 500: 0.2099"
       ]
      },
      {
       "output_type": "stream",
       "stream": "stdout",
       "text": [
        "\n",
        "[Sun Jan  4 16:27:14 2015] 500 / 500: 0.7969"
       ]
      },
      {
       "output_type": "stream",
       "stream": "stdout",
       "text": [
        "\n"
       ]
      }
     ],
     "prompt_number": 13
    },
    {
     "cell_type": "code",
     "collapsed": false,
     "input": [
      "status = trainer(data=valid[0], labels=valid[1], learning_rate=0.0)\n",
      "labels_pred = status['likelihoods'].argmax(axis=1)\n",
      "print \"Classification Error: {0:0.4}\".format(1.0 - np.equal(valid[1], labels_pred).mean())\n",
      "print \"                Loss: {0:0.4}\".format(float(status['loss']))"
     ],
     "language": "python",
     "metadata": {},
     "outputs": [
      {
       "output_type": "stream",
       "stream": "stdout",
       "text": [
        "Classification Error: 0.0659\n",
        "                Loss: 0.2309\n"
       ]
      }
     ],
     "prompt_number": 14
    }
   ],
   "metadata": {}
  }
 ]
}